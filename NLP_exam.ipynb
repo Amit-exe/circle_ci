{
  "nbformat": 4,
  "nbformat_minor": 0,
  "metadata": {
    "colab": {
      "provenance": [],
      "authorship_tag": "ABX9TyNDlQ/o6tgQFfLBMxD9sbwy",
      "include_colab_link": true
    },
    "kernelspec": {
      "name": "python3",
      "display_name": "Python 3"
    },
    "language_info": {
      "name": "python"
    }
  },
  "cells": [
    {
      "cell_type": "markdown",
      "metadata": {
        "id": "view-in-github",
        "colab_type": "text"
      },
      "source": [
        "<a href=\"https://colab.research.google.com/github/Amit-exe/circle_ci/blob/circleci-project-setup/NLP_exam.ipynb\" target=\"_parent\"><img src=\"https://colab.research.google.com/assets/colab-badge.svg\" alt=\"Open In Colab\"/></a>"
      ]
    },
    {
      "cell_type": "code",
      "execution_count": 1,
      "metadata": {
        "id": "BJOvK_72BiH_"
      },
      "outputs": [],
      "source": [
        "import nltk"
      ]
    },
    {
      "cell_type": "code",
      "source": [
        "nltk.download('all')\n",
        "from nltk.book import *"
      ],
      "metadata": {
        "colab": {
          "base_uri": "https://localhost:8080/"
        },
        "id": "HQ2OBAQJBlsO",
        "outputId": "3ca7da4e-2eef-42bf-8aab-c58c2a34db5b"
      },
      "execution_count": 2,
      "outputs": [
        {
          "output_type": "stream",
          "name": "stderr",
          "text": [
            "[nltk_data] Downloading collection 'all'\n",
            "[nltk_data]    | \n",
            "[nltk_data]    | Downloading package abc to /root/nltk_data...\n",
            "[nltk_data]    |   Unzipping corpora/abc.zip.\n",
            "[nltk_data]    | Downloading package alpino to /root/nltk_data...\n",
            "[nltk_data]    |   Unzipping corpora/alpino.zip.\n",
            "[nltk_data]    | Downloading package averaged_perceptron_tagger to\n",
            "[nltk_data]    |     /root/nltk_data...\n",
            "[nltk_data]    |   Unzipping taggers/averaged_perceptron_tagger.zip.\n",
            "[nltk_data]    | Downloading package averaged_perceptron_tagger_ru to\n",
            "[nltk_data]    |     /root/nltk_data...\n",
            "[nltk_data]    |   Unzipping\n",
            "[nltk_data]    |       taggers/averaged_perceptron_tagger_ru.zip.\n",
            "[nltk_data]    | Downloading package basque_grammars to\n",
            "[nltk_data]    |     /root/nltk_data...\n",
            "[nltk_data]    |   Unzipping grammars/basque_grammars.zip.\n",
            "[nltk_data]    | Downloading package biocreative_ppi to\n",
            "[nltk_data]    |     /root/nltk_data...\n",
            "[nltk_data]    |   Unzipping corpora/biocreative_ppi.zip.\n",
            "[nltk_data]    | Downloading package bllip_wsj_no_aux to\n",
            "[nltk_data]    |     /root/nltk_data...\n",
            "[nltk_data]    |   Unzipping models/bllip_wsj_no_aux.zip.\n",
            "[nltk_data]    | Downloading package book_grammars to\n",
            "[nltk_data]    |     /root/nltk_data...\n",
            "[nltk_data]    |   Unzipping grammars/book_grammars.zip.\n",
            "[nltk_data]    | Downloading package brown to /root/nltk_data...\n",
            "[nltk_data]    |   Unzipping corpora/brown.zip.\n",
            "[nltk_data]    | Downloading package brown_tei to /root/nltk_data...\n",
            "[nltk_data]    |   Unzipping corpora/brown_tei.zip.\n",
            "[nltk_data]    | Downloading package cess_cat to /root/nltk_data...\n",
            "[nltk_data]    |   Unzipping corpora/cess_cat.zip.\n",
            "[nltk_data]    | Downloading package cess_esp to /root/nltk_data...\n",
            "[nltk_data]    |   Unzipping corpora/cess_esp.zip.\n",
            "[nltk_data]    | Downloading package chat80 to /root/nltk_data...\n",
            "[nltk_data]    |   Unzipping corpora/chat80.zip.\n",
            "[nltk_data]    | Downloading package city_database to\n",
            "[nltk_data]    |     /root/nltk_data...\n",
            "[nltk_data]    |   Unzipping corpora/city_database.zip.\n",
            "[nltk_data]    | Downloading package cmudict to /root/nltk_data...\n",
            "[nltk_data]    |   Unzipping corpora/cmudict.zip.\n",
            "[nltk_data]    | Downloading package comparative_sentences to\n",
            "[nltk_data]    |     /root/nltk_data...\n",
            "[nltk_data]    |   Unzipping corpora/comparative_sentences.zip.\n",
            "[nltk_data]    | Downloading package comtrans to /root/nltk_data...\n",
            "[nltk_data]    | Downloading package conll2000 to /root/nltk_data...\n",
            "[nltk_data]    |   Unzipping corpora/conll2000.zip.\n",
            "[nltk_data]    | Downloading package conll2002 to /root/nltk_data...\n",
            "[nltk_data]    |   Unzipping corpora/conll2002.zip.\n",
            "[nltk_data]    | Downloading package conll2007 to /root/nltk_data...\n",
            "[nltk_data]    | Downloading package crubadan to /root/nltk_data...\n",
            "[nltk_data]    |   Unzipping corpora/crubadan.zip.\n",
            "[nltk_data]    | Downloading package dependency_treebank to\n",
            "[nltk_data]    |     /root/nltk_data...\n",
            "[nltk_data]    |   Unzipping corpora/dependency_treebank.zip.\n",
            "[nltk_data]    | Downloading package dolch to /root/nltk_data...\n",
            "[nltk_data]    |   Unzipping corpora/dolch.zip.\n",
            "[nltk_data]    | Downloading package europarl_raw to\n",
            "[nltk_data]    |     /root/nltk_data...\n",
            "[nltk_data]    |   Unzipping corpora/europarl_raw.zip.\n",
            "[nltk_data]    | Downloading package extended_omw to\n",
            "[nltk_data]    |     /root/nltk_data...\n",
            "[nltk_data]    | Downloading package floresta to /root/nltk_data...\n",
            "[nltk_data]    |   Unzipping corpora/floresta.zip.\n",
            "[nltk_data]    | Downloading package framenet_v15 to\n",
            "[nltk_data]    |     /root/nltk_data...\n",
            "[nltk_data]    |   Unzipping corpora/framenet_v15.zip.\n",
            "[nltk_data]    | Downloading package framenet_v17 to\n",
            "[nltk_data]    |     /root/nltk_data...\n",
            "[nltk_data]    |   Unzipping corpora/framenet_v17.zip.\n",
            "[nltk_data]    | Downloading package gazetteers to /root/nltk_data...\n",
            "[nltk_data]    |   Unzipping corpora/gazetteers.zip.\n",
            "[nltk_data]    | Downloading package genesis to /root/nltk_data...\n",
            "[nltk_data]    |   Unzipping corpora/genesis.zip.\n",
            "[nltk_data]    | Downloading package gutenberg to /root/nltk_data...\n",
            "[nltk_data]    |   Unzipping corpora/gutenberg.zip.\n",
            "[nltk_data]    | Downloading package ieer to /root/nltk_data...\n",
            "[nltk_data]    |   Unzipping corpora/ieer.zip.\n",
            "[nltk_data]    | Downloading package inaugural to /root/nltk_data...\n",
            "[nltk_data]    |   Unzipping corpora/inaugural.zip.\n",
            "[nltk_data]    | Downloading package indian to /root/nltk_data...\n",
            "[nltk_data]    |   Unzipping corpora/indian.zip.\n",
            "[nltk_data]    | Downloading package jeita to /root/nltk_data...\n",
            "[nltk_data]    | Downloading package kimmo to /root/nltk_data...\n",
            "[nltk_data]    |   Unzipping corpora/kimmo.zip.\n",
            "[nltk_data]    | Downloading package knbc to /root/nltk_data...\n",
            "[nltk_data]    | Downloading package large_grammars to\n",
            "[nltk_data]    |     /root/nltk_data...\n",
            "[nltk_data]    |   Unzipping grammars/large_grammars.zip.\n",
            "[nltk_data]    | Downloading package lin_thesaurus to\n",
            "[nltk_data]    |     /root/nltk_data...\n",
            "[nltk_data]    |   Unzipping corpora/lin_thesaurus.zip.\n",
            "[nltk_data]    | Downloading package mac_morpho to /root/nltk_data...\n",
            "[nltk_data]    |   Unzipping corpora/mac_morpho.zip.\n",
            "[nltk_data]    | Downloading package machado to /root/nltk_data...\n",
            "[nltk_data]    | Downloading package masc_tagged to /root/nltk_data...\n",
            "[nltk_data]    | Downloading package maxent_ne_chunker to\n",
            "[nltk_data]    |     /root/nltk_data...\n",
            "[nltk_data]    |   Unzipping chunkers/maxent_ne_chunker.zip.\n",
            "[nltk_data]    | Downloading package maxent_treebank_pos_tagger to\n",
            "[nltk_data]    |     /root/nltk_data...\n",
            "[nltk_data]    |   Unzipping taggers/maxent_treebank_pos_tagger.zip.\n",
            "[nltk_data]    | Downloading package moses_sample to\n",
            "[nltk_data]    |     /root/nltk_data...\n",
            "[nltk_data]    |   Unzipping models/moses_sample.zip.\n",
            "[nltk_data]    | Downloading package movie_reviews to\n",
            "[nltk_data]    |     /root/nltk_data...\n",
            "[nltk_data]    |   Unzipping corpora/movie_reviews.zip.\n",
            "[nltk_data]    | Downloading package mte_teip5 to /root/nltk_data...\n",
            "[nltk_data]    |   Unzipping corpora/mte_teip5.zip.\n",
            "[nltk_data]    | Downloading package mwa_ppdb to /root/nltk_data...\n",
            "[nltk_data]    |   Unzipping misc/mwa_ppdb.zip.\n",
            "[nltk_data]    | Downloading package names to /root/nltk_data...\n",
            "[nltk_data]    |   Unzipping corpora/names.zip.\n",
            "[nltk_data]    | Downloading package nombank.1.0 to /root/nltk_data...\n",
            "[nltk_data]    | Downloading package nonbreaking_prefixes to\n",
            "[nltk_data]    |     /root/nltk_data...\n",
            "[nltk_data]    |   Unzipping corpora/nonbreaking_prefixes.zip.\n",
            "[nltk_data]    | Downloading package nps_chat to /root/nltk_data...\n",
            "[nltk_data]    |   Unzipping corpora/nps_chat.zip.\n",
            "[nltk_data]    | Downloading package omw to /root/nltk_data...\n",
            "[nltk_data]    | Downloading package omw-1.4 to /root/nltk_data...\n",
            "[nltk_data]    | Downloading package opinion_lexicon to\n",
            "[nltk_data]    |     /root/nltk_data...\n",
            "[nltk_data]    |   Unzipping corpora/opinion_lexicon.zip.\n",
            "[nltk_data]    | Downloading package panlex_swadesh to\n",
            "[nltk_data]    |     /root/nltk_data...\n",
            "[nltk_data]    | Downloading package paradigms to /root/nltk_data...\n",
            "[nltk_data]    |   Unzipping corpora/paradigms.zip.\n",
            "[nltk_data]    | Downloading package pe08 to /root/nltk_data...\n",
            "[nltk_data]    |   Unzipping corpora/pe08.zip.\n",
            "[nltk_data]    | Downloading package perluniprops to\n",
            "[nltk_data]    |     /root/nltk_data...\n",
            "[nltk_data]    |   Unzipping misc/perluniprops.zip.\n",
            "[nltk_data]    | Downloading package pil to /root/nltk_data...\n",
            "[nltk_data]    |   Unzipping corpora/pil.zip.\n",
            "[nltk_data]    | Downloading package pl196x to /root/nltk_data...\n",
            "[nltk_data]    |   Unzipping corpora/pl196x.zip.\n",
            "[nltk_data]    | Downloading package porter_test to /root/nltk_data...\n",
            "[nltk_data]    |   Unzipping stemmers/porter_test.zip.\n",
            "[nltk_data]    | Downloading package ppattach to /root/nltk_data...\n",
            "[nltk_data]    |   Unzipping corpora/ppattach.zip.\n",
            "[nltk_data]    | Downloading package problem_reports to\n",
            "[nltk_data]    |     /root/nltk_data...\n",
            "[nltk_data]    |   Unzipping corpora/problem_reports.zip.\n",
            "[nltk_data]    | Downloading package product_reviews_1 to\n",
            "[nltk_data]    |     /root/nltk_data...\n",
            "[nltk_data]    |   Unzipping corpora/product_reviews_1.zip.\n",
            "[nltk_data]    | Downloading package product_reviews_2 to\n",
            "[nltk_data]    |     /root/nltk_data...\n",
            "[nltk_data]    |   Unzipping corpora/product_reviews_2.zip.\n",
            "[nltk_data]    | Downloading package propbank to /root/nltk_data...\n",
            "[nltk_data]    | Downloading package pros_cons to /root/nltk_data...\n",
            "[nltk_data]    |   Unzipping corpora/pros_cons.zip.\n",
            "[nltk_data]    | Downloading package ptb to /root/nltk_data...\n",
            "[nltk_data]    |   Unzipping corpora/ptb.zip.\n",
            "[nltk_data]    | Downloading package punkt to /root/nltk_data...\n",
            "[nltk_data]    |   Unzipping tokenizers/punkt.zip.\n",
            "[nltk_data]    | Downloading package qc to /root/nltk_data...\n",
            "[nltk_data]    |   Unzipping corpora/qc.zip.\n",
            "[nltk_data]    | Downloading package reuters to /root/nltk_data...\n",
            "[nltk_data]    | Downloading package rslp to /root/nltk_data...\n",
            "[nltk_data]    |   Unzipping stemmers/rslp.zip.\n",
            "[nltk_data]    | Downloading package rte to /root/nltk_data...\n",
            "[nltk_data]    |   Unzipping corpora/rte.zip.\n",
            "[nltk_data]    | Downloading package sample_grammars to\n",
            "[nltk_data]    |     /root/nltk_data...\n",
            "[nltk_data]    |   Unzipping grammars/sample_grammars.zip.\n",
            "[nltk_data]    | Downloading package semcor to /root/nltk_data...\n",
            "[nltk_data]    | Downloading package senseval to /root/nltk_data...\n",
            "[nltk_data]    |   Unzipping corpora/senseval.zip.\n",
            "[nltk_data]    | Downloading package sentence_polarity to\n",
            "[nltk_data]    |     /root/nltk_data...\n",
            "[nltk_data]    |   Unzipping corpora/sentence_polarity.zip.\n",
            "[nltk_data]    | Downloading package sentiwordnet to\n",
            "[nltk_data]    |     /root/nltk_data...\n",
            "[nltk_data]    |   Unzipping corpora/sentiwordnet.zip.\n",
            "[nltk_data]    | Downloading package shakespeare to /root/nltk_data...\n",
            "[nltk_data]    |   Unzipping corpora/shakespeare.zip.\n",
            "[nltk_data]    | Downloading package sinica_treebank to\n",
            "[nltk_data]    |     /root/nltk_data...\n",
            "[nltk_data]    |   Unzipping corpora/sinica_treebank.zip.\n",
            "[nltk_data]    | Downloading package smultron to /root/nltk_data...\n",
            "[nltk_data]    |   Unzipping corpora/smultron.zip.\n",
            "[nltk_data]    | Downloading package snowball_data to\n",
            "[nltk_data]    |     /root/nltk_data...\n",
            "[nltk_data]    | Downloading package spanish_grammars to\n",
            "[nltk_data]    |     /root/nltk_data...\n",
            "[nltk_data]    |   Unzipping grammars/spanish_grammars.zip.\n",
            "[nltk_data]    | Downloading package state_union to /root/nltk_data...\n",
            "[nltk_data]    |   Unzipping corpora/state_union.zip.\n",
            "[nltk_data]    | Downloading package stopwords to /root/nltk_data...\n",
            "[nltk_data]    |   Unzipping corpora/stopwords.zip.\n",
            "[nltk_data]    | Downloading package subjectivity to\n",
            "[nltk_data]    |     /root/nltk_data...\n",
            "[nltk_data]    |   Unzipping corpora/subjectivity.zip.\n",
            "[nltk_data]    | Downloading package swadesh to /root/nltk_data...\n",
            "[nltk_data]    |   Unzipping corpora/swadesh.zip.\n",
            "[nltk_data]    | Downloading package switchboard to /root/nltk_data...\n",
            "[nltk_data]    |   Unzipping corpora/switchboard.zip.\n",
            "[nltk_data]    | Downloading package tagsets to /root/nltk_data...\n",
            "[nltk_data]    |   Unzipping help/tagsets.zip.\n",
            "[nltk_data]    | Downloading package timit to /root/nltk_data...\n",
            "[nltk_data]    |   Unzipping corpora/timit.zip.\n",
            "[nltk_data]    | Downloading package toolbox to /root/nltk_data...\n",
            "[nltk_data]    |   Unzipping corpora/toolbox.zip.\n",
            "[nltk_data]    | Downloading package treebank to /root/nltk_data...\n",
            "[nltk_data]    |   Unzipping corpora/treebank.zip.\n",
            "[nltk_data]    | Downloading package twitter_samples to\n",
            "[nltk_data]    |     /root/nltk_data...\n",
            "[nltk_data]    |   Unzipping corpora/twitter_samples.zip.\n",
            "[nltk_data]    | Downloading package udhr to /root/nltk_data...\n",
            "[nltk_data]    |   Unzipping corpora/udhr.zip.\n",
            "[nltk_data]    | Downloading package udhr2 to /root/nltk_data...\n",
            "[nltk_data]    |   Unzipping corpora/udhr2.zip.\n",
            "[nltk_data]    | Downloading package unicode_samples to\n",
            "[nltk_data]    |     /root/nltk_data...\n",
            "[nltk_data]    |   Unzipping corpora/unicode_samples.zip.\n",
            "[nltk_data]    | Downloading package universal_tagset to\n",
            "[nltk_data]    |     /root/nltk_data...\n",
            "[nltk_data]    |   Unzipping taggers/universal_tagset.zip.\n",
            "[nltk_data]    | Downloading package universal_treebanks_v20 to\n",
            "[nltk_data]    |     /root/nltk_data...\n",
            "[nltk_data]    | Downloading package vader_lexicon to\n",
            "[nltk_data]    |     /root/nltk_data...\n",
            "[nltk_data]    | Downloading package verbnet to /root/nltk_data...\n",
            "[nltk_data]    |   Unzipping corpora/verbnet.zip.\n",
            "[nltk_data]    | Downloading package verbnet3 to /root/nltk_data...\n",
            "[nltk_data]    |   Unzipping corpora/verbnet3.zip.\n",
            "[nltk_data]    | Downloading package webtext to /root/nltk_data...\n",
            "[nltk_data]    |   Unzipping corpora/webtext.zip.\n",
            "[nltk_data]    | Downloading package wmt15_eval to /root/nltk_data...\n",
            "[nltk_data]    |   Unzipping models/wmt15_eval.zip.\n",
            "[nltk_data]    | Downloading package word2vec_sample to\n",
            "[nltk_data]    |     /root/nltk_data...\n",
            "[nltk_data]    |   Unzipping models/word2vec_sample.zip.\n",
            "[nltk_data]    | Downloading package wordnet to /root/nltk_data...\n",
            "[nltk_data]    | Downloading package wordnet2021 to /root/nltk_data...\n",
            "[nltk_data]    | Downloading package wordnet31 to /root/nltk_data...\n",
            "[nltk_data]    | Downloading package wordnet_ic to /root/nltk_data...\n",
            "[nltk_data]    |   Unzipping corpora/wordnet_ic.zip.\n",
            "[nltk_data]    | Downloading package words to /root/nltk_data...\n",
            "[nltk_data]    |   Unzipping corpora/words.zip.\n",
            "[nltk_data]    | Downloading package ycoe to /root/nltk_data...\n",
            "[nltk_data]    |   Unzipping corpora/ycoe.zip.\n",
            "[nltk_data]    | \n",
            "[nltk_data]  Done downloading collection all\n"
          ]
        },
        {
          "output_type": "stream",
          "name": "stdout",
          "text": [
            "*** Introductory Examples for the NLTK Book ***\n",
            "Loading text1, ..., text9 and sent1, ..., sent9\n",
            "Type the name of the text or sentence to view it.\n",
            "Type: 'texts()' or 'sents()' to list the materials.\n",
            "text1: Moby Dick by Herman Melville 1851\n",
            "text2: Sense and Sensibility by Jane Austen 1811\n",
            "text3: The Book of Genesis\n",
            "text4: Inaugural Address Corpus\n",
            "text5: Chat Corpus\n",
            "text6: Monty Python and the Holy Grail\n",
            "text7: Wall Street Journal\n",
            "text8: Personals Corpus\n",
            "text9: The Man Who Was Thursday by G . K . Chesterton 1908\n"
          ]
        }
      ]
    },
    {
      "cell_type": "markdown",
      "source": [
        "PRAC 1\n"
      ],
      "metadata": {
        "id": "G-kVZGI14i9J"
      }
    },
    {
      "cell_type": "code",
      "source": [
        "from nltk.tokenize import word_tokenize , sent_tokenize"
      ],
      "metadata": {
        "id": "qy-UoH_24ne9"
      },
      "execution_count": 92,
      "outputs": []
    },
    {
      "cell_type": "code",
      "source": [
        "dataset = \"orem Ipsum is simply dummy text of the printing and typesetting industry. Lorem Ipsum has been the industry's standard dummy text ever since the 1500s, when an unknown printer took a galley of type and scrambled it to make a type specimen book. It has survived not only five centuries, but also the leap into electronic typesetting, remaining essentially unchanged. It was popularised in\""
      ],
      "metadata": {
        "id": "4QjjRSDk4wWl"
      },
      "execution_count": 93,
      "outputs": []
    },
    {
      "cell_type": "code",
      "source": [
        "tokens = sent_tokenize(dataset)\n",
        "print(tokens)"
      ],
      "metadata": {
        "colab": {
          "base_uri": "https://localhost:8080/"
        },
        "id": "Gfl-3JqM4wTP",
        "outputId": "840e317d-2acd-4692-e9b1-8d8bb5762dcc"
      },
      "execution_count": 96,
      "outputs": [
        {
          "output_type": "stream",
          "name": "stdout",
          "text": [
            "['orem Ipsum is simply dummy text of the printing and typesetting industry.', \"Lorem Ipsum has been the industry's standard dummy text ever since the 1500s, when an unknown printer took a galley of type and scrambled it to make a type specimen book.\", 'It has survived not only five centuries, but also the leap into electronic typesetting, remaining essentially unchanged.', 'It was popularised in']\n"
          ]
        }
      ]
    },
    {
      "cell_type": "code",
      "source": [
        "for sen in tokens:\n",
        "  print(sen)"
      ],
      "metadata": {
        "colab": {
          "base_uri": "https://localhost:8080/"
        },
        "id": "2pJM4OVy4wP8",
        "outputId": "dec4be40-8432-4b6b-c009-37181bb88b6d"
      },
      "execution_count": 97,
      "outputs": [
        {
          "output_type": "stream",
          "name": "stdout",
          "text": [
            "orem Ipsum is simply dummy text of the printing and typesetting industry.\n",
            "Lorem Ipsum has been the industry's standard dummy text ever since the 1500s, when an unknown printer took a galley of type and scrambled it to make a type specimen book.\n",
            "It has survived not only five centuries, but also the leap into electronic typesetting, remaining essentially unchanged.\n",
            "It was popularised in\n"
          ]
        }
      ]
    },
    {
      "cell_type": "code",
      "source": [
        "# word tokenizer\n",
        "tokens = word_tokenize(dataset)\n",
        "print(tokens)\n",
        "for word in tokens:\n",
        "  print(word)"
      ],
      "metadata": {
        "colab": {
          "base_uri": "https://localhost:8080/"
        },
        "id": "pLZtBsgW4wNs",
        "outputId": "f4625977-0c2d-494e-b2bd-fbbf2e9b9c74"
      },
      "execution_count": 98,
      "outputs": [
        {
          "output_type": "stream",
          "name": "stdout",
          "text": [
            "['orem', 'Ipsum', 'is', 'simply', 'dummy', 'text', 'of', 'the', 'printing', 'and', 'typesetting', 'industry', '.', 'Lorem', 'Ipsum', 'has', 'been', 'the', 'industry', \"'s\", 'standard', 'dummy', 'text', 'ever', 'since', 'the', '1500s', ',', 'when', 'an', 'unknown', 'printer', 'took', 'a', 'galley', 'of', 'type', 'and', 'scrambled', 'it', 'to', 'make', 'a', 'type', 'specimen', 'book', '.', 'It', 'has', 'survived', 'not', 'only', 'five', 'centuries', ',', 'but', 'also', 'the', 'leap', 'into', 'electronic', 'typesetting', ',', 'remaining', 'essentially', 'unchanged', '.', 'It', 'was', 'popularised', 'in']\n",
            "orem\n",
            "Ipsum\n",
            "is\n",
            "simply\n",
            "dummy\n",
            "text\n",
            "of\n",
            "the\n",
            "printing\n",
            "and\n",
            "typesetting\n",
            "industry\n",
            ".\n",
            "Lorem\n",
            "Ipsum\n",
            "has\n",
            "been\n",
            "the\n",
            "industry\n",
            "'s\n",
            "standard\n",
            "dummy\n",
            "text\n",
            "ever\n",
            "since\n",
            "the\n",
            "1500s\n",
            ",\n",
            "when\n",
            "an\n",
            "unknown\n",
            "printer\n",
            "took\n",
            "a\n",
            "galley\n",
            "of\n",
            "type\n",
            "and\n",
            "scrambled\n",
            "it\n",
            "to\n",
            "make\n",
            "a\n",
            "type\n",
            "specimen\n",
            "book\n",
            ".\n",
            "It\n",
            "has\n",
            "survived\n",
            "not\n",
            "only\n",
            "five\n",
            "centuries\n",
            ",\n",
            "but\n",
            "also\n",
            "the\n",
            "leap\n",
            "into\n",
            "electronic\n",
            "typesetting\n",
            ",\n",
            "remaining\n",
            "essentially\n",
            "unchanged\n",
            ".\n",
            "It\n",
            "was\n",
            "popularised\n",
            "in\n"
          ]
        }
      ]
    },
    {
      "cell_type": "code",
      "source": [
        "hindi_data = \"छपाई और अक्षर योजन उद्योग का एक साधारण डमी पाठ है. Lorem Ipsum सन १५०० के बाद से अभी तक इस उद्योग का मानक डमी पाठ मन गया, जब एक अज्ञात मुद्रक ने नमूना लेकर एक नमूना किताब बनाई. यह न केवल पाँच सदियों से जीवित रहा बल्कि इसने इलेक्ट्रॉनिक मीडिया में छलांग लगाने के बाद भी मूलतः अपरिवर्तित रहा. यह 1960 के दशक में Letraset Lorem Ipsum अंश युक्त पत्र के रिलीज के साथ लोकप्रिय हुआ, और हाल ही में Aldus PageMaker Lorem Ipsum के संस्करणों सहित तरह डेस्कटॉप प्रकाशन सॉफ्टवेयर के साथ अधिक प्रचलित हुआ\""
      ],
      "metadata": {
        "id": "Pj4M2qOw4wLV"
      },
      "execution_count": 99,
      "outputs": []
    },
    {
      "cell_type": "code",
      "source": [
        "print(word_tokenize(hindi_data))\n",
        "print(sent_tokenize(hindi_data))"
      ],
      "metadata": {
        "colab": {
          "base_uri": "https://localhost:8080/"
        },
        "id": "c7v9DB0I4wJB",
        "outputId": "1ee95bc3-3aa0-4cc1-d270-93ceec4bc4af"
      },
      "execution_count": 100,
      "outputs": [
        {
          "output_type": "stream",
          "name": "stdout",
          "text": [
            "['छपाई', 'और', 'अक्षर', 'योजन', 'उद्योग', 'का', 'एक', 'साधारण', 'डमी', 'पाठ', 'है', '.', 'Lorem', 'Ipsum', 'सन', '१५००', 'के', 'बाद', 'से', 'अभी', 'तक', 'इस', 'उद्योग', 'का', 'मानक', 'डमी', 'पाठ', 'मन', 'गया', ',', 'जब', 'एक', 'अज्ञात', 'मुद्रक', 'ने', 'नमूना', 'लेकर', 'एक', 'नमूना', 'किताब', 'बनाई', '.', 'यह', 'न', 'केवल', 'पाँच', 'सदियों', 'से', 'जीवित', 'रहा', 'बल्कि', 'इसने', 'इलेक्ट्रॉनिक', 'मीडिया', 'में', 'छलांग', 'लगाने', 'के', 'बाद', 'भी', 'मूलतः', 'अपरिवर्तित', 'रहा', '.', 'यह', '1960', 'के', 'दशक', 'में', 'Letraset', 'Lorem', 'Ipsum', 'अंश', 'युक्त', 'पत्र', 'के', 'रिलीज', 'के', 'साथ', 'लोकप्रिय', 'हुआ', ',', 'और', 'हाल', 'ही', 'में', 'Aldus', 'PageMaker', 'Lorem', 'Ipsum', 'के', 'संस्करणों', 'सहित', 'तरह', 'डेस्कटॉप', 'प्रकाशन', 'सॉफ्टवेयर', 'के', 'साथ', 'अधिक', 'प्रचलित', 'हुआ']\n",
            "['छपाई और अक्षर योजन उद्योग का एक साधारण डमी पाठ है.', 'Lorem Ipsum सन १५०० के बाद से अभी तक इस उद्योग का मानक डमी पाठ मन गया, जब एक अज्ञात मुद्रक ने नमूना लेकर एक नमूना किताब बनाई.', 'यह न केवल पाँच सदियों से जीवित रहा बल्कि इसने इलेक्ट्रॉनिक मीडिया में छलांग लगाने के बाद भी मूलतः अपरिवर्तित रहा.', 'यह 1960 के दशक में Letraset Lorem Ipsum अंश युक्त पत्र के रिलीज के साथ लोकप्रिय हुआ, और हाल ही में Aldus PageMaker Lorem Ipsum के संस्करणों सहित तरह डेस्कटॉप प्रकाशन सॉफ्टवेयर के साथ अधिक प्रचलित हुआ']\n"
          ]
        }
      ]
    },
    {
      "cell_type": "code",
      "source": [
        "from nltk.tokenize import TreebankWordTokenizer\n",
        "tokenizer = TreebankWordTokenizer()\n",
        "print(tokenizer.tokenize(dataset))"
      ],
      "metadata": {
        "colab": {
          "base_uri": "https://localhost:8080/"
        },
        "id": "dMeH5iB54wFI",
        "outputId": "ae2675a8-5ffb-40c5-e5c6-b012445cb654"
      },
      "execution_count": 101,
      "outputs": [
        {
          "output_type": "stream",
          "name": "stdout",
          "text": [
            "['orem', 'Ipsum', 'is', 'simply', 'dummy', 'text', 'of', 'the', 'printing', 'and', 'typesetting', 'industry.', 'Lorem', 'Ipsum', 'has', 'been', 'the', 'industry', \"'s\", 'standard', 'dummy', 'text', 'ever', 'since', 'the', '1500s', ',', 'when', 'an', 'unknown', 'printer', 'took', 'a', 'galley', 'of', 'type', 'and', 'scrambled', 'it', 'to', 'make', 'a', 'type', 'specimen', 'book.', 'It', 'has', 'survived', 'not', 'only', 'five', 'centuries', ',', 'but', 'also', 'the', 'leap', 'into', 'electronic', 'typesetting', ',', 'remaining', 'essentially', 'unchanged.', 'It', 'was', 'popularised', 'in']\n"
          ]
        }
      ]
    },
    {
      "cell_type": "code",
      "source": [
        "from nltk.tokenize import WordPunctTokenizer\n",
        "tokenizer = WordPunctTokenizer()\n",
        "print(tokenizer.tokenize(dataset))"
      ],
      "metadata": {
        "colab": {
          "base_uri": "https://localhost:8080/"
        },
        "id": "Fu5BL21Q4wCq",
        "outputId": "a5301962-92fe-4df0-8591-93c49aa3c619"
      },
      "execution_count": 103,
      "outputs": [
        {
          "output_type": "stream",
          "name": "stdout",
          "text": [
            "['orem', 'Ipsum', 'is', 'simply', 'dummy', 'text', 'of', 'the', 'printing', 'and', 'typesetting', 'industry', '.', 'Lorem', 'Ipsum', 'has', 'been', 'the', 'industry', \"'\", 's', 'standard', 'dummy', 'text', 'ever', 'since', 'the', '1500s', ',', 'when', 'an', 'unknown', 'printer', 'took', 'a', 'galley', 'of', 'type', 'and', 'scrambled', 'it', 'to', 'make', 'a', 'type', 'specimen', 'book', '.', 'It', 'has', 'survived', 'not', 'only', 'five', 'centuries', ',', 'but', 'also', 'the', 'leap', 'into', 'electronic', 'typesetting', ',', 'remaining', 'essentially', 'unchanged', '.', 'It', 'was', 'popularised', 'in']\n"
          ]
        }
      ]
    },
    {
      "cell_type": "code",
      "source": [
        "print(tokenizer.tokenize(hindi_data))"
      ],
      "metadata": {
        "colab": {
          "base_uri": "https://localhost:8080/"
        },
        "id": "hb-pC6Ox4wAm",
        "outputId": "0459b05f-d2d4-4047-8163-69573545c20e"
      },
      "execution_count": 105,
      "outputs": [
        {
          "output_type": "stream",
          "name": "stdout",
          "text": [
            "['छप', 'ा', 'ई', 'और', 'अक', '्', 'षर', 'य', 'ो', 'जन', 'उद', '्', 'य', 'ो', 'ग', 'क', 'ा', 'एक', 'स', 'ा', 'ध', 'ा', 'रण', 'डम', 'ी', 'प', 'ा', 'ठ', 'ह', 'ै.', 'Lorem', 'Ipsum', 'सन', '१५००', 'क', 'े', 'ब', 'ा', 'द', 'स', 'े', 'अभ', 'ी', 'तक', 'इस', 'उद', '्', 'य', 'ो', 'ग', 'क', 'ा', 'म', 'ा', 'नक', 'डम', 'ी', 'प', 'ा', 'ठ', 'मन', 'गय', 'ा,', 'जब', 'एक', 'अज', '्', 'ञ', 'ा', 'त', 'म', 'ु', 'द', '्', 'रक', 'न', 'े', 'नम', 'ू', 'न', 'ा', 'ल', 'े', 'कर', 'एक', 'नम', 'ू', 'न', 'ा', 'क', 'ि', 'त', 'ा', 'ब', 'बन', 'ा', 'ई', '.', 'यह', 'न', 'क', 'े', 'वल', 'प', 'ाँ', 'च', 'सद', 'ि', 'य', 'ों', 'स', 'े', 'ज', 'ी', 'व', 'ि', 'त', 'रह', 'ा', 'बल', '्', 'क', 'ि', 'इसन', 'े', 'इल', 'े', 'क', '्', 'ट', '्', 'र', 'ॉ', 'न', 'ि', 'क', 'म', 'ी', 'ड', 'ि', 'य', 'ा', 'म', 'ें', 'छल', 'ां', 'ग', 'लग', 'ा', 'न', 'े', 'क', 'े', 'ब', 'ा', 'द', 'भ', 'ी', 'म', 'ू', 'लत', 'ः', 'अपर', 'ि', 'वर', '्', 'त', 'ि', 'त', 'रह', 'ा.', 'यह', '1960', 'क', 'े', 'दशक', 'म', 'ें', 'Letraset', 'Lorem', 'Ipsum', 'अ', 'ं', 'श', 'य', 'ु', 'क', '्', 'त', 'पत', '्', 'र', 'क', 'े', 'र', 'ि', 'ल', 'ी', 'ज', 'क', 'े', 'स', 'ा', 'थ', 'ल', 'ो', 'कप', '्', 'र', 'ि', 'य', 'ह', 'ु', 'आ', ',', 'और', 'ह', 'ा', 'ल', 'ह', 'ी', 'म', 'ें', 'Aldus', 'PageMaker', 'Lorem', 'Ipsum', 'क', 'े', 'स', 'ं', 'स', '्', 'करण', 'ों', 'सह', 'ि', 'त', 'तरह', 'ड', 'े', 'स', '्', 'कट', 'ॉ', 'प', 'प', '्', 'रक', 'ा', 'शन', 'स', 'ॉ', 'फ', '्', 'टव', 'े', 'यर', 'क', 'े', 'स', 'ा', 'थ', 'अध', 'ि', 'क', 'प', '्', 'रचल', 'ि', 'त', 'ह', 'ु', 'आ']\n"
          ]
        }
      ]
    },
    {
      "cell_type": "markdown",
      "source": [
        "PRAC 2"
      ],
      "metadata": {
        "id": "x98ZmVCc694L"
      }
    },
    {
      "cell_type": "code",
      "source": [
        "from nltk.corpus import stopwords\n",
        "from nltk.tokenize import word_tokenize\n"
      ],
      "metadata": {
        "id": "HImYMdb069Xf"
      },
      "execution_count": 106,
      "outputs": []
    },
    {
      "cell_type": "code",
      "source": [
        "dataset = \"Three years into the pandemic, China's zero-tolerance measures, from shut borders to frequent lockdowns, contrast sharply with the rest of the world, which has largely decided to live with the virus. The strict approach has battered the world's second-largest economy, put mental strain on hundreds of millions and last month prompted the biggest show of public discontent in mainland China since President Xi Jinping took\""
      ],
      "metadata": {
        "id": "-7w4_F1u4v-Q"
      },
      "execution_count": 107,
      "outputs": []
    },
    {
      "cell_type": "code",
      "source": [
        "print(dataset)"
      ],
      "metadata": {
        "colab": {
          "base_uri": "https://localhost:8080/"
        },
        "id": "CB40RZA94v79",
        "outputId": "6739a805-0d1f-4128-a261-94ef9cc5ddef"
      },
      "execution_count": 108,
      "outputs": [
        {
          "output_type": "stream",
          "name": "stdout",
          "text": [
            "Three years into the pandemic, China's zero-tolerance measures, from shut borders to frequent lockdowns, contrast sharply with the rest of the world, which has largely decided to live with the virus. The strict approach has battered the world's second-largest economy, put mental strain on hundreds of millions and last month prompted the biggest show of public discontent in mainland China since President Xi Jinping took\n"
          ]
        }
      ]
    },
    {
      "cell_type": "code",
      "source": [
        "words = word_tokenize(dataset)"
      ],
      "metadata": {
        "id": "eoa2HRJh4v5v"
      },
      "execution_count": 109,
      "outputs": []
    },
    {
      "cell_type": "code",
      "source": [
        "print(words)"
      ],
      "metadata": {
        "colab": {
          "base_uri": "https://localhost:8080/"
        },
        "id": "EROfn54r4v3P",
        "outputId": "cfbaec19-b424-49ed-b2a8-45e86da2f8cc"
      },
      "execution_count": 110,
      "outputs": [
        {
          "output_type": "stream",
          "name": "stdout",
          "text": [
            "['Three', 'years', 'into', 'the', 'pandemic', ',', 'China', \"'s\", 'zero-tolerance', 'measures', ',', 'from', 'shut', 'borders', 'to', 'frequent', 'lockdowns', ',', 'contrast', 'sharply', 'with', 'the', 'rest', 'of', 'the', 'world', ',', 'which', 'has', 'largely', 'decided', 'to', 'live', 'with', 'the', 'virus', '.', 'The', 'strict', 'approach', 'has', 'battered', 'the', 'world', \"'s\", 'second-largest', 'economy', ',', 'put', 'mental', 'strain', 'on', 'hundreds', 'of', 'millions', 'and', 'last', 'month', 'prompted', 'the', 'biggest', 'show', 'of', 'public', 'discontent', 'in', 'mainland', 'China', 'since', 'President', 'Xi', 'Jinping', 'took']\n"
          ]
        }
      ]
    },
    {
      "cell_type": "code",
      "source": [
        "print(\"total words in dataset\",len(words))"
      ],
      "metadata": {
        "colab": {
          "base_uri": "https://localhost:8080/"
        },
        "id": "GZPLgi0N4v0w",
        "outputId": "1a2552d0-899d-488a-bd19-b9697bd4bc4c"
      },
      "execution_count": 112,
      "outputs": [
        {
          "output_type": "stream",
          "name": "stdout",
          "text": [
            "total words in dataset 73\n"
          ]
        }
      ]
    },
    {
      "cell_type": "code",
      "source": [
        "stopw = stopwords.words('english')"
      ],
      "metadata": {
        "id": "Wgfurscy7lM6"
      },
      "execution_count": 113,
      "outputs": []
    },
    {
      "cell_type": "code",
      "source": [
        "print(stopw)\n",
        "print(\"total stop words in corpus\",len(stopw))"
      ],
      "metadata": {
        "colab": {
          "base_uri": "https://localhost:8080/"
        },
        "id": "MDAUH7AQ7lJe",
        "outputId": "a3620e23-3544-4fac-cefe-9234d156cfe2"
      },
      "execution_count": 114,
      "outputs": [
        {
          "output_type": "stream",
          "name": "stdout",
          "text": [
            "['i', 'me', 'my', 'myself', 'we', 'our', 'ours', 'ourselves', 'you', \"you're\", \"you've\", \"you'll\", \"you'd\", 'your', 'yours', 'yourself', 'yourselves', 'he', 'him', 'his', 'himself', 'she', \"she's\", 'her', 'hers', 'herself', 'it', \"it's\", 'its', 'itself', 'they', 'them', 'their', 'theirs', 'themselves', 'what', 'which', 'who', 'whom', 'this', 'that', \"that'll\", 'these', 'those', 'am', 'is', 'are', 'was', 'were', 'be', 'been', 'being', 'have', 'has', 'had', 'having', 'do', 'does', 'did', 'doing', 'a', 'an', 'the', 'and', 'but', 'if', 'or', 'because', 'as', 'until', 'while', 'of', 'at', 'by', 'for', 'with', 'about', 'against', 'between', 'into', 'through', 'during', 'before', 'after', 'above', 'below', 'to', 'from', 'up', 'down', 'in', 'out', 'on', 'off', 'over', 'under', 'again', 'further', 'then', 'once', 'here', 'there', 'when', 'where', 'why', 'how', 'all', 'any', 'both', 'each', 'few', 'more', 'most', 'other', 'some', 'such', 'no', 'nor', 'not', 'only', 'own', 'same', 'so', 'than', 'too', 'very', 's', 't', 'can', 'will', 'just', 'don', \"don't\", 'should', \"should've\", 'now', 'd', 'll', 'm', 'o', 're', 've', 'y', 'ain', 'aren', \"aren't\", 'couldn', \"couldn't\", 'didn', \"didn't\", 'doesn', \"doesn't\", 'hadn', \"hadn't\", 'hasn', \"hasn't\", 'haven', \"haven't\", 'isn', \"isn't\", 'ma', 'mightn', \"mightn't\", 'mustn', \"mustn't\", 'needn', \"needn't\", 'shan', \"shan't\", 'shouldn', \"shouldn't\", 'wasn', \"wasn't\", 'weren', \"weren't\", 'won', \"won't\", 'wouldn', \"wouldn't\"]\n",
            "total stop words in corpus 179\n"
          ]
        }
      ]
    },
    {
      "cell_type": "code",
      "source": [
        "filtered_words=[]\n",
        "stopw_in_dataset = []"
      ],
      "metadata": {
        "id": "8WqXE_PE7lHR"
      },
      "execution_count": 115,
      "outputs": []
    },
    {
      "cell_type": "code",
      "source": [
        "for word in words:\n",
        "  if word in stopw:\n",
        "    stopw_in_dataset.append(word)\n",
        "  else:\n",
        "    filtered_words.append(word)"
      ],
      "metadata": {
        "id": "5BukiCId7lE7"
      },
      "execution_count": 116,
      "outputs": []
    },
    {
      "cell_type": "code",
      "source": [
        "print(filtered_words,\"\\ntotal no of words after removing stop words is \",len(filtered_words) )"
      ],
      "metadata": {
        "colab": {
          "base_uri": "https://localhost:8080/"
        },
        "id": "qL5x0yjX7lCo",
        "outputId": "96153bc7-d374-4021-a722-3568cea0f48c"
      },
      "execution_count": 117,
      "outputs": [
        {
          "output_type": "stream",
          "name": "stdout",
          "text": [
            "['Three', 'years', 'pandemic', ',', 'China', \"'s\", 'zero-tolerance', 'measures', ',', 'shut', 'borders', 'frequent', 'lockdowns', ',', 'contrast', 'sharply', 'rest', 'world', ',', 'largely', 'decided', 'live', 'virus', '.', 'The', 'strict', 'approach', 'battered', 'world', \"'s\", 'second-largest', 'economy', ',', 'put', 'mental', 'strain', 'hundreds', 'millions', 'last', 'month', 'prompted', 'biggest', 'show', 'public', 'discontent', 'mainland', 'China', 'since', 'President', 'Xi', 'Jinping', 'took'] \n",
            "total no of words after removing stop words is  52\n"
          ]
        }
      ]
    },
    {
      "cell_type": "code",
      "source": [
        "print(f'stops words found in data set {stopw_in_dataset} \\n total number of stop words found in dataset {len(stopw_in_dataset)}')"
      ],
      "metadata": {
        "colab": {
          "base_uri": "https://localhost:8080/"
        },
        "id": "gJMCjP1Y7lAV",
        "outputId": "9b1e4d05-55d1-4e85-f890-82ae1e442bdd"
      },
      "execution_count": 119,
      "outputs": [
        {
          "output_type": "stream",
          "name": "stdout",
          "text": [
            "stops words found in data set ['into', 'the', 'from', 'to', 'with', 'the', 'of', 'the', 'which', 'has', 'to', 'with', 'the', 'has', 'the', 'on', 'of', 'and', 'the', 'of', 'in'] \n",
            " total number of stop words found in dataset 21\n"
          ]
        }
      ]
    },
    {
      "cell_type": "markdown",
      "source": [
        "PRAC 3"
      ],
      "metadata": {
        "id": "VrmQX-aK9G3W"
      }
    },
    {
      "cell_type": "code",
      "source": [
        "from nltk.stem import PorterStemmer, LancasterStemmer\n",
        "from nltk.stem import WordNetLemmatizer\n",
        "from nltk.tokenize import word_tokenize"
      ],
      "metadata": {
        "id": "d6pSzMkk7k-M"
      },
      "execution_count": 120,
      "outputs": []
    },
    {
      "cell_type": "code",
      "source": [
        "dataset = \"Three years into the pandemic, China's zero-tolerance measures, from shut borders to frequent lockdowns, contrast sharply with the rest of the world, which has largely decided to live with the virus. The strict approach has battered the world's second-largest economy, put mental strain on hundreds of millions and last month prompted the biggest show of public discontent in mainland China since President Xi Jinping took\""
      ],
      "metadata": {
        "id": "m7hhmHP-9I3h"
      },
      "execution_count": 121,
      "outputs": []
    },
    {
      "cell_type": "code",
      "source": [
        "words = word_tokenize(dataset)"
      ],
      "metadata": {
        "id": "qAPzYqkn9Iz_"
      },
      "execution_count": 122,
      "outputs": []
    },
    {
      "cell_type": "code",
      "source": [
        "ps = PorterStemmer()"
      ],
      "metadata": {
        "id": "x3fDfYgx9Ix4"
      },
      "execution_count": 123,
      "outputs": []
    },
    {
      "cell_type": "code",
      "source": [
        "for word in words:\n",
        "  print(word ,':',ps.stem(word))"
      ],
      "metadata": {
        "colab": {
          "base_uri": "https://localhost:8080/"
        },
        "id": "CtYxniYg9Ivt",
        "outputId": "e0c4487b-09c7-44e6-fd9e-83b9fe1ed005"
      },
      "execution_count": 125,
      "outputs": [
        {
          "output_type": "stream",
          "name": "stdout",
          "text": [
            "Three : three\n",
            "years : year\n",
            "into : into\n",
            "the : the\n",
            "pandemic : pandem\n",
            ", : ,\n",
            "China : china\n",
            "'s : 's\n",
            "zero-tolerance : zero-toler\n",
            "measures : measur\n",
            ", : ,\n",
            "from : from\n",
            "shut : shut\n",
            "borders : border\n",
            "to : to\n",
            "frequent : frequent\n",
            "lockdowns : lockdown\n",
            ", : ,\n",
            "contrast : contrast\n",
            "sharply : sharpli\n",
            "with : with\n",
            "the : the\n",
            "rest : rest\n",
            "of : of\n",
            "the : the\n",
            "world : world\n",
            ", : ,\n",
            "which : which\n",
            "has : ha\n",
            "largely : larg\n",
            "decided : decid\n",
            "to : to\n",
            "live : live\n",
            "with : with\n",
            "the : the\n",
            "virus : viru\n",
            ". : .\n",
            "The : the\n",
            "strict : strict\n",
            "approach : approach\n",
            "has : ha\n",
            "battered : batter\n",
            "the : the\n",
            "world : world\n",
            "'s : 's\n",
            "second-largest : second-largest\n",
            "economy : economi\n",
            ", : ,\n",
            "put : put\n",
            "mental : mental\n",
            "strain : strain\n",
            "on : on\n",
            "hundreds : hundr\n",
            "of : of\n",
            "millions : million\n",
            "and : and\n",
            "last : last\n",
            "month : month\n",
            "prompted : prompt\n",
            "the : the\n",
            "biggest : biggest\n",
            "show : show\n",
            "of : of\n",
            "public : public\n",
            "discontent : discont\n",
            "in : in\n",
            "mainland : mainland\n",
            "China : china\n",
            "since : sinc\n",
            "President : presid\n",
            "Xi : xi\n",
            "Jinping : jinp\n",
            "took : took\n"
          ]
        }
      ]
    },
    {
      "cell_type": "code",
      "source": [
        "words = ['programmer','programming','program','pythonic','running', 'caring']"
      ],
      "metadata": {
        "id": "T3c38fKJ9ItZ"
      },
      "execution_count": 126,
      "outputs": []
    },
    {
      "cell_type": "code",
      "source": [
        "for word in words:\n",
        "  print(word,\":\",ps.stem(word))"
      ],
      "metadata": {
        "colab": {
          "base_uri": "https://localhost:8080/"
        },
        "id": "_cT0FoqH9Iq9",
        "outputId": "7a70cb25-97a6-471e-a2d6-32226165092b"
      },
      "execution_count": 127,
      "outputs": [
        {
          "output_type": "stream",
          "name": "stdout",
          "text": [
            "programmer : programm\n",
            "programming : program\n",
            "program : program\n",
            "pythonic : python\n",
            "running : run\n",
            "caring : care\n"
          ]
        }
      ]
    },
    {
      "cell_type": "code",
      "source": [
        "ln = LancasterStemmer()"
      ],
      "metadata": {
        "id": "S2sIM7bq9Ion"
      },
      "execution_count": 128,
      "outputs": []
    },
    {
      "cell_type": "code",
      "source": [
        "for word in words:\n",
        "  print(word,\":\",ln.stem(word))"
      ],
      "metadata": {
        "colab": {
          "base_uri": "https://localhost:8080/"
        },
        "id": "X5VoxhbZ7k7x",
        "outputId": "9cba8ced-a643-46ae-a3fa-4a90a4ae52c7"
      },
      "execution_count": 129,
      "outputs": [
        {
          "output_type": "stream",
          "name": "stdout",
          "text": [
            "programmer : program\n",
            "programming : program\n",
            "program : program\n",
            "pythonic : python\n",
            "running : run\n",
            "caring : car\n"
          ]
        }
      ]
    },
    {
      "cell_type": "code",
      "source": [
        "wnl = WordNetLemmatizer()\n"
      ],
      "metadata": {
        "id": "q4GGyx0I7k5c"
      },
      "execution_count": 130,
      "outputs": []
    },
    {
      "cell_type": "code",
      "source": [
        "for word in words:\n",
        "  print(word,\":\",wnl.lemmatize(word))"
      ],
      "metadata": {
        "colab": {
          "base_uri": "https://localhost:8080/"
        },
        "id": "TKHg7TSm-iT3",
        "outputId": "ce2dbcaf-dd86-433c-9d3a-3191e8b2bea1"
      },
      "execution_count": 132,
      "outputs": [
        {
          "output_type": "stream",
          "name": "stdout",
          "text": [
            "programmer : programmer\n",
            "programming : programming\n",
            "program : program\n",
            "pythonic : pythonic\n",
            "running : running\n",
            "caring : caring\n"
          ]
        }
      ]
    },
    {
      "cell_type": "markdown",
      "source": [
        "PRAC 4\n"
      ],
      "metadata": {
        "id": "u4UxXoxZ_C44"
      }
    },
    {
      "cell_type": "code",
      "source": [
        "from nltk.tag import pos_tag\n",
        "from nltk.tokenize import word_tokenize"
      ],
      "metadata": {
        "id": "6NuO69Po-iQZ"
      },
      "execution_count": 133,
      "outputs": []
    },
    {
      "cell_type": "code",
      "source": [
        "dataset = \"Three years into the pandemic, China's zero-tolerance measures, from shut borders to frequent lockdowns, contrast sharply with the rest of the world, which has largely decided to live with the virus. The strict approach has battered the world's second-largest economy, put mental strain on hundreds of millions and last month prompted the biggest show of public discontent in mainland China since President Xi Jinping took\""
      ],
      "metadata": {
        "id": "2Dja4WWN-iI5"
      },
      "execution_count": 134,
      "outputs": []
    },
    {
      "cell_type": "code",
      "source": [
        "words = word_tokenize(dataset)"
      ],
      "metadata": {
        "id": "zQ3fB-4N-iFV"
      },
      "execution_count": 135,
      "outputs": []
    },
    {
      "cell_type": "code",
      "source": [
        "pos_tag(words)"
      ],
      "metadata": {
        "colab": {
          "base_uri": "https://localhost:8080/"
        },
        "id": "CXCO1GAu-hsX",
        "outputId": "36c48ab1-1439-477a-a604-f3b507ea764a"
      },
      "execution_count": 136,
      "outputs": [
        {
          "output_type": "execute_result",
          "data": {
            "text/plain": [
              "[('Three', 'CD'),\n",
              " ('years', 'NNS'),\n",
              " ('into', 'IN'),\n",
              " ('the', 'DT'),\n",
              " ('pandemic', 'JJ'),\n",
              " (',', ','),\n",
              " ('China', 'NNP'),\n",
              " (\"'s\", 'POS'),\n",
              " ('zero-tolerance', 'NN'),\n",
              " ('measures', 'NNS'),\n",
              " (',', ','),\n",
              " ('from', 'IN'),\n",
              " ('shut', 'JJ'),\n",
              " ('borders', 'NNS'),\n",
              " ('to', 'TO'),\n",
              " ('frequent', 'JJ'),\n",
              " ('lockdowns', 'NNS'),\n",
              " (',', ','),\n",
              " ('contrast', 'NN'),\n",
              " ('sharply', 'RB'),\n",
              " ('with', 'IN'),\n",
              " ('the', 'DT'),\n",
              " ('rest', 'NN'),\n",
              " ('of', 'IN'),\n",
              " ('the', 'DT'),\n",
              " ('world', 'NN'),\n",
              " (',', ','),\n",
              " ('which', 'WDT'),\n",
              " ('has', 'VBZ'),\n",
              " ('largely', 'RB'),\n",
              " ('decided', 'VBN'),\n",
              " ('to', 'TO'),\n",
              " ('live', 'VB'),\n",
              " ('with', 'IN'),\n",
              " ('the', 'DT'),\n",
              " ('virus', 'NN'),\n",
              " ('.', '.'),\n",
              " ('The', 'DT'),\n",
              " ('strict', 'JJ'),\n",
              " ('approach', 'NN'),\n",
              " ('has', 'VBZ'),\n",
              " ('battered', 'VBN'),\n",
              " ('the', 'DT'),\n",
              " ('world', 'NN'),\n",
              " (\"'s\", 'POS'),\n",
              " ('second-largest', 'JJ'),\n",
              " ('economy', 'NN'),\n",
              " (',', ','),\n",
              " ('put', 'VBD'),\n",
              " ('mental', 'JJ'),\n",
              " ('strain', 'NN'),\n",
              " ('on', 'IN'),\n",
              " ('hundreds', 'NNS'),\n",
              " ('of', 'IN'),\n",
              " ('millions', 'NNS'),\n",
              " ('and', 'CC'),\n",
              " ('last', 'JJ'),\n",
              " ('month', 'NN'),\n",
              " ('prompted', 'VBD'),\n",
              " ('the', 'DT'),\n",
              " ('biggest', 'JJS'),\n",
              " ('show', 'NN'),\n",
              " ('of', 'IN'),\n",
              " ('public', 'JJ'),\n",
              " ('discontent', 'NN'),\n",
              " ('in', 'IN'),\n",
              " ('mainland', 'NN'),\n",
              " ('China', 'NNP'),\n",
              " ('since', 'IN'),\n",
              " ('President', 'NNP'),\n",
              " ('Xi', 'NNP'),\n",
              " ('Jinping', 'NNP'),\n",
              " ('took', 'VBD')]"
            ]
          },
          "metadata": {},
          "execution_count": 136
        }
      ]
    },
    {
      "cell_type": "code",
      "source": [
        "nltk.help.upenn_tagset()"
      ],
      "metadata": {
        "colab": {
          "base_uri": "https://localhost:8080/"
        },
        "id": "PF4Yxfyx-hqD",
        "outputId": "333bd623-d614-4821-9c23-ef78a6e340cb"
      },
      "execution_count": 137,
      "outputs": [
        {
          "output_type": "stream",
          "name": "stdout",
          "text": [
            "$: dollar\n",
            "    $ -$ --$ A$ C$ HK$ M$ NZ$ S$ U.S.$ US$\n",
            "'': closing quotation mark\n",
            "    ' ''\n",
            "(: opening parenthesis\n",
            "    ( [ {\n",
            "): closing parenthesis\n",
            "    ) ] }\n",
            ",: comma\n",
            "    ,\n",
            "--: dash\n",
            "    --\n",
            ".: sentence terminator\n",
            "    . ! ?\n",
            ":: colon or ellipsis\n",
            "    : ; ...\n",
            "CC: conjunction, coordinating\n",
            "    & 'n and both but either et for less minus neither nor or plus so\n",
            "    therefore times v. versus vs. whether yet\n",
            "CD: numeral, cardinal\n",
            "    mid-1890 nine-thirty forty-two one-tenth ten million 0.5 one forty-\n",
            "    seven 1987 twenty '79 zero two 78-degrees eighty-four IX '60s .025\n",
            "    fifteen 271,124 dozen quintillion DM2,000 ...\n",
            "DT: determiner\n",
            "    all an another any both del each either every half la many much nary\n",
            "    neither no some such that the them these this those\n",
            "EX: existential there\n",
            "    there\n",
            "FW: foreign word\n",
            "    gemeinschaft hund ich jeux habeas Haementeria Herr K'ang-si vous\n",
            "    lutihaw alai je jour objets salutaris fille quibusdam pas trop Monte\n",
            "    terram fiche oui corporis ...\n",
            "IN: preposition or conjunction, subordinating\n",
            "    astride among uppon whether out inside pro despite on by throughout\n",
            "    below within for towards near behind atop around if like until below\n",
            "    next into if beside ...\n",
            "JJ: adjective or numeral, ordinal\n",
            "    third ill-mannered pre-war regrettable oiled calamitous first separable\n",
            "    ectoplasmic battery-powered participatory fourth still-to-be-named\n",
            "    multilingual multi-disciplinary ...\n",
            "JJR: adjective, comparative\n",
            "    bleaker braver breezier briefer brighter brisker broader bumper busier\n",
            "    calmer cheaper choosier cleaner clearer closer colder commoner costlier\n",
            "    cozier creamier crunchier cuter ...\n",
            "JJS: adjective, superlative\n",
            "    calmest cheapest choicest classiest cleanest clearest closest commonest\n",
            "    corniest costliest crassest creepiest crudest cutest darkest deadliest\n",
            "    dearest deepest densest dinkiest ...\n",
            "LS: list item marker\n",
            "    A A. B B. C C. D E F First G H I J K One SP-44001 SP-44002 SP-44005\n",
            "    SP-44007 Second Third Three Two * a b c d first five four one six three\n",
            "    two\n",
            "MD: modal auxiliary\n",
            "    can cannot could couldn't dare may might must need ought shall should\n",
            "    shouldn't will would\n",
            "NN: noun, common, singular or mass\n",
            "    common-carrier cabbage knuckle-duster Casino afghan shed thermostat\n",
            "    investment slide humour falloff slick wind hyena override subhumanity\n",
            "    machinist ...\n",
            "NNP: noun, proper, singular\n",
            "    Motown Venneboerger Czestochwa Ranzer Conchita Trumplane Christos\n",
            "    Oceanside Escobar Kreisler Sawyer Cougar Yvette Ervin ODI Darryl CTCA\n",
            "    Shannon A.K.C. Meltex Liverpool ...\n",
            "NNPS: noun, proper, plural\n",
            "    Americans Americas Amharas Amityvilles Amusements Anarcho-Syndicalists\n",
            "    Andalusians Andes Andruses Angels Animals Anthony Antilles Antiques\n",
            "    Apache Apaches Apocrypha ...\n",
            "NNS: noun, common, plural\n",
            "    undergraduates scotches bric-a-brac products bodyguards facets coasts\n",
            "    divestitures storehouses designs clubs fragrances averages\n",
            "    subjectivists apprehensions muses factory-jobs ...\n",
            "PDT: pre-determiner\n",
            "    all both half many quite such sure this\n",
            "POS: genitive marker\n",
            "    ' 's\n",
            "PRP: pronoun, personal\n",
            "    hers herself him himself hisself it itself me myself one oneself ours\n",
            "    ourselves ownself self she thee theirs them themselves they thou thy us\n",
            "PRP$: pronoun, possessive\n",
            "    her his mine my our ours their thy your\n",
            "RB: adverb\n",
            "    occasionally unabatingly maddeningly adventurously professedly\n",
            "    stirringly prominently technologically magisterially predominately\n",
            "    swiftly fiscally pitilessly ...\n",
            "RBR: adverb, comparative\n",
            "    further gloomier grander graver greater grimmer harder harsher\n",
            "    healthier heavier higher however larger later leaner lengthier less-\n",
            "    perfectly lesser lonelier longer louder lower more ...\n",
            "RBS: adverb, superlative\n",
            "    best biggest bluntest earliest farthest first furthest hardest\n",
            "    heartiest highest largest least less most nearest second tightest worst\n",
            "RP: particle\n",
            "    aboard about across along apart around aside at away back before behind\n",
            "    by crop down ever fast for forth from go high i.e. in into just later\n",
            "    low more off on open out over per pie raising start teeth that through\n",
            "    under unto up up-pp upon whole with you\n",
            "SYM: symbol\n",
            "    % & ' '' ''. ) ). * + ,. < = > @ A[fj] U.S U.S.S.R * ** ***\n",
            "TO: \"to\" as preposition or infinitive marker\n",
            "    to\n",
            "UH: interjection\n",
            "    Goodbye Goody Gosh Wow Jeepers Jee-sus Hubba Hey Kee-reist Oops amen\n",
            "    huh howdy uh dammit whammo shucks heck anyways whodunnit honey golly\n",
            "    man baby diddle hush sonuvabitch ...\n",
            "VB: verb, base form\n",
            "    ask assemble assess assign assume atone attention avoid bake balkanize\n",
            "    bank begin behold believe bend benefit bevel beware bless boil bomb\n",
            "    boost brace break bring broil brush build ...\n",
            "VBD: verb, past tense\n",
            "    dipped pleaded swiped regummed soaked tidied convened halted registered\n",
            "    cushioned exacted snubbed strode aimed adopted belied figgered\n",
            "    speculated wore appreciated contemplated ...\n",
            "VBG: verb, present participle or gerund\n",
            "    telegraphing stirring focusing angering judging stalling lactating\n",
            "    hankerin' alleging veering capping approaching traveling besieging\n",
            "    encrypting interrupting erasing wincing ...\n",
            "VBN: verb, past participle\n",
            "    multihulled dilapidated aerosolized chaired languished panelized used\n",
            "    experimented flourished imitated reunifed factored condensed sheared\n",
            "    unsettled primed dubbed desired ...\n",
            "VBP: verb, present tense, not 3rd person singular\n",
            "    predominate wrap resort sue twist spill cure lengthen brush terminate\n",
            "    appear tend stray glisten obtain comprise detest tease attract\n",
            "    emphasize mold postpone sever return wag ...\n",
            "VBZ: verb, present tense, 3rd person singular\n",
            "    bases reconstructs marks mixes displeases seals carps weaves snatches\n",
            "    slumps stretches authorizes smolders pictures emerges stockpiles\n",
            "    seduces fizzes uses bolsters slaps speaks pleads ...\n",
            "WDT: WH-determiner\n",
            "    that what whatever which whichever\n",
            "WP: WH-pronoun\n",
            "    that what whatever whatsoever which who whom whosoever\n",
            "WP$: WH-pronoun, possessive\n",
            "    whose\n",
            "WRB: Wh-adverb\n",
            "    how however whence whenever where whereby whereever wherein whereof why\n",
            "``: opening quotation mark\n",
            "    ` ``\n"
          ]
        }
      ]
    },
    {
      "cell_type": "markdown",
      "source": [
        "PRAC 5\n"
      ],
      "metadata": {
        "id": "Jm1BQlqD_vBb"
      }
    },
    {
      "cell_type": "code",
      "source": [
        "from nltk.tokenize import word_tokenize\n",
        "from nltk.tag import pos_tag\n",
        "from nltk.chunk import ne_chunk\n",
        "from nltk.chunk import RegexpParser"
      ],
      "metadata": {
        "id": "ERYXELKO-gvH"
      },
      "execution_count": 149,
      "outputs": []
    },
    {
      "cell_type": "code",
      "source": [
        "dataset = \"Three years into the pandemic, China's zero-tolerance measures, from shut borders to frequent lockdowns, contrast sharply with the rest of the world, which has largely decided to live with the virus. The strict approach has battered the world's second-largest economy, put mental strain on hundreds of millions and last month prompted the biggest show of public discontent in mainland China since President Xi Jinping took\""
      ],
      "metadata": {
        "id": "zy1isddK_sLA"
      },
      "execution_count": 139,
      "outputs": []
    },
    {
      "cell_type": "code",
      "source": [
        "words = word_tokenize(dataset)"
      ],
      "metadata": {
        "id": "-Mc4uLZU_sHj"
      },
      "execution_count": 140,
      "outputs": []
    },
    {
      "cell_type": "code",
      "source": [
        "print(words)"
      ],
      "metadata": {
        "colab": {
          "base_uri": "https://localhost:8080/"
        },
        "id": "HSD4DlQL_sFI",
        "outputId": "6653fb0c-3ae7-43ef-901f-b154d9e3c21c"
      },
      "execution_count": 141,
      "outputs": [
        {
          "output_type": "stream",
          "name": "stdout",
          "text": [
            "['Three', 'years', 'into', 'the', 'pandemic', ',', 'China', \"'s\", 'zero-tolerance', 'measures', ',', 'from', 'shut', 'borders', 'to', 'frequent', 'lockdowns', ',', 'contrast', 'sharply', 'with', 'the', 'rest', 'of', 'the', 'world', ',', 'which', 'has', 'largely', 'decided', 'to', 'live', 'with', 'the', 'virus', '.', 'The', 'strict', 'approach', 'has', 'battered', 'the', 'world', \"'s\", 'second-largest', 'economy', ',', 'put', 'mental', 'strain', 'on', 'hundreds', 'of', 'millions', 'and', 'last', 'month', 'prompted', 'the', 'biggest', 'show', 'of', 'public', 'discontent', 'in', 'mainland', 'China', 'since', 'President', 'Xi', 'Jinping', 'took']\n"
          ]
        }
      ]
    },
    {
      "cell_type": "code",
      "source": [
        "print(len(words))"
      ],
      "metadata": {
        "colab": {
          "base_uri": "https://localhost:8080/"
        },
        "id": "2fwQNWb5_sCx",
        "outputId": "e7580e1a-ba08-49c0-da62-910a8ab4976a"
      },
      "execution_count": 142,
      "outputs": [
        {
          "output_type": "stream",
          "name": "stdout",
          "text": [
            "73\n"
          ]
        }
      ]
    },
    {
      "cell_type": "code",
      "source": [
        "pos_tagged = pos_tag(words)"
      ],
      "metadata": {
        "id": "WXCRdegk_sAg"
      },
      "execution_count": 143,
      "outputs": []
    },
    {
      "cell_type": "code",
      "source": [
        "print(pos_tagged)"
      ],
      "metadata": {
        "colab": {
          "base_uri": "https://localhost:8080/"
        },
        "id": "kkUIOS9F_r9u",
        "outputId": "8d15083d-49c7-4c7b-d03e-d4f9f098cd47"
      },
      "execution_count": 146,
      "outputs": [
        {
          "output_type": "stream",
          "name": "stdout",
          "text": [
            "[('Three', 'CD'), ('years', 'NNS'), ('into', 'IN'), ('the', 'DT'), ('pandemic', 'JJ'), (',', ','), ('China', 'NNP'), (\"'s\", 'POS'), ('zero-tolerance', 'NN'), ('measures', 'NNS'), (',', ','), ('from', 'IN'), ('shut', 'JJ'), ('borders', 'NNS'), ('to', 'TO'), ('frequent', 'JJ'), ('lockdowns', 'NNS'), (',', ','), ('contrast', 'NN'), ('sharply', 'RB'), ('with', 'IN'), ('the', 'DT'), ('rest', 'NN'), ('of', 'IN'), ('the', 'DT'), ('world', 'NN'), (',', ','), ('which', 'WDT'), ('has', 'VBZ'), ('largely', 'RB'), ('decided', 'VBN'), ('to', 'TO'), ('live', 'VB'), ('with', 'IN'), ('the', 'DT'), ('virus', 'NN'), ('.', '.'), ('The', 'DT'), ('strict', 'JJ'), ('approach', 'NN'), ('has', 'VBZ'), ('battered', 'VBN'), ('the', 'DT'), ('world', 'NN'), (\"'s\", 'POS'), ('second-largest', 'JJ'), ('economy', 'NN'), (',', ','), ('put', 'VBD'), ('mental', 'JJ'), ('strain', 'NN'), ('on', 'IN'), ('hundreds', 'NNS'), ('of', 'IN'), ('millions', 'NNS'), ('and', 'CC'), ('last', 'JJ'), ('month', 'NN'), ('prompted', 'VBD'), ('the', 'DT'), ('biggest', 'JJS'), ('show', 'NN'), ('of', 'IN'), ('public', 'JJ'), ('discontent', 'NN'), ('in', 'IN'), ('mainland', 'NN'), ('China', 'NNP'), ('since', 'IN'), ('President', 'NNP'), ('Xi', 'NNP'), ('Jinping', 'NNP'), ('took', 'VBD')]\n"
          ]
        }
      ]
    },
    {
      "cell_type": "code",
      "source": [
        "chunk = ne_chunk(pos_tagged)"
      ],
      "metadata": {
        "id": "tQmdWisk_r7k"
      },
      "execution_count": 147,
      "outputs": []
    },
    {
      "cell_type": "code",
      "source": [
        "print(chunk)"
      ],
      "metadata": {
        "colab": {
          "base_uri": "https://localhost:8080/"
        },
        "id": "TdG4G0iC_r5b",
        "outputId": "e13fbdeb-177e-4838-95f8-cc958bc064d9"
      },
      "execution_count": 148,
      "outputs": [
        {
          "output_type": "stream",
          "name": "stdout",
          "text": [
            "(S\n",
            "  Three/CD\n",
            "  years/NNS\n",
            "  into/IN\n",
            "  the/DT\n",
            "  pandemic/JJ\n",
            "  ,/,\n",
            "  (GPE China/NNP)\n",
            "  's/POS\n",
            "  zero-tolerance/NN\n",
            "  measures/NNS\n",
            "  ,/,\n",
            "  from/IN\n",
            "  shut/JJ\n",
            "  borders/NNS\n",
            "  to/TO\n",
            "  frequent/JJ\n",
            "  lockdowns/NNS\n",
            "  ,/,\n",
            "  contrast/NN\n",
            "  sharply/RB\n",
            "  with/IN\n",
            "  the/DT\n",
            "  rest/NN\n",
            "  of/IN\n",
            "  the/DT\n",
            "  world/NN\n",
            "  ,/,\n",
            "  which/WDT\n",
            "  has/VBZ\n",
            "  largely/RB\n",
            "  decided/VBN\n",
            "  to/TO\n",
            "  live/VB\n",
            "  with/IN\n",
            "  the/DT\n",
            "  virus/NN\n",
            "  ./.\n",
            "  The/DT\n",
            "  strict/JJ\n",
            "  approach/NN\n",
            "  has/VBZ\n",
            "  battered/VBN\n",
            "  the/DT\n",
            "  world/NN\n",
            "  's/POS\n",
            "  second-largest/JJ\n",
            "  economy/NN\n",
            "  ,/,\n",
            "  put/VBD\n",
            "  mental/JJ\n",
            "  strain/NN\n",
            "  on/IN\n",
            "  hundreds/NNS\n",
            "  of/IN\n",
            "  millions/NNS\n",
            "  and/CC\n",
            "  last/JJ\n",
            "  month/NN\n",
            "  prompted/VBD\n",
            "  the/DT\n",
            "  biggest/JJS\n",
            "  show/NN\n",
            "  of/IN\n",
            "  public/JJ\n",
            "  discontent/NN\n",
            "  in/IN\n",
            "  mainland/NN\n",
            "  (GPE China/NNP)\n",
            "  since/IN\n",
            "  President/NNP\n",
            "  (PERSON Xi/NNP Jinping/NNP)\n",
            "  took/VBD)\n"
          ]
        }
      ]
    },
    {
      "cell_type": "code",
      "source": [
        "pattern = \"\"\" chunk:{<NNPS>+}\n",
        "{<NNP>+}\n",
        "{<NN>+}\n",
        "\"\"\""
      ],
      "metadata": {
        "id": "72gU1zSm_r3P"
      },
      "execution_count": 151,
      "outputs": []
    },
    {
      "cell_type": "code",
      "source": [
        "chunk = RegexpParser(pattern)"
      ],
      "metadata": {
        "id": "urexc3i6_r1F"
      },
      "execution_count": 152,
      "outputs": []
    },
    {
      "cell_type": "code",
      "source": [
        "cr=chunk.parse(pos_tagged)"
      ],
      "metadata": {
        "id": "ErepF6r0_ry3"
      },
      "execution_count": 156,
      "outputs": []
    },
    {
      "cell_type": "code",
      "source": [
        "print(cr)"
      ],
      "metadata": {
        "colab": {
          "base_uri": "https://localhost:8080/"
        },
        "id": "_X9ixJKv_rwk",
        "outputId": "0f68e046-d78a-49d6-bb7a-26c91a3faffb"
      },
      "execution_count": 157,
      "outputs": [
        {
          "output_type": "stream",
          "name": "stdout",
          "text": [
            "(S\n",
            "  Three/CD\n",
            "  years/NNS\n",
            "  into/IN\n",
            "  the/DT\n",
            "  pandemic/JJ\n",
            "  ,/,\n",
            "  (chunk China/NNP)\n",
            "  's/POS\n",
            "  (chunk zero-tolerance/NN)\n",
            "  measures/NNS\n",
            "  ,/,\n",
            "  from/IN\n",
            "  shut/JJ\n",
            "  borders/NNS\n",
            "  to/TO\n",
            "  frequent/JJ\n",
            "  lockdowns/NNS\n",
            "  ,/,\n",
            "  (chunk contrast/NN)\n",
            "  sharply/RB\n",
            "  with/IN\n",
            "  the/DT\n",
            "  (chunk rest/NN)\n",
            "  of/IN\n",
            "  the/DT\n",
            "  (chunk world/NN)\n",
            "  ,/,\n",
            "  which/WDT\n",
            "  has/VBZ\n",
            "  largely/RB\n",
            "  decided/VBN\n",
            "  to/TO\n",
            "  live/VB\n",
            "  with/IN\n",
            "  the/DT\n",
            "  (chunk virus/NN)\n",
            "  ./.\n",
            "  The/DT\n",
            "  strict/JJ\n",
            "  (chunk approach/NN)\n",
            "  has/VBZ\n",
            "  battered/VBN\n",
            "  the/DT\n",
            "  (chunk world/NN)\n",
            "  's/POS\n",
            "  second-largest/JJ\n",
            "  (chunk economy/NN)\n",
            "  ,/,\n",
            "  put/VBD\n",
            "  mental/JJ\n",
            "  (chunk strain/NN)\n",
            "  on/IN\n",
            "  hundreds/NNS\n",
            "  of/IN\n",
            "  millions/NNS\n",
            "  and/CC\n",
            "  last/JJ\n",
            "  (chunk month/NN)\n",
            "  prompted/VBD\n",
            "  the/DT\n",
            "  biggest/JJS\n",
            "  (chunk show/NN)\n",
            "  of/IN\n",
            "  public/JJ\n",
            "  (chunk discontent/NN)\n",
            "  in/IN\n",
            "  (chunk mainland/NN)\n",
            "  (chunk China/NNP)\n",
            "  since/IN\n",
            "  (chunk President/NNP Xi/NNP Jinping/NNP)\n",
            "  took/VBD)\n"
          ]
        }
      ]
    },
    {
      "cell_type": "markdown",
      "source": [
        "PRAC 6"
      ],
      "metadata": {
        "id": "OMhTSoyoC3li"
      }
    },
    {
      "cell_type": "code",
      "source": [
        "from nltk.corpus import wordnet"
      ],
      "metadata": {
        "id": "DL253cBb_ruf"
      },
      "execution_count": 158,
      "outputs": []
    },
    {
      "cell_type": "code",
      "source": [
        "syn = wordnet.synsets('program')"
      ],
      "metadata": {
        "id": "QdSBcxDvC3KI"
      },
      "execution_count": 161,
      "outputs": []
    },
    {
      "cell_type": "code",
      "source": [
        "print(syn)"
      ],
      "metadata": {
        "colab": {
          "base_uri": "https://localhost:8080/"
        },
        "id": "pmRM8lx6C3Gc",
        "outputId": "062e38be-b1ca-4711-e3b8-df044687c494"
      },
      "execution_count": 163,
      "outputs": [
        {
          "output_type": "stream",
          "name": "stdout",
          "text": [
            "[Synset('plan.n.01'), Synset('program.n.02'), Synset('broadcast.n.02'), Synset('platform.n.02'), Synset('program.n.05'), Synset('course_of_study.n.01'), Synset('program.n.07'), Synset('program.n.08'), Synset('program.v.01'), Synset('program.v.02')]\n"
          ]
        }
      ]
    },
    {
      "cell_type": "code",
      "source": [
        "print(syn[0])"
      ],
      "metadata": {
        "colab": {
          "base_uri": "https://localhost:8080/"
        },
        "id": "2ZipN2TVC3DF",
        "outputId": "7be70b57-01a6-4e73-c3f8-4ef8c1f8911f"
      },
      "execution_count": 164,
      "outputs": [
        {
          "output_type": "stream",
          "name": "stdout",
          "text": [
            "Synset('plan.n.01')\n"
          ]
        }
      ]
    },
    {
      "cell_type": "code",
      "source": [
        "print(syn[0].lemmas())"
      ],
      "metadata": {
        "colab": {
          "base_uri": "https://localhost:8080/"
        },
        "id": "0-8EBvKJC3As",
        "outputId": "48375319-e25e-43fc-c884-375dcfc722b6"
      },
      "execution_count": 165,
      "outputs": [
        {
          "output_type": "stream",
          "name": "stdout",
          "text": [
            "[Lemma('plan.n.01.plan'), Lemma('plan.n.01.program'), Lemma('plan.n.01.programme')]\n"
          ]
        }
      ]
    },
    {
      "cell_type": "code",
      "source": [
        "print(syn[0].lemmas()[0])"
      ],
      "metadata": {
        "colab": {
          "base_uri": "https://localhost:8080/"
        },
        "id": "RrnKdidrC292",
        "outputId": "8704a681-1fca-49d9-de63-bc8930b1f62a"
      },
      "execution_count": 166,
      "outputs": [
        {
          "output_type": "stream",
          "name": "stdout",
          "text": [
            "Lemma('plan.n.01.plan')\n"
          ]
        }
      ]
    },
    {
      "cell_type": "code",
      "source": [
        "print(syn[0].lemmas()[0].name())"
      ],
      "metadata": {
        "colab": {
          "base_uri": "https://localhost:8080/"
        },
        "id": "UB1w4_maC28D",
        "outputId": "01899edb-00d3-4517-9a30-e0faff7bee4b"
      },
      "execution_count": 171,
      "outputs": [
        {
          "output_type": "stream",
          "name": "stdout",
          "text": [
            "plan\n"
          ]
        }
      ]
    },
    {
      "cell_type": "code",
      "source": [
        "print(syn[0].definition())"
      ],
      "metadata": {
        "colab": {
          "base_uri": "https://localhost:8080/"
        },
        "id": "61YmgGZgC253",
        "outputId": "3493b6ae-83c6-4f2b-b991-7b0211d25265"
      },
      "execution_count": 172,
      "outputs": [
        {
          "output_type": "stream",
          "name": "stdout",
          "text": [
            "a series of steps to be carried out or goals to be accomplished\n"
          ]
        }
      ]
    },
    {
      "cell_type": "code",
      "source": [
        "print(syn[0].examples())"
      ],
      "metadata": {
        "colab": {
          "base_uri": "https://localhost:8080/"
        },
        "id": "2CZ2UA8iC23j",
        "outputId": "f7cdfb2f-33ec-47d6-f4f2-1b2e729ab3f2"
      },
      "execution_count": 174,
      "outputs": [
        {
          "output_type": "stream",
          "name": "stdout",
          "text": [
            "['they drew up a six-step plan', 'they discussed plans for a new bond issue']\n"
          ]
        }
      ]
    },
    {
      "cell_type": "code",
      "source": [
        "def ToFindAntonms(x):\n",
        "  antonym = []\n",
        "  for syn in wordnet.synsets(x):\n",
        "    for lm in syn.lemmas():\n",
        "      if lm.antonyms():\n",
        "        antonym.append(lm.antonyms()[0].name())\n",
        "  return antonym"
      ],
      "metadata": {
        "id": "kTiyF3AfC21U"
      },
      "execution_count": 175,
      "outputs": []
    },
    {
      "cell_type": "code",
      "source": [
        "print(set(ToFindAntonms(\"good\")))"
      ],
      "metadata": {
        "colab": {
          "base_uri": "https://localhost:8080/"
        },
        "id": "gzrpYO_uC2y8",
        "outputId": "27970ab3-a324-476f-a537-b13c64904249"
      },
      "execution_count": 179,
      "outputs": [
        {
          "output_type": "stream",
          "name": "stdout",
          "text": [
            "{'badness', 'bad', 'ill', 'evilness', 'evil'}\n"
          ]
        }
      ]
    },
    {
      "cell_type": "code",
      "source": [
        "print(set(ToFindAntonms('inactive')))"
      ],
      "metadata": {
        "colab": {
          "base_uri": "https://localhost:8080/"
        },
        "id": "ULyk6bvyC2vK",
        "outputId": "c2945818-b520-40dd-b3d5-5b24540c9ccf"
      },
      "execution_count": 178,
      "outputs": [
        {
          "output_type": "stream",
          "name": "stdout",
          "text": [
            "{'active', 'operational'}\n"
          ]
        }
      ]
    },
    {
      "cell_type": "code",
      "source": [
        "synonyms =[]\n",
        "antonyms =[]"
      ],
      "metadata": {
        "id": "w1vJEOyQGTdL"
      },
      "execution_count": 180,
      "outputs": []
    },
    {
      "cell_type": "code",
      "source": [
        "for syn in wordnet.synsets('good'):\n",
        "  for lm in syn.lemmas():\n",
        "    synonyms.append(lm.name())\n",
        "    if lm.antonyms():\n",
        "      antonyms.append(lm.antonyms()[0].name())"
      ],
      "metadata": {
        "id": "mgHdnUb9GTZo"
      },
      "execution_count": 184,
      "outputs": []
    },
    {
      "cell_type": "code",
      "source": [
        "print(set(antonyms))"
      ],
      "metadata": {
        "colab": {
          "base_uri": "https://localhost:8080/"
        },
        "id": "78-bhoinGTXZ",
        "outputId": "4714b6eb-09d0-4137-b62d-811f188b9b1b"
      },
      "execution_count": 188,
      "outputs": [
        {
          "output_type": "stream",
          "name": "stdout",
          "text": [
            "{'badness', 'bad', 'ill', 'evilness', 'evil'}\n"
          ]
        }
      ]
    },
    {
      "cell_type": "code",
      "source": [
        "print(set(synonyms))"
      ],
      "metadata": {
        "colab": {
          "base_uri": "https://localhost:8080/"
        },
        "id": "5US4odh-GTCE",
        "outputId": "fd6e9e23-498e-4249-af6d-30eefe50f1ed"
      },
      "execution_count": 187,
      "outputs": [
        {
          "output_type": "stream",
          "name": "stdout",
          "text": [
            "{'practiced', 'in_force', 'skilful', 'sound', 'well', 'beneficial', 'effective', 'proficient', 'respectable', 'dear', 'near', 'soundly', 'honest', 'adept', 'good', 'full', 'honorable', 'thoroughly', 'secure', 'in_effect', 'serious', 'just', 'unspoilt', 'salutary', 'goodness', 'undecomposed', 'safe', 'upright', 'ripe', 'expert', 'estimable', 'trade_good', 'unspoiled', 'right', 'commodity', 'dependable', 'skillful'}\n"
          ]
        }
      ]
    },
    {
      "cell_type": "code",
      "source": [
        "# word similarity\n"
      ],
      "metadata": {
        "id": "hS8ExsoYGS-u"
      },
      "execution_count": 189,
      "outputs": []
    },
    {
      "cell_type": "code",
      "source": [
        "from nltk.corpus import wordnet as wn"
      ],
      "metadata": {
        "id": "lFsig85uId2h"
      },
      "execution_count": 190,
      "outputs": []
    },
    {
      "cell_type": "code",
      "source": [
        "car = wn.synset('car.n.01')"
      ],
      "metadata": {
        "id": "3wq8AmatGS8n"
      },
      "execution_count": 191,
      "outputs": []
    },
    {
      "cell_type": "code",
      "source": [
        "automobile = wn.synset('automobile.n.01')"
      ],
      "metadata": {
        "id": "UZdcpn4JGS6c"
      },
      "execution_count": 192,
      "outputs": []
    },
    {
      "cell_type": "code",
      "source": [
        "print(\"similarity between car and automobile\",car.path_similarity(automobile))"
      ],
      "metadata": {
        "colab": {
          "base_uri": "https://localhost:8080/"
        },
        "id": "SZYpXcnuGS2S",
        "outputId": "57e079eb-43dd-40a2-bc5b-c5b876204605"
      },
      "execution_count": 193,
      "outputs": [
        {
          "output_type": "stream",
          "name": "stdout",
          "text": [
            "similarity between car and automobile 1.0\n"
          ]
        }
      ]
    },
    {
      "cell_type": "code",
      "source": [
        "sprint = wn.synset('sprint.v.01')"
      ],
      "metadata": {
        "id": "PcgBU81BGSz-"
      },
      "execution_count": 194,
      "outputs": []
    },
    {
      "cell_type": "code",
      "source": [
        "run = wn.synset('run.v.01')"
      ],
      "metadata": {
        "id": "oVn-sSbcC2rY"
      },
      "execution_count": 195,
      "outputs": []
    },
    {
      "cell_type": "code",
      "source": [
        "print(run.wup_similarity(sprint))"
      ],
      "metadata": {
        "colab": {
          "base_uri": "https://localhost:8080/"
        },
        "id": "y3pXw2LvJRjL",
        "outputId": "e0b811ec-2bb0-4587-af36-32602f3b0d73"
      },
      "execution_count": 196,
      "outputs": [
        {
          "output_type": "stream",
          "name": "stdout",
          "text": [
            "0.8571428571428571\n"
          ]
        }
      ]
    },
    {
      "cell_type": "code",
      "source": [
        "jump=wn.synset('jump.v.01')\n",
        "leap=wn.synset('leap.v.01')\n",
        "ship =wn.synset('ship.n.01')\n",
        "boat=wn.synset('boat.n.01')\n",
        "sprint=wn.synset('sprint.v.01')\n",
        "print (\"Similarity between jump and leap \",jump.wup_similarity(leap))"
      ],
      "metadata": {
        "colab": {
          "base_uri": "https://localhost:8080/"
        },
        "id": "euaSu5U6JRfw",
        "outputId": "ffd256b7-05ce-498f-8e52-112ca7f5a594"
      },
      "execution_count": 198,
      "outputs": [
        {
          "output_type": "stream",
          "name": "stdout",
          "text": [
            "Similarity between jump and leap  1.0\n"
          ]
        }
      ]
    },
    {
      "cell_type": "code",
      "source": [
        "print(\"Similarity between car and automobile\",car.wup_similarity(automobile))\n",
        "print (\"Similarity between ship and boat \",ship.wup_similarity(boat))\n",
        "print (\"Similarity between run and sprint \",jump.wup_similarity(sprint))\n",
        "print (\"Similarity between jump and leap \",jump.wup_similarity(leap))"
      ],
      "metadata": {
        "colab": {
          "base_uri": "https://localhost:8080/"
        },
        "id": "VyDujlUbJRcW",
        "outputId": "fe0d1156-dc25-4872-be78-86d0b65c6cc8"
      },
      "execution_count": 199,
      "outputs": [
        {
          "output_type": "stream",
          "name": "stdout",
          "text": [
            "Similarity between car and automobile 1.0\n",
            "Similarity between ship and boat  0.9090909090909091\n",
            "Similarity between run and sprint  0.25\n",
            "Similarity between jump and leap  1.0\n"
          ]
        }
      ]
    },
    {
      "cell_type": "markdown",
      "source": [
        "PRAC 7"
      ],
      "metadata": {
        "id": "9HXiExG2J4_r"
      }
    },
    {
      "cell_type": "code",
      "source": [
        "from wordcloud import STOPWORDS ,WordCloud\n",
        "import numpy as np\n",
        "import matplotlib.pyplot as plt\n",
        "from PIL import Image\n"
      ],
      "metadata": {
        "id": "pDW5HdU3JRY-"
      },
      "execution_count": 200,
      "outputs": []
    },
    {
      "cell_type": "code",
      "source": [
        "dataset = open('movie_list.txt').read().upper()\n",
        "\n"
      ],
      "metadata": {
        "id": "pO4aCOLCJRVC"
      },
      "execution_count": 201,
      "outputs": []
    },
    {
      "cell_type": "code",
      "source": [
        "maskArray = np.array(Image.open('video-300x300.jpg'))"
      ],
      "metadata": {
        "id": "rdClTPsgJRSp"
      },
      "execution_count": 202,
      "outputs": []
    },
    {
      "cell_type": "code",
      "source": [
        "cloud = WordCloud(height=1200, width=1400,\n",
        "                  mask=maskArray, font_path='LEMONMILK-Medium.otf',\n",
        "                  background_color=\"#000\",\n",
        "                  min_font_size=4,max_font_size=70,\n",
        "                  collocations=True,stopwords=set(STOPWORDS),\n",
        "                  colormap=\"Blues\").generate(dataset)"
      ],
      "metadata": {
        "id": "AnVCwN5JJRQ2"
      },
      "execution_count": 214,
      "outputs": []
    },
    {
      "cell_type": "code",
      "source": [
        "plt.figure(figsize=(6,10),facecolor=None)\n",
        "plt.imshow(cloud)\n",
        "plt.axis(\"off\")"
      ],
      "metadata": {
        "colab": {
          "base_uri": "https://localhost:8080/",
          "height": 383
        },
        "id": "yGsD_w2MJRG-",
        "outputId": "ba530d3b-ca33-44f4-e369-94426dca8f2e"
      },
      "execution_count": 215,
      "outputs": [
        {
          "output_type": "execute_result",
          "data": {
            "text/plain": [
              "(-0.5, 299.5, 299.5, -0.5)"
            ]
          },
          "metadata": {},
          "execution_count": 215
        },
        {
          "output_type": "display_data",
          "data": {
            "text/plain": [
              "<Figure size 432x720 with 1 Axes>"
            ],
            "image/png": "[encoded data removed]"
          },
          "metadata": {
            "needs_background": "light"
          }
        }
      ]
    },
    {
      "cell_type": "markdown",
      "source": [
        "PRAC 8"
      ],
      "metadata": {
        "id": "DEjYzzK5NnUv"
      }
    },
    {
      "cell_type": "code",
      "source": [
        "from nltk.tokenize import word_tokenize, sent_tokenize\n",
        "from nltk.tag import pos_tag"
      ],
      "metadata": {
        "id": "s-1toeLsNnAB"
      },
      "execution_count": 216,
      "outputs": []
    },
    {
      "cell_type": "code",
      "source": [
        "dataset = open('/content/President_Speech.txt',encoding='cp1252').read()"
      ],
      "metadata": {
        "id": "Y8wp68GhJRDn"
      },
      "execution_count": 218,
      "outputs": []
    },
    {
      "cell_type": "code",
      "source": [
        "\n",
        "def summerization(text):\n",
        "  result = []\n",
        "  for no, sent in enumerate(sent_tokenize(text)):\n",
        "    no_of_tokens = len(word_tokenize(text))\n",
        "    tagged = pos_tag(word_tokenize(text))\n",
        "    no_of_nn = len([word for word,pos in tagged if pos in ['NN',\"NNP\"]])\n",
        "    ners = nltk.ne_chunk(tagged,binary=False)\n",
        "    no_of_ners = len([chunk for chunk in ners if hasattr(chunk,'label')])\n",
        "    score = (no_of_ners + no_of_nn)/float(no_of_tokens)\n",
        "    result.append((no,score,sent))\n",
        "  return result\n"
      ],
      "metadata": {
        "id": "60n6jJTsN9iX"
      },
      "execution_count": 222,
      "outputs": []
    },
    {
      "cell_type": "code",
      "source": [
        "sum = summerization(dataset)"
      ],
      "metadata": {
        "id": "wemokV4fN9e5"
      },
      "execution_count": 223,
      "outputs": []
    },
    {
      "cell_type": "code",
      "source": [
        "sum"
      ],
      "metadata": {
        "colab": {
          "base_uri": "https://localhost:8080/"
        },
        "id": "PE1SvojsN9cM",
        "outputId": "a218ab67-c1fe-44c1-d012-dcf0c66b1119"
      },
      "execution_count": 224,
      "outputs": [
        {
          "output_type": "execute_result",
          "data": {
            "text/plain": [
              "[(0,\n",
              "  0.20627376425855512,\n",
              "  'Less than one year has passed since I first stood at this podium, in this majestic chamber, to speak on behalf of the American people and to address their concerns, their hopes, and their dreams.'),\n",
              " (1,\n",
              "  0.20627376425855512,\n",
              "  'That night, our new administration had already taken very swift action.'),\n",
              " (2,\n",
              "  0.20627376425855512,\n",
              "  'A new tide of optimism was already sweeping across our land.'),\n",
              " (3,\n",
              "  0.20627376425855512,\n",
              "  'Each day since, we have gone forward with a clear vision and a righteous mission, to make America great again for all Americans.'),\n",
              " (4,\n",
              "  0.20627376425855512,\n",
              "  'Over the last year, we have made incredible progress and achieved extraordinary success.'),\n",
              " (5,\n",
              "  0.20627376425855512,\n",
              "  'We have faced challenges we expected and others we could have never imagined.'),\n",
              " (6,\n",
              "  0.20627376425855512,\n",
              "  'We have shared in the heights of victory and the pains of hardship.'),\n",
              " (7, 0.20627376425855512, 'We have endured floods and fires and storms.'),\n",
              " (8,\n",
              "  0.20627376425855512,\n",
              "  'But through it all, we have seen the beauty of America’s soul and the steel in America’s spine.'),\n",
              " (9,\n",
              "  0.20627376425855512,\n",
              "  'Each test forged new American heroes to remind us who we are and show us what we can be.'),\n",
              " (10,\n",
              "  0.20627376425855512,\n",
              "  'We saw the volunteers of the Cajun Navy racing to the rescue with their fishing boats to save people in the aftermath of a totally devastating hurricane.'),\n",
              " (11,\n",
              "  0.20627376425855512,\n",
              "  'We saw strangers shielding strangers from a hail of gunfire on the Las Vegas strip.'),\n",
              " (12,\n",
              "  0.20627376425855512,\n",
              "  'We heard tales of Americans, like Coast Guard Petty Officer Ashlee Leppert, who is here tonight in the gallery, with Melania.'),\n",
              " (13,\n",
              "  0.20627376425855512,\n",
              "  'Ashlee was aboard one of the first helicopters in the scene used for Hurricane Harvey.'),\n",
              " (14,\n",
              "  0.20627376425855512,\n",
              "  '18 hours of wind and rain, Ashlee braved power lines — downed power lines and deep water to save 40 lives.'),\n",
              " (15, 0.20627376425855512, 'Ashlee, we all thank you.'),\n",
              " (16, 0.20627376425855512, 'Thank you very much.'),\n",
              " (17,\n",
              "  0.20627376425855512,\n",
              "  'We heard about Americans like firefighter David Dahlberg.'),\n",
              " (18, 0.20627376425855512, 'He is here with us also.'),\n",
              " (19,\n",
              "  0.20627376425855512,\n",
              "  'David faced down walls of flame to rescue almost 60 children trapped in a California summer camp, threatened by those devastating wildfires.'),\n",
              " (20,\n",
              "  0.20627376425855512,\n",
              "  'To everyone still recovering in Texas, Florida, Louisiana, Puerto Rico, and the Virgin Islands, everywhere, we are with you, we love you, and we always will pull through together, always.'),\n",
              " (21,\n",
              "  0.20627376425855512,\n",
              "  'Thank you to David and the brave people of California.'),\n",
              " (22, 0.20627376425855512, 'Thank you very much, David.'),\n",
              " (23, 0.20627376425855512, 'Great job.'),\n",
              " (24,\n",
              "  0.20627376425855512,\n",
              "  'Some trials over the past year touched this chamber very personally.'),\n",
              " (25,\n",
              "  0.20627376425855512,\n",
              "  'With us tonight is one of the toughest people ever to serve in this house, a guy who took a bullet, almost died, and was back to work three and a half months later.'),\n",
              " (26,\n",
              "  0.20627376425855512,\n",
              "  'The legend from Louisiana, Congressman Steve Scalise.'),\n",
              " (27, 0.20627376425855512, 'I think they like you, Steve.'),\n",
              " (28,\n",
              "  0.20627376425855512,\n",
              "  'We are incredibly grateful for the heroic efforts of the capitol police officers, the Alexandria police, and the doctors, nurses, and paramedics who saved his life and the lives of many others and some in this room — of many others, some in this room.'),\n",
              " (29,\n",
              "  0.20627376425855512,\n",
              "  'In the aftermath of that terrible shooting we came together, not as Republicans or Democrats, but as representatives of the people.'),\n",
              " (30,\n",
              "  0.20627376425855512,\n",
              "  'But it is not enough to come together only in times of tragedy.'),\n",
              " (31,\n",
              "  0.20627376425855512,\n",
              "  'Tonight, I call on all of us to set aside our differences, to seek out common ground, and to summon the unity we need to deliver for the people.'),\n",
              " (32, 0.20627376425855512, 'This is really the key.'),\n",
              " (33, 0.20627376425855512, 'These are the people we are elected to serve.'),\n",
              " (34,\n",
              "  0.20627376425855512,\n",
              "  'Over the last year, the world has seen what we always know.'),\n",
              " (35,\n",
              "  0.20627376425855512,\n",
              "  'That no people on Earth are so fearless or daring or determined as Americans.'),\n",
              " (36, 0.20627376425855512, 'If there is a mountain, we climb it.'),\n",
              " (37, 0.20627376425855512, 'If there is a frontier, we cross it.'),\n",
              " (38, 0.20627376425855512, 'If there is a challenge, we tame it.'),\n",
              " (39, 0.20627376425855512, 'If there is an opportunity, we seize it.'),\n",
              " (40,\n",
              "  0.20627376425855512,\n",
              "  'Let’s begin tonight by recognizing that the state of our union is strong, because our people are strong.'),\n",
              " (41,\n",
              "  0.20627376425855512,\n",
              "  'And together we are building a safe, strong, and proud America.'),\n",
              " (42,\n",
              "  0.20627376425855512,\n",
              "  'Since the election, we have created 2.4 million new jobs, including 200,000 new jobs in manufacturing alone.'),\n",
              " (43, 0.20627376425855512, 'Tremendous.'),\n",
              " (44,\n",
              "  0.20627376425855512,\n",
              "  'After years and years of wages stagnation, we are finally seeing rising wages.'),\n",
              " (45, 0.20627376425855512, 'Unemployment claims have hit a 45-year low.'),\n",
              " (46,\n",
              "  0.20627376425855512,\n",
              "  'And something I am very proud of: African-American unemployment stands at the lowest rate ever recorded.'),\n",
              " (47,\n",
              "  0.20627376425855512,\n",
              "  'And Hispanic-American unemployment has also reached the lowest levels in history.'),\n",
              " (48,\n",
              "  0.20627376425855512,\n",
              "  'Small business confidence is at an all-time high.'),\n",
              " (49,\n",
              "  0.20627376425855512,\n",
              "  'The stock market has smashed one record after another, gaining a trillion dollars and more in value in just this short period of time.'),\n",
              " (50,\n",
              "  0.20627376425855512,\n",
              "  'The great news for Americans: 401(k) retirement, pension, and college savings accounts have gone through the roof.'),\n",
              " (51,\n",
              "  0.20627376425855512,\n",
              "  'And just as I promised the American people from this podium 11 months ago, we enacted the biggest tax cuts and reforms in American history.'),\n",
              " (52,\n",
              "  0.20627376425855512,\n",
              "  'Our massive tax cuts provide tremendous relief for the middle class and small businesses to lower tax rates for hard-working Americans.'),\n",
              " (53,\n",
              "  0.20627376425855512,\n",
              "  'We nearly doubled the standard deduction for everyone.'),\n",
              " (54,\n",
              "  0.20627376425855512,\n",
              "  'Now, the first $24,000 earned by a married couple is completely tax-free.'),\n",
              " (55, 0.20627376425855512, 'We also doubled the child tax credit.'),\n",
              " (56,\n",
              "  0.20627376425855512,\n",
              "  'A typical family of four making $75,000 will see their tax bill reduced by $2,000, slashing their tax bill in half.'),\n",
              " (57,\n",
              "  0.20627376425855512,\n",
              "  'In April, this will be the last time you will ever file under the old and very broken system.'),\n",
              " (58,\n",
              "  0.20627376425855512,\n",
              "  'And millions of Americans will have more take-home pay, starting next month.'),\n",
              " (59, 0.20627376425855512, 'A lot more.'),\n",
              " (60,\n",
              "  0.20627376425855512,\n",
              "  'We eliminated an especially — an especially cruel tax on Americans making less than $50,000 a year, forcing them to pay tremendous penalties, simply because they could not afford government-ordered health plans.'),\n",
              " (61,\n",
              "  0.20627376425855512,\n",
              "  'We repealed the core of the disastrous Obamacare, the individual mandate is now gone.'),\n",
              " (62, 0.20627376425855512, 'Thank you.')]"
            ]
          },
          "metadata": {},
          "execution_count": 224
        }
      ]
    },
    {
      "cell_type": "code",
      "source": [
        "for i in sorted(sum,key= lambda x : x[1],reverse=True):\n",
        "  print(i[2])"
      ],
      "metadata": {
        "colab": {
          "base_uri": "https://localhost:8080/"
        },
        "id": "Z90ZAI6MN9aO",
        "outputId": "71837d9b-dbb9-4734-c0c3-b1a85c4335b4"
      },
      "execution_count": 226,
      "outputs": [
        {
          "output_type": "stream",
          "name": "stdout",
          "text": [
            "Less than one year has passed since I first stood at this podium, in this majestic chamber, to speak on behalf of the American people and to address their concerns, their hopes, and their dreams.\n",
            "That night, our new administration had already taken very swift action.\n",
            "A new tide of optimism was already sweeping across our land.\n",
            "Each day since, we have gone forward with a clear vision and a righteous mission, to make America great again for all Americans.\n",
            "Over the last year, we have made incredible progress and achieved extraordinary success.\n",
            "We have faced challenges we expected and others we could have never imagined.\n",
            "We have shared in the heights of victory and the pains of hardship.\n",
            "We have endured floods and fires and storms.\n",
            "But through it all, we have seen the beauty of America’s soul and the steel in America’s spine.\n",
            "Each test forged new American heroes to remind us who we are and show us what we can be.\n",
            "We saw the volunteers of the Cajun Navy racing to the rescue with their fishing boats to save people in the aftermath of a totally devastating hurricane.\n",
            "We saw strangers shielding strangers from a hail of gunfire on the Las Vegas strip.\n",
            "We heard tales of Americans, like Coast Guard Petty Officer Ashlee Leppert, who is here tonight in the gallery, with Melania.\n",
            "Ashlee was aboard one of the first helicopters in the scene used for Hurricane Harvey.\n",
            "18 hours of wind and rain, Ashlee braved power lines — downed power lines and deep water to save 40 lives.\n",
            "Ashlee, we all thank you.\n",
            "Thank you very much.\n",
            "We heard about Americans like firefighter David Dahlberg.\n",
            "He is here with us also.\n",
            "David faced down walls of flame to rescue almost 60 children trapped in a California summer camp, threatened by those devastating wildfires.\n",
            "To everyone still recovering in Texas, Florida, Louisiana, Puerto Rico, and the Virgin Islands, everywhere, we are with you, we love you, and we always will pull through together, always.\n",
            "Thank you to David and the brave people of California.\n",
            "Thank you very much, David.\n",
            "Great job.\n",
            "Some trials over the past year touched this chamber very personally.\n",
            "With us tonight is one of the toughest people ever to serve in this house, a guy who took a bullet, almost died, and was back to work three and a half months later.\n",
            "The legend from Louisiana, Congressman Steve Scalise.\n",
            "I think they like you, Steve.\n",
            "We are incredibly grateful for the heroic efforts of the capitol police officers, the Alexandria police, and the doctors, nurses, and paramedics who saved his life and the lives of many others and some in this room — of many others, some in this room.\n",
            "In the aftermath of that terrible shooting we came together, not as Republicans or Democrats, but as representatives of the people.\n",
            "But it is not enough to come together only in times of tragedy.\n",
            "Tonight, I call on all of us to set aside our differences, to seek out common ground, and to summon the unity we need to deliver for the people.\n",
            "This is really the key.\n",
            "These are the people we are elected to serve.\n",
            "Over the last year, the world has seen what we always know.\n",
            "That no people on Earth are so fearless or daring or determined as Americans.\n",
            "If there is a mountain, we climb it.\n",
            "If there is a frontier, we cross it.\n",
            "If there is a challenge, we tame it.\n",
            "If there is an opportunity, we seize it.\n",
            "Let’s begin tonight by recognizing that the state of our union is strong, because our people are strong.\n",
            "And together we are building a safe, strong, and proud America.\n",
            "Since the election, we have created 2.4 million new jobs, including 200,000 new jobs in manufacturing alone.\n",
            "Tremendous.\n",
            "After years and years of wages stagnation, we are finally seeing rising wages.\n",
            "Unemployment claims have hit a 45-year low.\n",
            "And something I am very proud of: African-American unemployment stands at the lowest rate ever recorded.\n",
            "And Hispanic-American unemployment has also reached the lowest levels in history.\n",
            "Small business confidence is at an all-time high.\n",
            "The stock market has smashed one record after another, gaining a trillion dollars and more in value in just this short period of time.\n",
            "The great news for Americans: 401(k) retirement, pension, and college savings accounts have gone through the roof.\n",
            "And just as I promised the American people from this podium 11 months ago, we enacted the biggest tax cuts and reforms in American history.\n",
            "Our massive tax cuts provide tremendous relief for the middle class and small businesses to lower tax rates for hard-working Americans.\n",
            "We nearly doubled the standard deduction for everyone.\n",
            "Now, the first $24,000 earned by a married couple is completely tax-free.\n",
            "We also doubled the child tax credit.\n",
            "A typical family of four making $75,000 will see their tax bill reduced by $2,000, slashing their tax bill in half.\n",
            "In April, this will be the last time you will ever file under the old and very broken system.\n",
            "And millions of Americans will have more take-home pay, starting next month.\n",
            "A lot more.\n",
            "We eliminated an especially — an especially cruel tax on Americans making less than $50,000 a year, forcing them to pay tremendous penalties, simply because they could not afford government-ordered health plans.\n",
            "We repealed the core of the disastrous Obamacare, the individual mandate is now gone.\n",
            "Thank you.\n"
          ]
        }
      ]
    },
    {
      "cell_type": "code",
      "source": [
        "def sum_fun(text):\n",
        "  res=[]\n",
        "  for no,sent in enumerate(sent_tokenize(text)):\n",
        "    no_of_tokens=len(word_tokenize(text))\n",
        "    tags = nltk.pos_tag(word_tokenize(text))\n",
        "    no_of_nn = len([word for word,pos in tags if pos in ['NN','NNP']])\n",
        "    ners = nltk.ne_chunk(tags,binary=False)\n",
        "    no_of_ners = len([chunk for chunk in ners if hasattr(chunk,'label')])\n",
        "    score = (no_of_ners+no_of_nn)/float(no_of_tokens)\n",
        "    res.append((no,score,sent))\n",
        "  return res\n"
      ],
      "metadata": {
        "id": "dO1LaCGBN9YF"
      },
      "execution_count": 229,
      "outputs": []
    },
    {
      "cell_type": "code",
      "source": [
        "sum = sum_fun(dataset)"
      ],
      "metadata": {
        "id": "RwUI_UbfN9V0"
      },
      "execution_count": 230,
      "outputs": []
    },
    {
      "cell_type": "code",
      "source": [
        "sum"
      ],
      "metadata": {
        "colab": {
          "base_uri": "https://localhost:8080/"
        },
        "id": "VfU_EAFmN9Tn",
        "outputId": "a25bf060-e3f3-4f32-f0af-90022266b0d2"
      },
      "execution_count": 231,
      "outputs": [
        {
          "output_type": "execute_result",
          "data": {
            "text/plain": [
              "[(0,\n",
              "  0.20627376425855512,\n",
              "  'Less than one year has passed since I first stood at this podium, in this majestic chamber, to speak on behalf of the American people and to address their concerns, their hopes, and their dreams.'),\n",
              " (1,\n",
              "  0.20627376425855512,\n",
              "  'That night, our new administration had already taken very swift action.'),\n",
              " (2,\n",
              "  0.20627376425855512,\n",
              "  'A new tide of optimism was already sweeping across our land.'),\n",
              " (3,\n",
              "  0.20627376425855512,\n",
              "  'Each day since, we have gone forward with a clear vision and a righteous mission, to make America great again for all Americans.'),\n",
              " (4,\n",
              "  0.20627376425855512,\n",
              "  'Over the last year, we have made incredible progress and achieved extraordinary success.'),\n",
              " (5,\n",
              "  0.20627376425855512,\n",
              "  'We have faced challenges we expected and others we could have never imagined.'),\n",
              " (6,\n",
              "  0.20627376425855512,\n",
              "  'We have shared in the heights of victory and the pains of hardship.'),\n",
              " (7, 0.20627376425855512, 'We have endured floods and fires and storms.'),\n",
              " (8,\n",
              "  0.20627376425855512,\n",
              "  'But through it all, we have seen the beauty of America’s soul and the steel in America’s spine.'),\n",
              " (9,\n",
              "  0.20627376425855512,\n",
              "  'Each test forged new American heroes to remind us who we are and show us what we can be.'),\n",
              " (10,\n",
              "  0.20627376425855512,\n",
              "  'We saw the volunteers of the Cajun Navy racing to the rescue with their fishing boats to save people in the aftermath of a totally devastating hurricane.'),\n",
              " (11,\n",
              "  0.20627376425855512,\n",
              "  'We saw strangers shielding strangers from a hail of gunfire on the Las Vegas strip.'),\n",
              " (12,\n",
              "  0.20627376425855512,\n",
              "  'We heard tales of Americans, like Coast Guard Petty Officer Ashlee Leppert, who is here tonight in the gallery, with Melania.'),\n",
              " (13,\n",
              "  0.20627376425855512,\n",
              "  'Ashlee was aboard one of the first helicopters in the scene used for Hurricane Harvey.'),\n",
              " (14,\n",
              "  0.20627376425855512,\n",
              "  '18 hours of wind and rain, Ashlee braved power lines — downed power lines and deep water to save 40 lives.'),\n",
              " (15, 0.20627376425855512, 'Ashlee, we all thank you.'),\n",
              " (16, 0.20627376425855512, 'Thank you very much.'),\n",
              " (17,\n",
              "  0.20627376425855512,\n",
              "  'We heard about Americans like firefighter David Dahlberg.'),\n",
              " (18, 0.20627376425855512, 'He is here with us also.'),\n",
              " (19,\n",
              "  0.20627376425855512,\n",
              "  'David faced down walls of flame to rescue almost 60 children trapped in a California summer camp, threatened by those devastating wildfires.'),\n",
              " (20,\n",
              "  0.20627376425855512,\n",
              "  'To everyone still recovering in Texas, Florida, Louisiana, Puerto Rico, and the Virgin Islands, everywhere, we are with you, we love you, and we always will pull through together, always.'),\n",
              " (21,\n",
              "  0.20627376425855512,\n",
              "  'Thank you to David and the brave people of California.'),\n",
              " (22, 0.20627376425855512, 'Thank you very much, David.'),\n",
              " (23, 0.20627376425855512, 'Great job.'),\n",
              " (24,\n",
              "  0.20627376425855512,\n",
              "  'Some trials over the past year touched this chamber very personally.'),\n",
              " (25,\n",
              "  0.20627376425855512,\n",
              "  'With us tonight is one of the toughest people ever to serve in this house, a guy who took a bullet, almost died, and was back to work three and a half months later.'),\n",
              " (26,\n",
              "  0.20627376425855512,\n",
              "  'The legend from Louisiana, Congressman Steve Scalise.'),\n",
              " (27, 0.20627376425855512, 'I think they like you, Steve.'),\n",
              " (28,\n",
              "  0.20627376425855512,\n",
              "  'We are incredibly grateful for the heroic efforts of the capitol police officers, the Alexandria police, and the doctors, nurses, and paramedics who saved his life and the lives of many others and some in this room — of many others, some in this room.'),\n",
              " (29,\n",
              "  0.20627376425855512,\n",
              "  'In the aftermath of that terrible shooting we came together, not as Republicans or Democrats, but as representatives of the people.'),\n",
              " (30,\n",
              "  0.20627376425855512,\n",
              "  'But it is not enough to come together only in times of tragedy.'),\n",
              " (31,\n",
              "  0.20627376425855512,\n",
              "  'Tonight, I call on all of us to set aside our differences, to seek out common ground, and to summon the unity we need to deliver for the people.'),\n",
              " (32, 0.20627376425855512, 'This is really the key.'),\n",
              " (33, 0.20627376425855512, 'These are the people we are elected to serve.'),\n",
              " (34,\n",
              "  0.20627376425855512,\n",
              "  'Over the last year, the world has seen what we always know.'),\n",
              " (35,\n",
              "  0.20627376425855512,\n",
              "  'That no people on Earth are so fearless or daring or determined as Americans.'),\n",
              " (36, 0.20627376425855512, 'If there is a mountain, we climb it.'),\n",
              " (37, 0.20627376425855512, 'If there is a frontier, we cross it.'),\n",
              " (38, 0.20627376425855512, 'If there is a challenge, we tame it.'),\n",
              " (39, 0.20627376425855512, 'If there is an opportunity, we seize it.'),\n",
              " (40,\n",
              "  0.20627376425855512,\n",
              "  'Let’s begin tonight by recognizing that the state of our union is strong, because our people are strong.'),\n",
              " (41,\n",
              "  0.20627376425855512,\n",
              "  'And together we are building a safe, strong, and proud America.'),\n",
              " (42,\n",
              "  0.20627376425855512,\n",
              "  'Since the election, we have created 2.4 million new jobs, including 200,000 new jobs in manufacturing alone.'),\n",
              " (43, 0.20627376425855512, 'Tremendous.'),\n",
              " (44,\n",
              "  0.20627376425855512,\n",
              "  'After years and years of wages stagnation, we are finally seeing rising wages.'),\n",
              " (45, 0.20627376425855512, 'Unemployment claims have hit a 45-year low.'),\n",
              " (46,\n",
              "  0.20627376425855512,\n",
              "  'And something I am very proud of: African-American unemployment stands at the lowest rate ever recorded.'),\n",
              " (47,\n",
              "  0.20627376425855512,\n",
              "  'And Hispanic-American unemployment has also reached the lowest levels in history.'),\n",
              " (48,\n",
              "  0.20627376425855512,\n",
              "  'Small business confidence is at an all-time high.'),\n",
              " (49,\n",
              "  0.20627376425855512,\n",
              "  'The stock market has smashed one record after another, gaining a trillion dollars and more in value in just this short period of time.'),\n",
              " (50,\n",
              "  0.20627376425855512,\n",
              "  'The great news for Americans: 401(k) retirement, pension, and college savings accounts have gone through the roof.'),\n",
              " (51,\n",
              "  0.20627376425855512,\n",
              "  'And just as I promised the American people from this podium 11 months ago, we enacted the biggest tax cuts and reforms in American history.'),\n",
              " (52,\n",
              "  0.20627376425855512,\n",
              "  'Our massive tax cuts provide tremendous relief for the middle class and small businesses to lower tax rates for hard-working Americans.'),\n",
              " (53,\n",
              "  0.20627376425855512,\n",
              "  'We nearly doubled the standard deduction for everyone.'),\n",
              " (54,\n",
              "  0.20627376425855512,\n",
              "  'Now, the first $24,000 earned by a married couple is completely tax-free.'),\n",
              " (55, 0.20627376425855512, 'We also doubled the child tax credit.'),\n",
              " (56,\n",
              "  0.20627376425855512,\n",
              "  'A typical family of four making $75,000 will see their tax bill reduced by $2,000, slashing their tax bill in half.'),\n",
              " (57,\n",
              "  0.20627376425855512,\n",
              "  'In April, this will be the last time you will ever file under the old and very broken system.'),\n",
              " (58,\n",
              "  0.20627376425855512,\n",
              "  'And millions of Americans will have more take-home pay, starting next month.'),\n",
              " (59, 0.20627376425855512, 'A lot more.'),\n",
              " (60,\n",
              "  0.20627376425855512,\n",
              "  'We eliminated an especially — an especially cruel tax on Americans making less than $50,000 a year, forcing them to pay tremendous penalties, simply because they could not afford government-ordered health plans.'),\n",
              " (61,\n",
              "  0.20627376425855512,\n",
              "  'We repealed the core of the disastrous Obamacare, the individual mandate is now gone.'),\n",
              " (62, 0.20627376425855512, 'Thank you.')]"
            ]
          },
          "metadata": {},
          "execution_count": 231
        }
      ]
    },
    {
      "cell_type": "code",
      "source": [
        "for i in sorted(sum, key=lambda x:x[1],reverse=True):\n",
        "  print(i[2])"
      ],
      "metadata": {
        "colab": {
          "base_uri": "https://localhost:8080/"
        },
        "id": "1pVDjh9bN9Q0",
        "outputId": "91ca2e36-e666-4a6b-f2ec-badd0ca7df40"
      },
      "execution_count": 234,
      "outputs": [
        {
          "output_type": "stream",
          "name": "stdout",
          "text": [
            "Less than one year has passed since I first stood at this podium, in this majestic chamber, to speak on behalf of the American people and to address their concerns, their hopes, and their dreams.\n",
            "That night, our new administration had already taken very swift action.\n",
            "A new tide of optimism was already sweeping across our land.\n",
            "Each day since, we have gone forward with a clear vision and a righteous mission, to make America great again for all Americans.\n",
            "Over the last year, we have made incredible progress and achieved extraordinary success.\n",
            "We have faced challenges we expected and others we could have never imagined.\n",
            "We have shared in the heights of victory and the pains of hardship.\n",
            "We have endured floods and fires and storms.\n",
            "But through it all, we have seen the beauty of America’s soul and the steel in America’s spine.\n",
            "Each test forged new American heroes to remind us who we are and show us what we can be.\n",
            "We saw the volunteers of the Cajun Navy racing to the rescue with their fishing boats to save people in the aftermath of a totally devastating hurricane.\n",
            "We saw strangers shielding strangers from a hail of gunfire on the Las Vegas strip.\n",
            "We heard tales of Americans, like Coast Guard Petty Officer Ashlee Leppert, who is here tonight in the gallery, with Melania.\n",
            "Ashlee was aboard one of the first helicopters in the scene used for Hurricane Harvey.\n",
            "18 hours of wind and rain, Ashlee braved power lines — downed power lines and deep water to save 40 lives.\n",
            "Ashlee, we all thank you.\n",
            "Thank you very much.\n",
            "We heard about Americans like firefighter David Dahlberg.\n",
            "He is here with us also.\n",
            "David faced down walls of flame to rescue almost 60 children trapped in a California summer camp, threatened by those devastating wildfires.\n",
            "To everyone still recovering in Texas, Florida, Louisiana, Puerto Rico, and the Virgin Islands, everywhere, we are with you, we love you, and we always will pull through together, always.\n",
            "Thank you to David and the brave people of California.\n",
            "Thank you very much, David.\n",
            "Great job.\n",
            "Some trials over the past year touched this chamber very personally.\n",
            "With us tonight is one of the toughest people ever to serve in this house, a guy who took a bullet, almost died, and was back to work three and a half months later.\n",
            "The legend from Louisiana, Congressman Steve Scalise.\n",
            "I think they like you, Steve.\n",
            "We are incredibly grateful for the heroic efforts of the capitol police officers, the Alexandria police, and the doctors, nurses, and paramedics who saved his life and the lives of many others and some in this room — of many others, some in this room.\n",
            "In the aftermath of that terrible shooting we came together, not as Republicans or Democrats, but as representatives of the people.\n",
            "But it is not enough to come together only in times of tragedy.\n",
            "Tonight, I call on all of us to set aside our differences, to seek out common ground, and to summon the unity we need to deliver for the people.\n",
            "This is really the key.\n",
            "These are the people we are elected to serve.\n",
            "Over the last year, the world has seen what we always know.\n",
            "That no people on Earth are so fearless or daring or determined as Americans.\n",
            "If there is a mountain, we climb it.\n",
            "If there is a frontier, we cross it.\n",
            "If there is a challenge, we tame it.\n",
            "If there is an opportunity, we seize it.\n",
            "Let’s begin tonight by recognizing that the state of our union is strong, because our people are strong.\n",
            "And together we are building a safe, strong, and proud America.\n",
            "Since the election, we have created 2.4 million new jobs, including 200,000 new jobs in manufacturing alone.\n",
            "Tremendous.\n",
            "After years and years of wages stagnation, we are finally seeing rising wages.\n",
            "Unemployment claims have hit a 45-year low.\n",
            "And something I am very proud of: African-American unemployment stands at the lowest rate ever recorded.\n",
            "And Hispanic-American unemployment has also reached the lowest levels in history.\n",
            "Small business confidence is at an all-time high.\n",
            "The stock market has smashed one record after another, gaining a trillion dollars and more in value in just this short period of time.\n",
            "The great news for Americans: 401(k) retirement, pension, and college savings accounts have gone through the roof.\n",
            "And just as I promised the American people from this podium 11 months ago, we enacted the biggest tax cuts and reforms in American history.\n",
            "Our massive tax cuts provide tremendous relief for the middle class and small businesses to lower tax rates for hard-working Americans.\n",
            "We nearly doubled the standard deduction for everyone.\n",
            "Now, the first $24,000 earned by a married couple is completely tax-free.\n",
            "We also doubled the child tax credit.\n",
            "A typical family of four making $75,000 will see their tax bill reduced by $2,000, slashing their tax bill in half.\n",
            "In April, this will be the last time you will ever file under the old and very broken system.\n",
            "And millions of Americans will have more take-home pay, starting next month.\n",
            "A lot more.\n",
            "We eliminated an especially — an especially cruel tax on Americans making less than $50,000 a year, forcing them to pay tremendous penalties, simply because they could not afford government-ordered health plans.\n",
            "We repealed the core of the disastrous Obamacare, the individual mandate is now gone.\n",
            "Thank you.\n"
          ]
        }
      ]
    },
    {
      "cell_type": "code",
      "source": [
        "#prac 10\n"
      ],
      "metadata": {
        "id": "ROIuoM4VFhEc"
      },
      "execution_count": 8,
      "outputs": []
    },
    {
      "cell_type": "code",
      "source": [
        "import random\n",
        "from nltk.corpus import movie_reviews as mr"
      ],
      "metadata": {
        "id": "VatdruLJUnwf"
      },
      "execution_count": 11,
      "outputs": []
    },
    {
      "cell_type": "code",
      "source": [
        "document = []\n"
      ],
      "metadata": {
        "id": "Ni7Igx0cUzCG"
      },
      "execution_count": 10,
      "outputs": []
    },
    {
      "cell_type": "code",
      "source": [
        "for ct in mr.categories():\n",
        "  for fid in mr.fileids(ct):\n",
        "    document.append((list(mr.words(fid)),ct))"
      ],
      "metadata": {
        "id": "ikM_Gif0U7NO"
      },
      "execution_count": 12,
      "outputs": []
    },
    {
      "cell_type": "code",
      "source": [
        "random.shuffle(document)"
      ],
      "metadata": {
        "id": "Txm_c-_lWMvG"
      },
      "execution_count": 21,
      "outputs": []
    },
    {
      "cell_type": "code",
      "source": [
        "print(document[0])"
      ],
      "metadata": {
        "colab": {
          "base_uri": "https://localhost:8080/"
        },
        "id": "jaOb52hgVidM",
        "outputId": "8a50afe9-6384-44fb-92e7-6b35545a262e"
      },
      "execution_count": 22,
      "outputs": [
        {
          "output_type": "stream",
          "name": "stdout",
          "text": [
            "(['\"', 'through', 'a', 'spyglass', ',', 'i', 'could', 'see', 'everything', '.', '\"', 'king', 'louis', 'xvi', 'was', 'beheaded', 'on', 'january', '21', ',', '1793', ',', 'but', 'instead', 'of', 'visualizing', 'this', 'act', 'of', 'regicide', ',', 'legendary', 'auteur', 'eric', 'rohmer', \"'\", 's', 'the', 'lady', 'and', 'the', 'duke', 'observes', 'from', 'afar', '.', 'consider', 'it', 'a', 'view', 'to', 'a', 'kill', 'made', 'abstract', '.', 'a', 'proper', 'british', '(', 'yes', ',', 'british', ')', 'gentlewoman', ',', 'grace', 'elliott', '(', 'lucy', 'russell', ')', ',', 'and', 'her', 'loyal', 'maidservant', 'gaze', 'from', 'a', 'lofty', 'terrace', 'in', 'meudon', 'at', 'the', 'glistening', 'city', 'of', 'paris', ',', 'where', 'raucous', 'crowds', 'seem', 'tinier', 'than', 'ants', '.', 'the', 'maid', 'narrates', 'what', 'little', 'she', 'sees', 'of', 'the', 'execution', 'through', 'her', 'telescope', '(', 'often', 'muttering', ',', '\"', 'i', 'don', \"'\", 't', 'know', ',', '\"', ')', 'as', 'the', 'sound', 'of', 'cheering', 'patriots', 'and', 'revolutionaries', 'echoes', 'through', 'the', 'air', '.', 'what', 'we', 'don', \"'\", 't', 'see', 'might', 'not', 'be', 'able', 'to', 'hurt', 'us', '.', 'just', 'close', 'your', 'eyes', 'and', 'think', 'of', 'england', '.', 'during', 'times', 'of', 'revolution', ',', 'the', 'aristocracy', 'may', 'feel', 'a', 'false', 'sense', 'of', 'calm', 'in', 'their', 'parlor', 'halls', ',', 'discussing', 'tumultuous', 'events', 'over', 'glasses', 'of', 'sherry', 'until', 'the', 'walls', 'cave', 'in', 'on', 'them', '.', 'adapted', 'from', 'elliott', \"'\", 's', 'memoirs', ',', 'journal', 'of', 'my', 'life', 'during', 'the', 'french', 'revolution', ',', 'rohmer', \"'\", 's', 'latest', 'artistic', 'tour', '-', 'de', '-', 'force', 'may', 'seem', 'far', 'removed', 'from', 'his', 'domestic', 'comedies', '(', 'tales', 'of', 'the', 'four', 'seasons', ',', 'etc', '.', ')', ',', 'a', 'period', 'film', 'set', 'during', 'the', 'most', 'violent', 'changes', 'in', 'french', 'history', '.', 'resisting', 'the', 'temptation', 'for', 'grand', '-', 'scale', 'theatrics', ',', 'much', 'of', 'the', 'lady', 'and', 'the', 'duke', 'is', 'about', 'quiet', ',', 'decisive', 'moments', 'between', 'members', 'of', 'the', 'cultural', 'elite', 'as', 'they', 'determine', 'how', 'to', 'proceed', 'as', 'the', 'world', 'implodes', '.', 'grace', 'elliott', 'makes', 'for', 'an', 'unlikely', 'protagonist', ':', 'a', 'headstrong', ',', 'snobbish', 'blueblood', ',', 'one', 'unprepared', 'for', 'the', 'machinations', 'of', 'history', 'that', 'sweep', 'her', 'along', '.', 'a', 'foreigner', 'who', 'accepts', 'the', 'french', 'king', 'as', 'her', 'own', ',', 'grace', \"'\", 's', 'life', 'seems', 'defined', 'by', 'fancy', 'attire', 'and', 'lively', 'political', 'debate', 'with', 'her', 'former', 'lover', ',', 'the', 'king', \"'\", 's', 'hot', '-', 'blooded', 'cousin', ',', 'prince', 'philipe', ',', 'duke', 'of', 'orleans', '(', 'jean', '-', 'claude', 'dreyfus', ')', '.', 'the', 'times', 'are', 'changing', ',', 'though', ',', 'and', 'the', 'gears', 'inch', 'ever', 'closer', 'toward', 'violence', '.', 'during', 'the', 'september', 'massacres', 'of', '1792', ',', 'she', 'is', 'encountered', 'by', 'a', 'procession', 'of', 'rioters', 'brandishing', 'the', 'head', 'of', 'the', 'duke', \"'\", 's', 'sister', '-', 'in', '-', 'law', 'on', 'a', 'stake', '.', 'rohmer', 'makes', 'a', 'harsh', 'transition', 'from', 'tranquil', ',', 'old', 'fashioned', ',', 'almost', 'stagy', 'parlor', 'scenes', 'to', 'the', 'swell', 'of', 'an', 'angry', 'mob', '.', 'in', 'doing', 'so', ',', 'he', 'achieves', 'what', 'braveheart', 'and', 'the', 'patriot', 'could', 'not', ':', 'the', 'face', 'of', 'death', '.', 'when', 'grace', 'sees', 'her', 'friend', \"'\", 's', 'disembodied', 'head', 'on', 'a', 'pole', ',', 'rohmer', \"'\", 's', 'attention', 'drifts', 'from', 'the', 'societal', 'change', 'to', 'one', 'woman', \"'\", 's', 'reaction', 'shot', ',', 'laden', 'with', 'hot', 'tears', '.', 'grace', 'finds', 'herself', 'taking', 'in', 'a', 'fugitive', 'from', 'justice', ',', 'sheltering', 'him', 'from', 'the', 'mob', '.', 'through', 'her', 'relationship', 'with', 'the', 'duke', ',', 'she', 'seeks', 'a', 'passport', 'for', 'this', 'one', 'activist', \"'\", 's', 'escape', '.', 'grace', 'doesn', \"'\", 't', 'even', 'understand', 'her', 'own', 'actions', '(', 'and', 'the', 'duke', 'reacts', 'in', 'stunned', 'disbelief', 'at', 'how', 'she', 'places', 'herself', 'in', 'such', 'danger', ')', '.', 'she', 'endures', 'persecution', 'from', 'robespierre', 'and', 'his', 'gang', 'of', 'thuggish', 'equalizers', ',', 'ceaseless', 'police', 'monitoring', ',', 'house', 'searches', ',', 'even', 'a', 'brief', 'imprisonment', 'for', 'harmless', 'international', 'correspondence', '.', 'maintaining', 'her', 'stiff', 'upper', 'lip', 'and', 'pampered', 'life', '(', 'her', 'imperious', 'attitude', 'to', 'the', 'servants', 'never', 'changes', ')', ',', 'she', 'becomes', 'a', 'heroine', 'through', 'circumstance', '.', 'the', 'events', 'themselves', 'are', 'intrusions', 'upon', 'her', 'person', ',', 'her', 'home', ',', 'and', 'therefore', 'her', 'values', '.', 'aristocracy', 'proves', 'a', 'glass', 'house', ',', 'one', 'that', 'can', 'barely', 'withstand', 'the', 'upheaval', 'of', 'stones', '.', 'the', 'duke', 'is', 'called', 'to', 'vote', 'on', 'the', 'king', \"'\", 's', 'punishment', ',', 'and', 'despite', 'his', 'hours', 'of', 'deliberation', 'with', 'friends', 'and', 'advisors', ',', 'talk', 'means', 'nothing', 'in', 'the', 'face', 'of', 'bloody', 'action', '(', 'or', 'futile', 'inaction', ')', '.', 'the', 'episodic', 'structure', 'creates', 'a', 'wobbly', ',', 'jarring', 'detachment', 'from', 'the', 'events', 'of', 'the', 'french', 'revolution', ',', 'which', 'serves', 'as', 'metaphor', 'but', 'also', 'disconnects', 'potential', 'audience', 'identification', '.', 'lazy', 'viewers', '(', 'and', 'critics', ')', 'may', 'also', 'complain', 'that', 'knowledge', 'of', 'french', 'history', 'is', 'required', 'for', 'enjoyment', 'of', 'the', 'lady', 'and', 'the', 'duke', '.', 'that', \"'\", 's', 'foolery', ',', 'but', 'brings', 'up', 'the', 'valid', 'criticism', 'that', 'rohmer', \"'\", 's', 'characters', 'occasionally', 'become', 'didactic', '.', 'rohmer', \"'\", 's', 'imperfect', 'but', 'assured', 'push', 'toward', 'the', 'future', 'remains', 'staunch', 'and', 'notable', 'for', 'casting', 'a', 'cautious', 'eye', 'upon', 'the', 'past', 'while', 'taking', 'bold', 'steps', 'forward', 'into', 'an', 'uncertain', 'future', '.', 'what', 'may', 'arouse', 'interest', 'in', 'the', 'lady', 'and', 'the', 'duke', 'outside', 'of', 'foreign', 'film', 'enthusiasts', 'with', 'literary', 'and', 'historical', 'passions', 'is', 'rohmer', \"'\", 's', 'use', 'of', 'cutting', 'edge', 'digital', 'technology', 'as', 'a', 'means', 'of', 'exploring', 'the', 'theme', 'of', 'artifice', 'as', 'safety', 'net', 'or', 'coping', 'mechanism', '.', 'the', 'actors', 'were', 'filmed', 'against', 'a', 'bluescreen', ',', 'then', 'placed', 'against', 'painted', 'backdrops', 'recreating', 'the', 'vastness', 'of', '18th', 'century', 'paris', '.', 'this', 'recreation', 'calls', 'attention', 'to', 'itself', 'in', 'every', 'shot', ',', 'a', 'technicolor', 'dream', 'of', 'fanciful', 'buildings', 'and', 'wide', '-', 'open', 'streets', '.', 'it', 'looks', 'as', 'phony', 'as', 'titanic', ',', 'but', 'unlike', 'james', 'cameron', \"'\", 's', 'debacle', ',', 'the', 'lady', 'and', 'the', 'duke', 'plays', 'with', 'the', 'notion', 'of', 'false', 'security', 'in', 'those', 'walls', 'of', 'stone', '.', 'why', '?', 'they', 'aren', \"'\", 't', 'real', '.', 'the', 'very', 'foundation', 'rohmer', \"'\", 's', 'characters', 'stand', 'upon', 'is', 'false', ',', 'and', 'in', 'their', 'groundlessness', 'they', 'must', 'discover', 'themselves', ',', 'in', 'all', 'their', 'insubstantial', 'glory', '.', 'screened', 'at', 'the', '2001', 'new', 'york', 'film', 'festival', '(', 'feature', 'coming', 'soon', ')', '.'], 'pos')\n"
          ]
        }
      ]
    },
    {
      "cell_type": "code",
      "source": [
        "all_w=[]\n",
        "for w in mr.words():\n",
        "  all_w.append(w.lower())"
      ],
      "metadata": {
        "id": "jgKy4nU6Vlmu"
      },
      "execution_count": 23,
      "outputs": []
    },
    {
      "cell_type": "code",
      "source": [
        "fdist = nltk.FreqDist(all_w)\n",
        "print(fdist.most_common(15))\n",
        "print(fdist['love'])"
      ],
      "metadata": {
        "colab": {
          "base_uri": "https://localhost:8080/"
        },
        "id": "S0UUmUjrWjvw",
        "outputId": "778c13ee-77d0-4a0c-f6a3-7401bd65e0ba"
      },
      "execution_count": 24,
      "outputs": [
        {
          "output_type": "stream",
          "name": "stdout",
          "text": [
            "[(',', 77717), ('the', 76529), ('.', 65876), ('a', 38106), ('and', 35576), ('of', 34123), ('to', 31937), (\"'\", 30585), ('is', 25195), ('in', 21822), ('s', 18513), ('\"', 17612), ('it', 16107), ('that', 15924), ('-', 15595)]\n",
            "1119\n"
          ]
        }
      ]
    },
    {
      "cell_type": "code",
      "source": [
        "word_features = list(fdist.keys())[:3000]"
      ],
      "metadata": {
        "id": "xvDOTCM6W7Qq"
      },
      "execution_count": 25,
      "outputs": []
    },
    {
      "cell_type": "code",
      "source": [
        "def find_features(word_list):\n",
        "  words=set(word_list)\n",
        "  features={}\n",
        "  for w in word_features:\n",
        "    features[w] = (w in words);\n",
        "  return features"
      ],
      "metadata": {
        "id": "EGxtkf5OXRLa"
      },
      "execution_count": 47,
      "outputs": []
    },
    {
      "cell_type": "code",
      "source": [
        "find_features(mr.words('neg/cv000_29416.txt'))"
      ],
      "metadata": {
        "colab": {
          "base_uri": "https://localhost:8080/"
        },
        "id": "gJJjiOu9X08X",
        "outputId": "97e95033-fa36-4dbf-9c94-a82afaf17eec"
      },
      "execution_count": 48,
      "outputs": [
        {
          "output_type": "execute_result",
          "data": {
            "text/plain": [
              "{'plot': True,\n",
              " ':': True,\n",
              " 'two': True,\n",
              " 'teen': True,\n",
              " 'couples': True,\n",
              " 'go': True,\n",
              " 'to': True,\n",
              " 'a': True,\n",
              " 'church': True,\n",
              " 'party': True,\n",
              " ',': True,\n",
              " 'drink': True,\n",
              " 'and': True,\n",
              " 'then': True,\n",
              " 'drive': True,\n",
              " '.': True,\n",
              " 'they': True,\n",
              " 'get': True,\n",
              " 'into': True,\n",
              " 'an': True,\n",
              " 'accident': True,\n",
              " 'one': True,\n",
              " 'of': True,\n",
              " 'the': True,\n",
              " 'guys': True,\n",
              " 'dies': True,\n",
              " 'but': True,\n",
              " 'his': True,\n",
              " 'girlfriend': True,\n",
              " 'continues': True,\n",
              " 'see': True,\n",
              " 'him': True,\n",
              " 'in': True,\n",
              " 'her': True,\n",
              " 'life': True,\n",
              " 'has': True,\n",
              " 'nightmares': True,\n",
              " 'what': True,\n",
              " \"'\": True,\n",
              " 's': True,\n",
              " 'deal': True,\n",
              " '?': True,\n",
              " 'watch': True,\n",
              " 'movie': True,\n",
              " '\"': True,\n",
              " 'sorta': True,\n",
              " 'find': True,\n",
              " 'out': True,\n",
              " 'critique': True,\n",
              " 'mind': True,\n",
              " '-': True,\n",
              " 'fuck': True,\n",
              " 'for': True,\n",
              " 'generation': True,\n",
              " 'that': True,\n",
              " 'touches': True,\n",
              " 'on': True,\n",
              " 'very': True,\n",
              " 'cool': True,\n",
              " 'idea': True,\n",
              " 'presents': True,\n",
              " 'it': True,\n",
              " 'bad': True,\n",
              " 'package': True,\n",
              " 'which': True,\n",
              " 'is': True,\n",
              " 'makes': True,\n",
              " 'this': True,\n",
              " 'review': True,\n",
              " 'even': True,\n",
              " 'harder': True,\n",
              " 'write': True,\n",
              " 'since': True,\n",
              " 'i': True,\n",
              " 'generally': True,\n",
              " 'applaud': True,\n",
              " 'films': True,\n",
              " 'attempt': True,\n",
              " 'break': True,\n",
              " 'mold': True,\n",
              " 'mess': True,\n",
              " 'with': True,\n",
              " 'your': True,\n",
              " 'head': True,\n",
              " 'such': True,\n",
              " '(': True,\n",
              " 'lost': True,\n",
              " 'highway': True,\n",
              " '&': True,\n",
              " 'memento': True,\n",
              " ')': True,\n",
              " 'there': True,\n",
              " 'are': True,\n",
              " 'good': True,\n",
              " 'ways': True,\n",
              " 'making': True,\n",
              " 'all': True,\n",
              " 'types': True,\n",
              " 'these': True,\n",
              " 'folks': True,\n",
              " 'just': True,\n",
              " 'didn': True,\n",
              " 't': True,\n",
              " 'snag': True,\n",
              " 'correctly': True,\n",
              " 'seem': True,\n",
              " 'have': True,\n",
              " 'taken': True,\n",
              " 'pretty': True,\n",
              " 'neat': True,\n",
              " 'concept': True,\n",
              " 'executed': True,\n",
              " 'terribly': True,\n",
              " 'so': True,\n",
              " 'problems': True,\n",
              " 'well': True,\n",
              " 'its': True,\n",
              " 'main': True,\n",
              " 'problem': True,\n",
              " 'simply': True,\n",
              " 'too': True,\n",
              " 'jumbled': True,\n",
              " 'starts': True,\n",
              " 'off': True,\n",
              " 'normal': True,\n",
              " 'downshifts': True,\n",
              " 'fantasy': True,\n",
              " 'world': True,\n",
              " 'you': True,\n",
              " 'as': True,\n",
              " 'audience': True,\n",
              " 'member': True,\n",
              " 'no': True,\n",
              " 'going': True,\n",
              " 'dreams': True,\n",
              " 'characters': True,\n",
              " 'coming': True,\n",
              " 'back': True,\n",
              " 'from': True,\n",
              " 'dead': True,\n",
              " 'others': True,\n",
              " 'who': True,\n",
              " 'look': True,\n",
              " 'like': True,\n",
              " 'strange': True,\n",
              " 'apparitions': True,\n",
              " 'disappearances': True,\n",
              " 'looooot': True,\n",
              " 'chase': True,\n",
              " 'scenes': True,\n",
              " 'tons': True,\n",
              " 'weird': True,\n",
              " 'things': True,\n",
              " 'happen': True,\n",
              " 'most': True,\n",
              " 'not': True,\n",
              " 'explained': True,\n",
              " 'now': True,\n",
              " 'personally': True,\n",
              " 'don': True,\n",
              " 'trying': True,\n",
              " 'unravel': True,\n",
              " 'film': True,\n",
              " 'every': True,\n",
              " 'when': True,\n",
              " 'does': True,\n",
              " 'give': True,\n",
              " 'me': True,\n",
              " 'same': True,\n",
              " 'clue': True,\n",
              " 'over': True,\n",
              " 'again': True,\n",
              " 'kind': True,\n",
              " 'fed': True,\n",
              " 'up': True,\n",
              " 'after': True,\n",
              " 'while': True,\n",
              " 'biggest': True,\n",
              " 'obviously': True,\n",
              " 'got': True,\n",
              " 'big': True,\n",
              " 'secret': True,\n",
              " 'hide': True,\n",
              " 'seems': True,\n",
              " 'want': True,\n",
              " 'completely': True,\n",
              " 'until': True,\n",
              " 'final': True,\n",
              " 'five': True,\n",
              " 'minutes': True,\n",
              " 'do': True,\n",
              " 'make': True,\n",
              " 'entertaining': True,\n",
              " 'thrilling': True,\n",
              " 'or': True,\n",
              " 'engaging': True,\n",
              " 'meantime': True,\n",
              " 'really': True,\n",
              " 'sad': True,\n",
              " 'part': True,\n",
              " 'arrow': True,\n",
              " 'both': True,\n",
              " 'dig': True,\n",
              " 'flicks': True,\n",
              " 'we': True,\n",
              " 'actually': True,\n",
              " 'figured': True,\n",
              " 'by': True,\n",
              " 'half': True,\n",
              " 'way': True,\n",
              " 'point': True,\n",
              " 'strangeness': True,\n",
              " 'did': True,\n",
              " 'start': True,\n",
              " 'little': True,\n",
              " 'bit': True,\n",
              " 'sense': True,\n",
              " 'still': True,\n",
              " 'more': True,\n",
              " 'guess': True,\n",
              " 'bottom': True,\n",
              " 'line': True,\n",
              " 'movies': True,\n",
              " 'should': True,\n",
              " 'always': True,\n",
              " 'sure': True,\n",
              " 'before': True,\n",
              " 'given': True,\n",
              " 'password': True,\n",
              " 'enter': True,\n",
              " 'understanding': True,\n",
              " 'mean': True,\n",
              " 'showing': True,\n",
              " 'melissa': True,\n",
              " 'sagemiller': True,\n",
              " 'running': True,\n",
              " 'away': True,\n",
              " 'visions': True,\n",
              " 'about': True,\n",
              " '20': True,\n",
              " 'throughout': True,\n",
              " 'plain': True,\n",
              " 'lazy': True,\n",
              " '!': True,\n",
              " 'okay': True,\n",
              " 'people': True,\n",
              " 'chasing': True,\n",
              " 'know': True,\n",
              " 'need': True,\n",
              " 'how': True,\n",
              " 'giving': True,\n",
              " 'us': True,\n",
              " 'different': True,\n",
              " 'offering': True,\n",
              " 'further': True,\n",
              " 'insight': True,\n",
              " 'down': True,\n",
              " 'apparently': True,\n",
              " 'studio': True,\n",
              " 'took': True,\n",
              " 'director': True,\n",
              " 'chopped': True,\n",
              " 'themselves': True,\n",
              " 'shows': True,\n",
              " 'might': True,\n",
              " 've': True,\n",
              " 'been': True,\n",
              " 'decent': True,\n",
              " 'here': True,\n",
              " 'somewhere': True,\n",
              " 'suits': True,\n",
              " 'decided': True,\n",
              " 'turning': True,\n",
              " 'music': True,\n",
              " 'video': True,\n",
              " 'edge': True,\n",
              " 'would': True,\n",
              " 'actors': True,\n",
              " 'although': True,\n",
              " 'wes': True,\n",
              " 'bentley': True,\n",
              " 'seemed': True,\n",
              " 'be': True,\n",
              " 'playing': True,\n",
              " 'exact': True,\n",
              " 'character': True,\n",
              " 'he': True,\n",
              " 'american': True,\n",
              " 'beauty': True,\n",
              " 'only': True,\n",
              " 'new': True,\n",
              " 'neighborhood': True,\n",
              " 'my': True,\n",
              " 'kudos': True,\n",
              " 'holds': True,\n",
              " 'own': True,\n",
              " 'entire': True,\n",
              " 'feeling': True,\n",
              " 'unraveling': True,\n",
              " 'overall': True,\n",
              " 'doesn': True,\n",
              " 'stick': True,\n",
              " 'because': True,\n",
              " 'entertain': True,\n",
              " 'confusing': True,\n",
              " 'rarely': True,\n",
              " 'excites': True,\n",
              " 'feels': True,\n",
              " 'redundant': True,\n",
              " 'runtime': True,\n",
              " 'despite': True,\n",
              " 'ending': True,\n",
              " 'explanation': True,\n",
              " 'craziness': True,\n",
              " 'came': True,\n",
              " 'oh': True,\n",
              " 'horror': True,\n",
              " 'slasher': True,\n",
              " 'flick': True,\n",
              " 'packaged': True,\n",
              " 'someone': True,\n",
              " 'assuming': True,\n",
              " 'genre': True,\n",
              " 'hot': True,\n",
              " 'kids': True,\n",
              " 'also': True,\n",
              " 'wrapped': True,\n",
              " 'production': True,\n",
              " 'years': True,\n",
              " 'ago': True,\n",
              " 'sitting': True,\n",
              " 'shelves': True,\n",
              " 'ever': True,\n",
              " 'whatever': True,\n",
              " 'skip': True,\n",
              " 'where': True,\n",
              " 'joblo': True,\n",
              " 'nightmare': True,\n",
              " 'elm': True,\n",
              " 'street': True,\n",
              " '3': True,\n",
              " '7': True,\n",
              " '/': True,\n",
              " '10': True,\n",
              " 'blair': True,\n",
              " 'witch': True,\n",
              " '2': True,\n",
              " 'crow': True,\n",
              " '9': True,\n",
              " 'salvation': True,\n",
              " '4': True,\n",
              " 'stir': True,\n",
              " 'echoes': True,\n",
              " '8': True,\n",
              " 'happy': False,\n",
              " 'bastard': False,\n",
              " 'quick': False,\n",
              " 'damn': False,\n",
              " 'y2k': False,\n",
              " 'bug': False,\n",
              " 'starring': False,\n",
              " 'jamie': False,\n",
              " 'lee': False,\n",
              " 'curtis': False,\n",
              " 'another': False,\n",
              " 'baldwin': False,\n",
              " 'brother': False,\n",
              " 'william': False,\n",
              " 'time': False,\n",
              " 'story': False,\n",
              " 'regarding': False,\n",
              " 'crew': False,\n",
              " 'tugboat': False,\n",
              " 'comes': False,\n",
              " 'across': False,\n",
              " 'deserted': False,\n",
              " 'russian': False,\n",
              " 'tech': False,\n",
              " 'ship': False,\n",
              " 'kick': False,\n",
              " 'power': False,\n",
              " 'within': False,\n",
              " 'gore': False,\n",
              " 'bringing': False,\n",
              " 'few': False,\n",
              " 'action': False,\n",
              " 'sequences': False,\n",
              " 'virus': False,\n",
              " 'empty': False,\n",
              " 'flash': False,\n",
              " 'substance': False,\n",
              " 'why': False,\n",
              " 'was': False,\n",
              " 'middle': False,\n",
              " 'nowhere': False,\n",
              " 'origin': False,\n",
              " 'pink': False,\n",
              " 'flashy': False,\n",
              " 'thing': False,\n",
              " 'hit': False,\n",
              " 'mir': False,\n",
              " 'course': False,\n",
              " 'donald': False,\n",
              " 'sutherland': False,\n",
              " 'stumbling': False,\n",
              " 'around': False,\n",
              " 'drunkenly': False,\n",
              " 'hey': False,\n",
              " 'let': False,\n",
              " 'some': False,\n",
              " 'robots': False,\n",
              " 'acting': False,\n",
              " 'below': False,\n",
              " 'average': False,\n",
              " 'likes': False,\n",
              " 're': False,\n",
              " 'likely': False,\n",
              " 'work': False,\n",
              " 'halloween': False,\n",
              " 'h20': False,\n",
              " 'wasted': False,\n",
              " 'real': False,\n",
              " 'star': False,\n",
              " 'stan': False,\n",
              " 'winston': False,\n",
              " 'robot': False,\n",
              " 'design': False,\n",
              " 'schnazzy': False,\n",
              " 'cgi': False,\n",
              " 'occasional': False,\n",
              " 'shot': False,\n",
              " 'picking': False,\n",
              " 'brain': False,\n",
              " 'if': False,\n",
              " 'body': False,\n",
              " 'parts': False,\n",
              " 'turn': False,\n",
              " 'otherwise': False,\n",
              " 'much': False,\n",
              " 'sunken': False,\n",
              " 'jaded': False,\n",
              " 'viewer': False,\n",
              " 'thankful': False,\n",
              " 'invention': False,\n",
              " 'timex': False,\n",
              " 'indiglo': False,\n",
              " 'based': False,\n",
              " 'late': False,\n",
              " '1960': False,\n",
              " 'television': False,\n",
              " 'show': False,\n",
              " 'name': False,\n",
              " 'mod': False,\n",
              " 'squad': False,\n",
              " 'tells': False,\n",
              " 'tale': False,\n",
              " 'three': False,\n",
              " 'reformed': False,\n",
              " 'criminals': False,\n",
              " 'under': False,\n",
              " 'employ': False,\n",
              " 'police': False,\n",
              " 'undercover': False,\n",
              " 'however': False,\n",
              " 'wrong': False,\n",
              " 'evidence': False,\n",
              " 'gets': False,\n",
              " 'stolen': False,\n",
              " 'immediately': False,\n",
              " 'suspicion': False,\n",
              " 'ads': False,\n",
              " 'cuts': False,\n",
              " 'claire': False,\n",
              " 'dane': False,\n",
              " 'nice': False,\n",
              " 'hair': False,\n",
              " 'cute': False,\n",
              " 'outfits': False,\n",
              " 'car': False,\n",
              " 'chases': False,\n",
              " 'stuff': False,\n",
              " 'blowing': False,\n",
              " 'sounds': False,\n",
              " 'first': False,\n",
              " 'fifteen': False,\n",
              " 'quickly': False,\n",
              " 'becomes': False,\n",
              " 'apparent': False,\n",
              " 'certainly': False,\n",
              " 'slick': False,\n",
              " 'looking': False,\n",
              " 'complete': False,\n",
              " 'costumes': False,\n",
              " 'isn': False,\n",
              " 'enough': False,\n",
              " 'best': False,\n",
              " 'described': False,\n",
              " 'cross': False,\n",
              " 'between': False,\n",
              " 'hour': False,\n",
              " 'long': False,\n",
              " 'cop': False,\n",
              " 'stretched': False,\n",
              " 'span': False,\n",
              " 'single': False,\n",
              " 'clich': False,\n",
              " 'matter': False,\n",
              " 'elements': False,\n",
              " 'recycled': False,\n",
              " 'everything': False,\n",
              " 'already': False,\n",
              " 'seen': False,\n",
              " 'nothing': False,\n",
              " 'spectacular': False,\n",
              " 'sometimes': False,\n",
              " 'bordering': False,\n",
              " 'wooden': False,\n",
              " 'danes': False,\n",
              " 'omar': False,\n",
              " 'epps': False,\n",
              " 'deliver': False,\n",
              " 'their': False,\n",
              " 'lines': False,\n",
              " 'bored': False,\n",
              " 'transfers': False,\n",
              " 'onto': False,\n",
              " 'escape': False,\n",
              " 'relatively': False,\n",
              " 'unscathed': False,\n",
              " 'giovanni': False,\n",
              " 'ribisi': False,\n",
              " 'plays': False,\n",
              " 'resident': False,\n",
              " 'crazy': False,\n",
              " 'man': False,\n",
              " 'ultimately': False,\n",
              " 'being': False,\n",
              " 'worth': False,\n",
              " 'watching': False,\n",
              " 'unfortunately': False,\n",
              " 'save': False,\n",
              " 'convoluted': False,\n",
              " 'apart': False,\n",
              " 'occupying': False,\n",
              " 'screen': False,\n",
              " 'young': False,\n",
              " 'cast': False,\n",
              " 'clothes': False,\n",
              " 'hip': False,\n",
              " 'soundtrack': False,\n",
              " 'appears': False,\n",
              " 'geared': False,\n",
              " 'towards': False,\n",
              " 'teenage': False,\n",
              " 'mindset': False,\n",
              " 'r': False,\n",
              " 'rating': False,\n",
              " 'content': False,\n",
              " 'justify': False,\n",
              " 'juvenile': False,\n",
              " 'older': False,\n",
              " 'information': False,\n",
              " 'literally': False,\n",
              " 'spoon': False,\n",
              " 'hard': False,\n",
              " 'instead': False,\n",
              " 'telling': False,\n",
              " 'dialogue': False,\n",
              " 'poorly': False,\n",
              " 'written': False,\n",
              " 'extremely': False,\n",
              " 'predictable': False,\n",
              " 'progresses': False,\n",
              " 'won': False,\n",
              " 'care': False,\n",
              " 'heroes': False,\n",
              " 'any': False,\n",
              " 'jeopardy': False,\n",
              " 'll': False,\n",
              " 'aren': False,\n",
              " 'basing': False,\n",
              " 'nobody': False,\n",
              " 'remembers': False,\n",
              " 'questionable': False,\n",
              " 'wisdom': False,\n",
              " 'especially': False,\n",
              " 'considers': False,\n",
              " 'target': False,\n",
              " 'fact': False,\n",
              " 'number': False,\n",
              " 'memorable': False,\n",
              " 'can': False,\n",
              " 'counted': False,\n",
              " 'hand': False,\n",
              " 'missing': False,\n",
              " 'finger': False,\n",
              " 'times': False,\n",
              " 'checked': False,\n",
              " 'six': False,\n",
              " 'clear': False,\n",
              " 'indication': False,\n",
              " 'them': False,\n",
              " 'than': False,\n",
              " 'cash': False,\n",
              " 'spending': False,\n",
              " 'dollar': False,\n",
              " 'judging': False,\n",
              " 'rash': False,\n",
              " 'awful': False,\n",
              " 'seeing': False,\n",
              " 'avoid': False,\n",
              " 'at': False,\n",
              " 'costs': False,\n",
              " 'quest': False,\n",
              " 'camelot': False,\n",
              " 'warner': False,\n",
              " 'bros': False,\n",
              " 'feature': False,\n",
              " 'length': False,\n",
              " 'fully': False,\n",
              " 'animated': False,\n",
              " 'steal': False,\n",
              " 'clout': False,\n",
              " 'disney': False,\n",
              " 'cartoon': False,\n",
              " 'empire': False,\n",
              " 'mouse': False,\n",
              " 'reason': False,\n",
              " 'worried': False,\n",
              " 'other': False,\n",
              " 'recent': False,\n",
              " 'challenger': False,\n",
              " 'throne': False,\n",
              " 'last': False,\n",
              " 'fall': False,\n",
              " 'promising': False,\n",
              " 'flawed': False,\n",
              " '20th': False,\n",
              " 'century': False,\n",
              " 'fox': False,\n",
              " 'anastasia': False,\n",
              " 'hercules': False,\n",
              " 'lively': False,\n",
              " 'colorful': False,\n",
              " 'palate': False,\n",
              " 'had': False,\n",
              " 'beat': False,\n",
              " 'hands': False,\n",
              " 'crown': False,\n",
              " '1997': False,\n",
              " 'piece': False,\n",
              " 'animation': False,\n",
              " 'year': False,\n",
              " 'contest': False,\n",
              " 'arrival': False,\n",
              " 'magic': False,\n",
              " 'kingdom': False,\n",
              " 'mediocre': False,\n",
              " '--': False,\n",
              " 'd': False,\n",
              " 'pocahontas': False,\n",
              " 'those': False,\n",
              " 'keeping': False,\n",
              " 'score': False,\n",
              " 'nearly': False,\n",
              " 'dull': False,\n",
              " 'revolves': False,\n",
              " 'adventures': False,\n",
              " 'free': False,\n",
              " 'spirited': False,\n",
              " 'kayley': False,\n",
              " 'voiced': False,\n",
              " 'jessalyn': False,\n",
              " 'gilsig': False,\n",
              " 'early': False,\n",
              " 'daughter': False,\n",
              " 'belated': False,\n",
              " 'knight': False,\n",
              " 'king': False,\n",
              " 'arthur': False,\n",
              " 'round': False,\n",
              " 'table': False,\n",
              " 'dream': False,\n",
              " 'follow': False,\n",
              " 'father': False,\n",
              " 'footsteps': False,\n",
              " 'she': False,\n",
              " 'chance': False,\n",
              " 'evil': False,\n",
              " 'warlord': False,\n",
              " 'ruber': False,\n",
              " 'gary': False,\n",
              " 'oldman': False,\n",
              " 'ex': False,\n",
              " 'gone': False,\n",
              " 'steals': False,\n",
              " 'magical': False,\n",
              " 'sword': False,\n",
              " 'excalibur': False,\n",
              " 'accidentally': False,\n",
              " 'loses': False,\n",
              " 'dangerous': False,\n",
              " 'booby': False,\n",
              " 'trapped': False,\n",
              " 'forest': False,\n",
              " 'help': False,\n",
              " 'hunky': False,\n",
              " 'blind': False,\n",
              " 'timberland': False,\n",
              " 'dweller': False,\n",
              " 'garrett': False,\n",
              " 'carey': False,\n",
              " 'elwes': False,\n",
              " 'headed': False,\n",
              " 'dragon': False,\n",
              " 'eric': False,\n",
              " 'idle': False,\n",
              " 'rickles': False,\n",
              " 'arguing': False,\n",
              " 'itself': False,\n",
              " 'able': False,\n",
              " 'medieval': False,\n",
              " 'sexist': False,\n",
              " 'prove': False,\n",
              " 'fighter': False,\n",
              " 'side': False,\n",
              " 'pure': False,\n",
              " 'showmanship': False,\n",
              " 'essential': False,\n",
              " 'element': False,\n",
              " 'expected': False,\n",
              " 'climb': False,\n",
              " 'high': False,\n",
              " 'ranks': False,\n",
              " 'differentiates': False,\n",
              " 'something': False,\n",
              " 'saturday': False,\n",
              " 'morning': False,\n",
              " 'subpar': False,\n",
              " 'instantly': False,\n",
              " 'forgettable': False,\n",
              " 'songs': False,\n",
              " 'integrated': False,\n",
              " 'computerized': False,\n",
              " 'footage': False,\n",
              " 'compare': False,\n",
              " 'run': False,\n",
              " 'angry': False,\n",
              " 'ogre': False,\n",
              " 'herc': False,\n",
              " 'battle': False,\n",
              " 'hydra': False,\n",
              " 'rest': False,\n",
              " 'case': False,\n",
              " 'stink': False,\n",
              " 'none': False,\n",
              " 'remotely': False,\n",
              " 'interesting': False,\n",
              " 'race': False,\n",
              " 'bland': False,\n",
              " 'end': False,\n",
              " 'tie': False,\n",
              " 'win': False,\n",
              " 'comedy': False,\n",
              " 'shtick': False,\n",
              " 'awfully': False,\n",
              " 'cloying': False,\n",
              " 'least': False,\n",
              " 'signs': False,\n",
              " 'pulse': False,\n",
              " 'fans': False,\n",
              " \"-'\": False,\n",
              " '90s': False,\n",
              " 'tgif': False,\n",
              " 'will': False,\n",
              " 'thrilled': False,\n",
              " 'jaleel': False,\n",
              " 'urkel': False,\n",
              " 'white': False,\n",
              " 'bronson': False,\n",
              " 'balki': False,\n",
              " 'pinchot': False,\n",
              " 'sharing': False,\n",
              " 'nicely': False,\n",
              " 'realized': False,\n",
              " 'though': False,\n",
              " 'm': False,\n",
              " 'loss': False,\n",
              " 'recall': False,\n",
              " 'specific': False,\n",
              " 'providing': False,\n",
              " 'voice': False,\n",
              " 'talent': False,\n",
              " 'enthusiastic': False,\n",
              " 'paired': False,\n",
              " 'singers': False,\n",
              " 'sound': False,\n",
              " 'musical': False,\n",
              " 'moments': False,\n",
              " 'jane': False,\n",
              " 'seymour': False,\n",
              " 'celine': False,\n",
              " 'dion': False,\n",
              " 'must': False,\n",
              " 'strain': False,\n",
              " 'through': False,\n",
              " 'aside': False,\n",
              " 'children': False,\n",
              " 'probably': False,\n",
              " 'adults': False,\n",
              " 'grievous': False,\n",
              " 'error': False,\n",
              " 'lack': False,\n",
              " 'personality': False,\n",
              " 'learn': False,\n",
              " 'goes': False,\n",
              " 'synopsis': False,\n",
              " 'mentally': False,\n",
              " 'unstable': False,\n",
              " 'undergoing': False,\n",
              " 'psychotherapy': False,\n",
              " 'saves': False,\n",
              " 'boy': False,\n",
              " 'potentially': False,\n",
              " 'fatal': False,\n",
              " 'falls': False,\n",
              " 'love': False,\n",
              " 'mother': False,\n",
              " 'fledgling': False,\n",
              " 'restauranteur': False,\n",
              " 'unsuccessfully': False,\n",
              " 'attempting': False,\n",
              " 'gain': False,\n",
              " 'woman': False,\n",
              " 'favor': False,\n",
              " 'takes': False,\n",
              " 'pictures': False,\n",
              " 'kills': False,\n",
              " 'comments': False,\n",
              " 'stalked': False,\n",
              " 'yet': False,\n",
              " 'seemingly': False,\n",
              " 'endless': False,\n",
              " 'string': False,\n",
              " 'spurned': False,\n",
              " 'psychos': False,\n",
              " 'getting': False,\n",
              " 'revenge': False,\n",
              " 'type': False,\n",
              " 'stable': False,\n",
              " 'category': False,\n",
              " '1990s': False,\n",
              " 'industry': False,\n",
              " 'theatrical': False,\n",
              " 'direct': False,\n",
              " 'proliferation': False,\n",
              " 'may': False,\n",
              " 'due': False,\n",
              " 'typically': False,\n",
              " 'inexpensive': False,\n",
              " 'produce': False,\n",
              " 'special': False,\n",
              " 'effects': False,\n",
              " 'stars': False,\n",
              " 'serve': False,\n",
              " 'vehicles': False,\n",
              " 'nudity': False,\n",
              " 'allowing': False,\n",
              " 'frequent': False,\n",
              " 'night': False,\n",
              " 'cable': False,\n",
              " 'wavers': False,\n",
              " 'slightly': False,\n",
              " 'norm': False,\n",
              " 'respect': False,\n",
              " 'psycho': False,\n",
              " 'never': False,\n",
              " 'affair': False,\n",
              " ';': False,\n",
              " 'contrary': False,\n",
              " 'rejected': False,\n",
              " 'rather': False,\n",
              " 'lover': False,\n",
              " 'wife': False,\n",
              " 'husband': False,\n",
              " 'entry': False,\n",
              " 'doomed': False,\n",
              " 'collect': False,\n",
              " 'dust': False,\n",
              " 'viewed': False,\n",
              " 'midnight': False,\n",
              " 'provide': False,\n",
              " 'suspense': False,\n",
              " 'sets': False,\n",
              " 'interspersed': False,\n",
              " 'opening': False,\n",
              " 'credits': False,\n",
              " 'instance': False,\n",
              " 'serious': False,\n",
              " 'sounding': False,\n",
              " 'narrator': False,\n",
              " 'spouts': False,\n",
              " 'statistics': False,\n",
              " 'stalkers': False,\n",
              " 'ponders': False,\n",
              " 'cause': False,\n",
              " 'stalk': False,\n",
              " 'implicitly': False,\n",
              " 'implied': False,\n",
              " 'men': False,\n",
              " 'shown': False,\n",
              " 'snapshot': False,\n",
              " 'actor': False,\n",
              " 'jay': False,\n",
              " 'underwood': False,\n",
              " 'states': False,\n",
              " 'daryl': False,\n",
              " 'gleason': False,\n",
              " 'stalker': False,\n",
              " 'brooke': False,\n",
              " 'daniels': False,\n",
              " 'meant': False,\n",
              " 'called': False,\n",
              " 'guesswork': False,\n",
              " 'required': False,\n",
              " 'proceeds': False,\n",
              " 'begins': False,\n",
              " 'obvious': False,\n",
              " 'sequence': False,\n",
              " 'contrived': False,\n",
              " 'quite': False,\n",
              " 'brings': False,\n",
              " 'victim': False,\n",
              " 'together': False,\n",
              " 'obsesses': False,\n",
              " 'follows': False,\n",
              " 'tries': False,\n",
              " 'woo': False,\n",
              " 'plans': False,\n",
              " 'become': False,\n",
              " 'desperate': False,\n",
              " 'elaborate': False,\n",
              " 'include': False,\n",
              " 'cliche': False,\n",
              " 'murdered': False,\n",
              " 'pet': False,\n",
              " 'require': False,\n",
              " 'found': False,\n",
              " 'exception': False,\n",
              " 'cat': False,\n",
              " 'shower': False,\n",
              " 'events': False,\n",
              " 'lead': False,\n",
              " 'inevitable': False,\n",
              " 'showdown': False,\n",
              " 'survives': False,\n",
              " 'invariably': False,\n",
              " 'conclusion': False,\n",
              " 'turkey': False,\n",
              " 'uniformly': False,\n",
              " 'adequate': False,\n",
              " 'anything': False,\n",
              " 'home': False,\n",
              " 'either': False,\n",
              " 'turns': False,\n",
              " 'toward': False,\n",
              " 'melodrama': False,\n",
              " 'overdoes': False,\n",
              " 'words': False,\n",
              " 'manages': False,\n",
              " 'creepy': False,\n",
              " 'pass': False,\n",
              " 'demands': False,\n",
              " 'maryam': False,\n",
              " 'abo': False,\n",
              " 'close': False,\n",
              " 'played': False,\n",
              " 'bond': False,\n",
              " 'chick': False,\n",
              " 'living': False,\n",
              " 'daylights': False,\n",
              " 'equally': False,\n",
              " 'title': False,\n",
              " 'ditzy': False,\n",
              " 'strong': False,\n",
              " 'independent': False,\n",
              " 'business': False,\n",
              " 'owner': False,\n",
              " 'needs': False,\n",
              " 'proceed': False,\n",
              " 'example': False,\n",
              " 'suspicions': False,\n",
              " 'ensure': False,\n",
              " 'use': False,\n",
              " 'excuse': False,\n",
              " 'decides': False,\n",
              " 'return': False,\n",
              " 'toolbox': False,\n",
              " 'left': False,\n",
              " 'place': False,\n",
              " ...}"
            ]
          },
          "metadata": {},
          "execution_count": 48
        }
      ]
    },
    {
      "cell_type": "code",
      "source": [
        "featuresets = [(find_features(rev), category) for (rev, category) in document]"
      ],
      "metadata": {
        "id": "iFz07s07X7MX"
      },
      "execution_count": 49,
      "outputs": []
    },
    {
      "cell_type": "code",
      "source": [
        "training_set = featuresets[:1900]\n",
        "testing_set = featuresets[1900:]"
      ],
      "metadata": {
        "id": "Q4ohcGHqbKiq"
      },
      "execution_count": 50,
      "outputs": []
    },
    {
      "cell_type": "code",
      "source": [
        "classifier = nltk.NaiveBayesClassifier.train(training_set)"
      ],
      "metadata": {
        "id": "h62CwCa2bWAH"
      },
      "execution_count": 51,
      "outputs": []
    },
    {
      "cell_type": "code",
      "source": [
        "print(\"Accuracy:\", (nltk.classify.accuracy(classifier, testing_set))*100)"
      ],
      "metadata": {
        "colab": {
          "base_uri": "https://localhost:8080/"
        },
        "id": "k7JTATWmbhNe",
        "outputId": "8b2a0d17-8c08-48b2-df10-492456f81b46"
      },
      "execution_count": 52,
      "outputs": [
        {
          "output_type": "stream",
          "name": "stdout",
          "text": [
            "Accuracy: 72.0\n"
          ]
        }
      ]
    },
    {
      "cell_type": "code",
      "source": [
        "classifier.show_most_informative_features(15)"
      ],
      "metadata": {
        "colab": {
          "base_uri": "https://localhost:8080/"
        },
        "id": "kgLXO0cLbqE0",
        "outputId": "44e46381-7080-4395-ceda-cfab15aa536e"
      },
      "execution_count": 53,
      "outputs": [
        {
          "output_type": "stream",
          "name": "stdout",
          "text": [
            "Most Informative Features\n",
            "                   sucks = True              neg : pos    =      9.8 : 1.0\n",
            "                  annual = True              pos : neg    =      9.6 : 1.0\n",
            "                 idiotic = True              neg : pos    =      9.3 : 1.0\n",
            "                 frances = True              pos : neg    =      7.6 : 1.0\n",
            "               atrocious = True              neg : pos    =      7.0 : 1.0\n",
            "                    mena = True              neg : pos    =      7.0 : 1.0\n",
            "                  shoddy = True              neg : pos    =      7.0 : 1.0\n",
            "             silverstone = True              neg : pos    =      7.0 : 1.0\n",
            "                  suvari = True              neg : pos    =      7.0 : 1.0\n",
            "                  turkey = True              neg : pos    =      6.8 : 1.0\n",
            "              schumacher = True              neg : pos    =      6.6 : 1.0\n",
            "                 kidding = True              neg : pos    =      6.4 : 1.0\n",
            "                 cunning = True              pos : neg    =      6.3 : 1.0\n",
            "                 singers = True              pos : neg    =      6.3 : 1.0\n",
            "                  regard = True              pos : neg    =      6.2 : 1.0\n"
          ]
        }
      ]
    },
    {
      "cell_type": "code",
      "source": [
        "#prac 9"
      ],
      "metadata": {
        "id": "CnvCb7kBbugb"
      },
      "execution_count": 54,
      "outputs": []
    },
    {
      "cell_type": "code",
      "source": [
        "!pip install gensim\n",
        "!pip install wikipedia"
      ],
      "metadata": {
        "colab": {
          "base_uri": "https://localhost:8080/"
        },
        "id": "T87u4x68djDH",
        "outputId": "354d7f58-9120-4dab-d343-bda3f42d8588"
      },
      "execution_count": 56,
      "outputs": [
        {
          "output_type": "stream",
          "name": "stdout",
          "text": [
            "Looking in indexes: https://pypi.org/simple, https://us-python.pkg.dev/colab-wheels/public/simple/\n",
            "Requirement already satisfied: gensim in /usr/local/lib/python3.8/dist-packages (3.6.0)\n",
            "Requirement already satisfied: six>=1.5.0 in /usr/local/lib/python3.8/dist-packages (from gensim) (1.15.0)\n",
            "Requirement already satisfied: numpy>=1.11.3 in /usr/local/lib/python3.8/dist-packages (from gensim) (1.21.6)\n",
            "Requirement already satisfied: smart-open>=1.2.1 in /usr/local/lib/python3.8/dist-packages (from gensim) (5.2.1)\n",
            "Requirement already satisfied: scipy>=0.18.1 in /usr/local/lib/python3.8/dist-packages (from gensim) (1.7.3)\n",
            "Looking in indexes: https://pypi.org/simple, https://us-python.pkg.dev/colab-wheels/public/simple/\n",
            "Requirement already satisfied: wikipedia in /usr/local/lib/python3.8/dist-packages (1.4.0)\n",
            "Requirement already satisfied: beautifulsoup4 in /usr/local/lib/python3.8/dist-packages (from wikipedia) (4.6.3)\n",
            "Requirement already satisfied: requests<3.0.0,>=2.0.0 in /usr/local/lib/python3.8/dist-packages (from wikipedia) (2.23.0)\n",
            "Requirement already satisfied: certifi>=2017.4.17 in /usr/local/lib/python3.8/dist-packages (from requests<3.0.0,>=2.0.0->wikipedia) (2022.9.24)\n",
            "Requirement already satisfied: idna<3,>=2.5 in /usr/local/lib/python3.8/dist-packages (from requests<3.0.0,>=2.0.0->wikipedia) (2.10)\n",
            "Requirement already satisfied: urllib3!=1.25.0,!=1.25.1,<1.26,>=1.21.1 in /usr/local/lib/python3.8/dist-packages (from requests<3.0.0,>=2.0.0->wikipedia) (1.24.3)\n",
            "Requirement already satisfied: chardet<4,>=3.0.2 in /usr/local/lib/python3.8/dist-packages (from requests<3.0.0,>=2.0.0->wikipedia) (3.0.4)\n"
          ]
        }
      ]
    },
    {
      "cell_type": "code",
      "source": [
        "from nltk.tokenize import word_tokenize, sent_tokenize\n",
        "from nltk.corpus import stopwords\n",
        "from nltk.stem import WordNetLemmatizer\n",
        "import string \n",
        "import warnings\n",
        "from gensim.models import Word2Vec"
      ],
      "metadata": {
        "id": "8gc21SfCdnt1"
      },
      "execution_count": 79,
      "outputs": []
    },
    {
      "cell_type": "code",
      "source": [
        "warnings.filterwarnings(action=\"ignore\", category = UserWarning, module=\"gensim\")"
      ],
      "metadata": {
        "id": "D4xvt4xXeHh7"
      },
      "execution_count": 58,
      "outputs": []
    },
    {
      "cell_type": "code",
      "source": [
        "import wikipedia\n",
        "from wikipedia import search,page"
      ],
      "metadata": {
        "id": "AyYFHfhGeNEm"
      },
      "execution_count": 59,
      "outputs": []
    },
    {
      "cell_type": "code",
      "source": [
        "titles = search('data science')"
      ],
      "metadata": {
        "id": "VUzImSnheWal"
      },
      "execution_count": 62,
      "outputs": []
    },
    {
      "cell_type": "code",
      "source": [
        "wikipage = page(titles[0])"
      ],
      "metadata": {
        "id": "JFyPWAtreblh"
      },
      "execution_count": 64,
      "outputs": []
    },
    {
      "cell_type": "code",
      "source": [
        "wikipage.content"
      ],
      "metadata": {
        "colab": {
          "base_uri": "https://localhost:8080/",
          "height": 122
        },
        "id": "6NSMiUlUeclf",
        "outputId": "18dd9a56-5db0-4e0a-9738-57ad26485e0f"
      },
      "execution_count": 65,
      "outputs": [
        {
          "output_type": "execute_result",
          "data": {
            "text/plain": [
              "'Data science is an interdisciplinary field that uses scientific methods, processes, algorithms and systems to extract or extrapolate knowledge and insights from noisy, structured and unstructured data, and apply knowledge from data across a broad range of application domains. Data science is related to data mining, machine learning, big data, computational statistics and analytics.Data science is a \"concept to unify statistics, data analysis, informatics, and their related methods\" in order to \"understand and analyse actual phenomena\" with data. It uses techniques and theories drawn from many fields within the context of mathematics, statistics, computer science, information science, and domain knowledge. However, data science is different from computer science and information science. Turing Award winner Jim Gray imagined data science as a \"fourth paradigm\" of science (empirical, theoretical, computational, and now data-driven) and asserted that \"everything about science is changing because of the impact of information technology\" and the data deluge.A data scientist is someone who creates programming code and combines it with statistical knowledge to create insights from data.\\n\\n\\n== Foundations ==\\nData science is an interdisciplinary field focused on extracting knowledge from typically large data sets and applying the knowledge and insights from that data to solve problems in a wide range of application domains. The field encompasses preparing data for analysis, formulating data science problems, analyzing data, developing data-driven solutions, and presenting findings to inform high-level decisions in a broad range of application domains. As such, it incorporates skills from computer science, statistics, information science, mathematics, data visualization, information visualization, data sonification, data integration, graphic design, complex systems, communication and business. Statistician Nathan Yau, drawing on Ben Fry, also links data science to human–computer interaction: users should be able to intuitively control and explore data. In 2015, the American Statistical Association identified database management, statistics and machine learning, and distributed and parallel systems as the three emerging foundational professional communities.\\n\\n\\n=== Relationship to statistics ===\\nMany statisticians, including Nate Silver, have argued that data science is not a new field, but rather another name for statistics. Others argue that data science is distinct from statistics because it focuses on problems and techniques unique to digital data. Vasant Dhar writes that statistics emphasizes quantitative data and description. In contrast, data science deals with quantitative and qualitative data (e.g. from images, text, sensors, transactions or customer information, etc) and emphasizes prediction and action. Andrew Gelman of Columbia University has described statistics as a nonessential part of data science.Stanford professor David Donoho writes that data science is not distinguished from statistics by the size of datasets or use of computing and that many graduate programs misleadingly advertise their analytics and statistics training as the essence of a data-science program. He describes data science as an applied field growing out of traditional statistics.\\n\\n\\n== Etymology ==\\n\\n\\n=== Early usage ===\\nIn 1962, John Tukey described a field he called \"data analysis\", which resembles modern data science. In 1985, in a lecture given to the Chinese Academy of Sciences in Beijing, C. F. Jeff Wu used the term \"data science\" for the first time as an alternative name for statistics. Later, attendees at a 1992 statistics symposium at the University of Montpellier II acknowledged the emergence of a new discipline focused on data of various origins and forms, combining established concepts and principles of statistics and data analysis with computing.The term \"data science\" has been traced back to 1974, when Peter Naur proposed it as an alternative name for computer science. In 1996, the International Federation of Classification Societies became the first conference to specifically feature data science as a topic. However, the definition was still in flux. After the 1985 lecture at the Chinese Academy of Sciences in Beijing, in 1997 C. F. Jeff Wu again suggested that statistics should be renamed data science. He reasoned that a new name would help statistics shed inaccurate stereotypes, such as being synonymous with accounting or limited to describing data. In 1998, Hayashi Chikio argued for data science as a new, interdisciplinary concept, with three aspects: data design, collection, and analysis.During the 1990s, popular terms for the process of finding patterns in datasets (which were increasingly large) included \"knowledge discovery\" and \"data mining\".\\n\\n\\n=== Modern usage ===\\nIn 2012, technologists Thomas H. Davenport and DJ Patil declared \"Data Scientist: The Sexiest Job of the 21st Century\", a catch-phrase that was picked up even by major-city newspapers like the New York Times and the Boston Globe. A decade later, they reaffirmed it, stating \"the job is more in demand than ever with employers\".The modern conception of data science as an independent discipline is sometimes attributed to William S. Cleveland. In a 2001 paper, he advocated an expansion of statistics beyond theory into technical areas; because this would significantly change the field, it warranted a new name. \"Data science\" became more widely used in the next few years: in 2002, the Committee on Data for Science and Technology launched Data Science Journal. In 2003, Columbia University launched The Journal of Data Science. In 2014, the American Statistical Association\\'s Section on Statistical Learning and Data Mining changed its name to the Section on Statistical Learning and Data Science, reflecting the ascendant popularity of data science.The professional title of \"data scientist\" has been attributed to DJ Patil and Jeff Hammerbacher in 2008. Though it was used by the National Science Board in their 2005 report \"Long-Lived Digital Data Collections: Enabling Research and Education in the 21st Century\", it referred broadly to any key role in managing a digital data collection.There is still no consensus on the definition of data science, and it is considered by some to be a buzzword. Big data is a related marketing term. Data scientists are responsible for breaking down big data into usable information and creating software and algorithms that help companies and organizations determine optimal operations.\\n\\n\\n== See also ==\\nOpen Data Science Conference\\nScientific Data\\nWomen in Data\\n\\n\\n== References =='"
            ],
            "application/vnd.google.colaboratory.intrinsic+json": {
              "type": "string"
            }
          },
          "metadata": {},
          "execution_count": 65
        }
      ]
    },
    {
      "cell_type": "code",
      "source": [
        "wikipage.categories"
      ],
      "metadata": {
        "colab": {
          "base_uri": "https://localhost:8080/"
        },
        "id": "2iCBOXtme1gj",
        "outputId": "ce01e6e7-0734-421f-aedc-e714120adf9e"
      },
      "execution_count": 66,
      "outputs": [
        {
          "output_type": "execute_result",
          "data": {
            "text/plain": [
              "['Articles with short description',\n",
              " 'Computational fields of study',\n",
              " 'Computer occupations',\n",
              " 'Data analysis',\n",
              " 'Information science',\n",
              " 'Short description matches Wikidata',\n",
              " 'Use dmy dates from August 2021']"
            ]
          },
          "metadata": {},
          "execution_count": 66
        }
      ]
    },
    {
      "cell_type": "code",
      "source": [
        "wikipedia.summary(wikipage, sentences=1)"
      ],
      "metadata": {
        "colab": {
          "base_uri": "https://localhost:8080/",
          "height": 35
        },
        "id": "qDgdzxdSe6Dd",
        "outputId": "cc9cf2d8-731a-46f0-c426-d831dece6daa"
      },
      "execution_count": 69,
      "outputs": [
        {
          "output_type": "execute_result",
          "data": {
            "text/plain": [
              "'This page provides supplementary data to the article properties of water.'"
            ],
            "application/vnd.google.colaboratory.intrinsic+json": {
              "type": "string"
            }
          },
          "metadata": {},
          "execution_count": 69
        }
      ]
    },
    {
      "cell_type": "code",
      "source": [
        "search('data science')"
      ],
      "metadata": {
        "colab": {
          "base_uri": "https://localhost:8080/"
        },
        "id": "-ODqqjaFfAu-",
        "outputId": "f2622adf-e7b9-4a1b-cd52-ed85df971464"
      },
      "execution_count": 70,
      "outputs": [
        {
          "output_type": "execute_result",
          "data": {
            "text/plain": [
              "['Data science',\n",
              " 'Data',\n",
              " 'Data type',\n",
              " 'Data (computer science)',\n",
              " 'Data analysis',\n",
              " 'Master in Data Science',\n",
              " 'Big data',\n",
              " 'Data structure',\n",
              " 'Computer science',\n",
              " 'Branches of science']"
            ]
          },
          "metadata": {},
          "execution_count": 70
        }
      ]
    },
    {
      "cell_type": "code",
      "source": [
        "def preprocessing(text):\n",
        "  result=[]\n",
        "  sent = sent_tokenize(text)\n",
        "  for sentence in sent:\n",
        "    stopw = stopwords.words('english')\n",
        "    words = word_tokenize(sentence)\n",
        "    lemma = WordNetLemmatizer()\n",
        "    tokens = [w for w in words if w.lower() not in string.punctuation]\n",
        "    tokens = [w for w in tokens if w not in stopw]\n",
        "    tokens = [w for w in tokens if len(w)>=3]\n",
        "    tokens = [lemma.lemmatize(word) for word in tokens]\n",
        "    result +=[tokens]\n",
        "\n",
        "  return result\n"
      ],
      "metadata": {
        "id": "qWwO1RFafSCG"
      },
      "execution_count": 75,
      "outputs": []
    },
    {
      "cell_type": "code",
      "source": [
        "text_p = preprocessing(wikipage.content)"
      ],
      "metadata": {
        "id": "mCwpDNE_hsml"
      },
      "execution_count": 76,
      "outputs": []
    },
    {
      "cell_type": "code",
      "source": [
        "text_p"
      ],
      "metadata": {
        "colab": {
          "base_uri": "https://localhost:8080/"
        },
        "id": "QvA-IZrYiP5K",
        "outputId": "f45f5e73-3cb1-4325-9bd9-c9da75486acf"
      },
      "execution_count": 77,
      "outputs": [
        {
          "output_type": "execute_result",
          "data": {
            "text/plain": [
              "[['Data',\n",
              "  'science',\n",
              "  'interdisciplinary',\n",
              "  'field',\n",
              "  'us',\n",
              "  'scientific',\n",
              "  'method',\n",
              "  'process',\n",
              "  'algorithm',\n",
              "  'system',\n",
              "  'extract',\n",
              "  'extrapolate',\n",
              "  'knowledge',\n",
              "  'insight',\n",
              "  'noisy',\n",
              "  'structured',\n",
              "  'unstructured',\n",
              "  'data',\n",
              "  'apply',\n",
              "  'knowledge',\n",
              "  'data',\n",
              "  'across',\n",
              "  'broad',\n",
              "  'range',\n",
              "  'application',\n",
              "  'domain'],\n",
              " ['Data',\n",
              "  'science',\n",
              "  'related',\n",
              "  'data',\n",
              "  'mining',\n",
              "  'machine',\n",
              "  'learning',\n",
              "  'big',\n",
              "  'data',\n",
              "  'computational',\n",
              "  'statistic',\n",
              "  'analytics.Data',\n",
              "  'science',\n",
              "  'concept',\n",
              "  'unify',\n",
              "  'statistic',\n",
              "  'data',\n",
              "  'analysis',\n",
              "  'informatics',\n",
              "  'related',\n",
              "  'method',\n",
              "  'order',\n",
              "  'understand',\n",
              "  'analyse',\n",
              "  'actual',\n",
              "  'phenomenon',\n",
              "  'data'],\n",
              " ['us',\n",
              "  'technique',\n",
              "  'theory',\n",
              "  'drawn',\n",
              "  'many',\n",
              "  'field',\n",
              "  'within',\n",
              "  'context',\n",
              "  'mathematics',\n",
              "  'statistic',\n",
              "  'computer',\n",
              "  'science',\n",
              "  'information',\n",
              "  'science',\n",
              "  'domain',\n",
              "  'knowledge'],\n",
              " ['However',\n",
              "  'data',\n",
              "  'science',\n",
              "  'different',\n",
              "  'computer',\n",
              "  'science',\n",
              "  'information',\n",
              "  'science'],\n",
              " ['Turing',\n",
              "  'Award',\n",
              "  'winner',\n",
              "  'Jim',\n",
              "  'Gray',\n",
              "  'imagined',\n",
              "  'data',\n",
              "  'science',\n",
              "  'fourth',\n",
              "  'paradigm',\n",
              "  'science',\n",
              "  'empirical',\n",
              "  'theoretical',\n",
              "  'computational',\n",
              "  'data-driven',\n",
              "  'asserted',\n",
              "  'everything',\n",
              "  'science',\n",
              "  'changing',\n",
              "  'impact',\n",
              "  'information',\n",
              "  'technology',\n",
              "  'data',\n",
              "  'deluge.A',\n",
              "  'data',\n",
              "  'scientist',\n",
              "  'someone',\n",
              "  'creates',\n",
              "  'programming',\n",
              "  'code',\n",
              "  'combine',\n",
              "  'statistical',\n",
              "  'knowledge',\n",
              "  'create',\n",
              "  'insight',\n",
              "  'data'],\n",
              " ['Foundations',\n",
              "  'Data',\n",
              "  'science',\n",
              "  'interdisciplinary',\n",
              "  'field',\n",
              "  'focused',\n",
              "  'extracting',\n",
              "  'knowledge',\n",
              "  'typically',\n",
              "  'large',\n",
              "  'data',\n",
              "  'set',\n",
              "  'applying',\n",
              "  'knowledge',\n",
              "  'insight',\n",
              "  'data',\n",
              "  'solve',\n",
              "  'problem',\n",
              "  'wide',\n",
              "  'range',\n",
              "  'application',\n",
              "  'domain'],\n",
              " ['The',\n",
              "  'field',\n",
              "  'encompasses',\n",
              "  'preparing',\n",
              "  'data',\n",
              "  'analysis',\n",
              "  'formulating',\n",
              "  'data',\n",
              "  'science',\n",
              "  'problem',\n",
              "  'analyzing',\n",
              "  'data',\n",
              "  'developing',\n",
              "  'data-driven',\n",
              "  'solution',\n",
              "  'presenting',\n",
              "  'finding',\n",
              "  'inform',\n",
              "  'high-level',\n",
              "  'decision',\n",
              "  'broad',\n",
              "  'range',\n",
              "  'application',\n",
              "  'domain'],\n",
              " ['incorporates',\n",
              "  'skill',\n",
              "  'computer',\n",
              "  'science',\n",
              "  'statistic',\n",
              "  'information',\n",
              "  'science',\n",
              "  'mathematics',\n",
              "  'data',\n",
              "  'visualization',\n",
              "  'information',\n",
              "  'visualization',\n",
              "  'data',\n",
              "  'sonification',\n",
              "  'data',\n",
              "  'integration',\n",
              "  'graphic',\n",
              "  'design',\n",
              "  'complex',\n",
              "  'system',\n",
              "  'communication',\n",
              "  'business'],\n",
              " ['Statistician',\n",
              "  'Nathan',\n",
              "  'Yau',\n",
              "  'drawing',\n",
              "  'Ben',\n",
              "  'Fry',\n",
              "  'also',\n",
              "  'link',\n",
              "  'data',\n",
              "  'science',\n",
              "  'human–computer',\n",
              "  'interaction',\n",
              "  'user',\n",
              "  'able',\n",
              "  'intuitively',\n",
              "  'control',\n",
              "  'explore',\n",
              "  'data'],\n",
              " ['2015',\n",
              "  'American',\n",
              "  'Statistical',\n",
              "  'Association',\n",
              "  'identified',\n",
              "  'database',\n",
              "  'management',\n",
              "  'statistic',\n",
              "  'machine',\n",
              "  'learning',\n",
              "  'distributed',\n",
              "  'parallel',\n",
              "  'system',\n",
              "  'three',\n",
              "  'emerging',\n",
              "  'foundational',\n",
              "  'professional',\n",
              "  'community'],\n",
              " ['===',\n",
              "  'Relationship',\n",
              "  'statistic',\n",
              "  '===',\n",
              "  'Many',\n",
              "  'statistician',\n",
              "  'including',\n",
              "  'Nate',\n",
              "  'Silver',\n",
              "  'argued',\n",
              "  'data',\n",
              "  'science',\n",
              "  'new',\n",
              "  'field',\n",
              "  'rather',\n",
              "  'another',\n",
              "  'name',\n",
              "  'statistic'],\n",
              " ['Others',\n",
              "  'argue',\n",
              "  'data',\n",
              "  'science',\n",
              "  'distinct',\n",
              "  'statistic',\n",
              "  'focus',\n",
              "  'problem',\n",
              "  'technique',\n",
              "  'unique',\n",
              "  'digital',\n",
              "  'data'],\n",
              " ['Vasant',\n",
              "  'Dhar',\n",
              "  'writes',\n",
              "  'statistic',\n",
              "  'emphasizes',\n",
              "  'quantitative',\n",
              "  'data',\n",
              "  'description'],\n",
              " ['contrast',\n",
              "  'data',\n",
              "  'science',\n",
              "  'deal',\n",
              "  'quantitative',\n",
              "  'qualitative',\n",
              "  'data',\n",
              "  'e.g'],\n",
              " ['image',\n",
              "  'text',\n",
              "  'sensor',\n",
              "  'transaction',\n",
              "  'customer',\n",
              "  'information',\n",
              "  'etc',\n",
              "  'emphasizes',\n",
              "  'prediction',\n",
              "  'action'],\n",
              " ['Andrew',\n",
              "  'Gelman',\n",
              "  'Columbia',\n",
              "  'University',\n",
              "  'described',\n",
              "  'statistic',\n",
              "  'nonessential',\n",
              "  'part',\n",
              "  'data',\n",
              "  'science.Stanford',\n",
              "  'professor',\n",
              "  'David',\n",
              "  'Donoho',\n",
              "  'writes',\n",
              "  'data',\n",
              "  'science',\n",
              "  'distinguished',\n",
              "  'statistic',\n",
              "  'size',\n",
              "  'datasets',\n",
              "  'use',\n",
              "  'computing',\n",
              "  'many',\n",
              "  'graduate',\n",
              "  'program',\n",
              "  'misleadingly',\n",
              "  'advertise',\n",
              "  'analytics',\n",
              "  'statistic',\n",
              "  'training',\n",
              "  'essence',\n",
              "  'data-science',\n",
              "  'program'],\n",
              " ['describes',\n",
              "  'data',\n",
              "  'science',\n",
              "  'applied',\n",
              "  'field',\n",
              "  'growing',\n",
              "  'traditional',\n",
              "  'statistic'],\n",
              " ['Etymology',\n",
              "  '===',\n",
              "  'Early',\n",
              "  'usage',\n",
              "  '===',\n",
              "  '1962',\n",
              "  'John',\n",
              "  'Tukey',\n",
              "  'described',\n",
              "  'field',\n",
              "  'called',\n",
              "  'data',\n",
              "  'analysis',\n",
              "  'resembles',\n",
              "  'modern',\n",
              "  'data',\n",
              "  'science'],\n",
              " ['1985',\n",
              "  'lecture',\n",
              "  'given',\n",
              "  'Chinese',\n",
              "  'Academy',\n",
              "  'Sciences',\n",
              "  'Beijing',\n",
              "  'Jeff',\n",
              "  'used',\n",
              "  'term',\n",
              "  'data',\n",
              "  'science',\n",
              "  'first',\n",
              "  'time',\n",
              "  'alternative',\n",
              "  'name',\n",
              "  'statistic'],\n",
              " ['Later',\n",
              "  'attendee',\n",
              "  '1992',\n",
              "  'statistic',\n",
              "  'symposium',\n",
              "  'University',\n",
              "  'Montpellier',\n",
              "  'acknowledged',\n",
              "  'emergence',\n",
              "  'new',\n",
              "  'discipline',\n",
              "  'focused',\n",
              "  'data',\n",
              "  'various',\n",
              "  'origin',\n",
              "  'form',\n",
              "  'combining',\n",
              "  'established',\n",
              "  'concept',\n",
              "  'principle',\n",
              "  'statistic',\n",
              "  'data',\n",
              "  'analysis',\n",
              "  'computing.The',\n",
              "  'term',\n",
              "  'data',\n",
              "  'science',\n",
              "  'traced',\n",
              "  'back',\n",
              "  '1974',\n",
              "  'Peter',\n",
              "  'Naur',\n",
              "  'proposed',\n",
              "  'alternative',\n",
              "  'name',\n",
              "  'computer',\n",
              "  'science'],\n",
              " ['1996',\n",
              "  'International',\n",
              "  'Federation',\n",
              "  'Classification',\n",
              "  'Societies',\n",
              "  'became',\n",
              "  'first',\n",
              "  'conference',\n",
              "  'specifically',\n",
              "  'feature',\n",
              "  'data',\n",
              "  'science',\n",
              "  'topic'],\n",
              " ['However', 'definition', 'still', 'flux'],\n",
              " ['After',\n",
              "  '1985',\n",
              "  'lecture',\n",
              "  'Chinese',\n",
              "  'Academy',\n",
              "  'Sciences',\n",
              "  'Beijing',\n",
              "  '1997',\n",
              "  'Jeff',\n",
              "  'suggested',\n",
              "  'statistic',\n",
              "  'renamed',\n",
              "  'data',\n",
              "  'science'],\n",
              " ['reasoned',\n",
              "  'new',\n",
              "  'name',\n",
              "  'would',\n",
              "  'help',\n",
              "  'statistic',\n",
              "  'shed',\n",
              "  'inaccurate',\n",
              "  'stereotype',\n",
              "  'synonymous',\n",
              "  'accounting',\n",
              "  'limited',\n",
              "  'describing',\n",
              "  'data'],\n",
              " ['1998',\n",
              "  'Hayashi',\n",
              "  'Chikio',\n",
              "  'argued',\n",
              "  'data',\n",
              "  'science',\n",
              "  'new',\n",
              "  'interdisciplinary',\n",
              "  'concept',\n",
              "  'three',\n",
              "  'aspect',\n",
              "  'data',\n",
              "  'design',\n",
              "  'collection',\n",
              "  'analysis.During',\n",
              "  '1990s',\n",
              "  'popular',\n",
              "  'term',\n",
              "  'process',\n",
              "  'finding',\n",
              "  'pattern',\n",
              "  'datasets',\n",
              "  'increasingly',\n",
              "  'large',\n",
              "  'included',\n",
              "  'knowledge',\n",
              "  'discovery',\n",
              "  'data',\n",
              "  'mining'],\n",
              " ['===',\n",
              "  'Modern',\n",
              "  'usage',\n",
              "  '===',\n",
              "  '2012',\n",
              "  'technologist',\n",
              "  'Thomas',\n",
              "  'Davenport',\n",
              "  'Patil',\n",
              "  'declared',\n",
              "  'Data',\n",
              "  'Scientist',\n",
              "  'The',\n",
              "  'Sexiest',\n",
              "  'Job',\n",
              "  '21st',\n",
              "  'Century',\n",
              "  'catch-phrase',\n",
              "  'picked',\n",
              "  'even',\n",
              "  'major-city',\n",
              "  'newspaper',\n",
              "  'like',\n",
              "  'New',\n",
              "  'York',\n",
              "  'Times',\n",
              "  'Boston',\n",
              "  'Globe'],\n",
              " ['decade',\n",
              "  'later',\n",
              "  'reaffirmed',\n",
              "  'stating',\n",
              "  'job',\n",
              "  'demand',\n",
              "  'ever',\n",
              "  'employer',\n",
              "  '.The',\n",
              "  'modern',\n",
              "  'conception',\n",
              "  'data',\n",
              "  'science',\n",
              "  'independent',\n",
              "  'discipline',\n",
              "  'sometimes',\n",
              "  'attributed',\n",
              "  'William',\n",
              "  'Cleveland'],\n",
              " ['2001',\n",
              "  'paper',\n",
              "  'advocated',\n",
              "  'expansion',\n",
              "  'statistic',\n",
              "  'beyond',\n",
              "  'theory',\n",
              "  'technical',\n",
              "  'area',\n",
              "  'would',\n",
              "  'significantly',\n",
              "  'change',\n",
              "  'field',\n",
              "  'warranted',\n",
              "  'new',\n",
              "  'name'],\n",
              " ['Data',\n",
              "  'science',\n",
              "  'became',\n",
              "  'widely',\n",
              "  'used',\n",
              "  'next',\n",
              "  'year',\n",
              "  '2002',\n",
              "  'Committee',\n",
              "  'Data',\n",
              "  'Science',\n",
              "  'Technology',\n",
              "  'launched',\n",
              "  'Data',\n",
              "  'Science',\n",
              "  'Journal'],\n",
              " ['2003',\n",
              "  'Columbia',\n",
              "  'University',\n",
              "  'launched',\n",
              "  'The',\n",
              "  'Journal',\n",
              "  'Data',\n",
              "  'Science'],\n",
              " ['2014',\n",
              "  'American',\n",
              "  'Statistical',\n",
              "  'Association',\n",
              "  'Section',\n",
              "  'Statistical',\n",
              "  'Learning',\n",
              "  'Data',\n",
              "  'Mining',\n",
              "  'changed',\n",
              "  'name',\n",
              "  'Section',\n",
              "  'Statistical',\n",
              "  'Learning',\n",
              "  'Data',\n",
              "  'Science',\n",
              "  'reflecting',\n",
              "  'ascendant',\n",
              "  'popularity',\n",
              "  'data',\n",
              "  'science.The',\n",
              "  'professional',\n",
              "  'title',\n",
              "  'data',\n",
              "  'scientist',\n",
              "  'attributed',\n",
              "  'Patil',\n",
              "  'Jeff',\n",
              "  'Hammerbacher',\n",
              "  '2008'],\n",
              " ['Though',\n",
              "  'used',\n",
              "  'National',\n",
              "  'Science',\n",
              "  'Board',\n",
              "  '2005',\n",
              "  'report',\n",
              "  'Long-Lived',\n",
              "  'Digital',\n",
              "  'Data',\n",
              "  'Collections',\n",
              "  'Enabling',\n",
              "  'Research',\n",
              "  'Education',\n",
              "  '21st',\n",
              "  'Century',\n",
              "  'referred',\n",
              "  'broadly',\n",
              "  'key',\n",
              "  'role',\n",
              "  'managing',\n",
              "  'digital',\n",
              "  'data',\n",
              "  'collection.There',\n",
              "  'still',\n",
              "  'consensus',\n",
              "  'definition',\n",
              "  'data',\n",
              "  'science',\n",
              "  'considered',\n",
              "  'buzzword'],\n",
              " ['Big', 'data', 'related', 'marketing', 'term'],\n",
              " ['Data',\n",
              "  'scientist',\n",
              "  'responsible',\n",
              "  'breaking',\n",
              "  'big',\n",
              "  'data',\n",
              "  'usable',\n",
              "  'information',\n",
              "  'creating',\n",
              "  'software',\n",
              "  'algorithm',\n",
              "  'help',\n",
              "  'company',\n",
              "  'organization',\n",
              "  'determine',\n",
              "  'optimal',\n",
              "  'operation'],\n",
              " ['See',\n",
              "  'also',\n",
              "  'Open',\n",
              "  'Data',\n",
              "  'Science',\n",
              "  'Conference',\n",
              "  'Scientific',\n",
              "  'Data',\n",
              "  'Women',\n",
              "  'Data',\n",
              "  'References']]"
            ]
          },
          "metadata": {},
          "execution_count": 77
        }
      ]
    },
    {
      "cell_type": "code",
      "source": [
        "min_count=2\n",
        "size=50\n",
        "window = 4"
      ],
      "metadata": {
        "id": "wzQJyPO0iZ2e"
      },
      "execution_count": 78,
      "outputs": []
    },
    {
      "cell_type": "code",
      "source": [
        "wikimodel = Word2Vec(text_p,min_count=min_count,size=size, window=window)"
      ],
      "metadata": {
        "colab": {
          "base_uri": "https://localhost:8080/"
        },
        "id": "pH0nfbMki8bM",
        "outputId": "5650bc83-e5af-4fbc-9f0f-0e23a9a7b326"
      },
      "execution_count": 80,
      "outputs": [
        {
          "output_type": "stream",
          "name": "stderr",
          "text": [
            "WARNING:gensim.models.base_any2vec:consider setting layer size to a multiple of 4 for greater performance\n",
            "WARNING:gensim.models.base_any2vec:under 10 jobs per worker: consider setting a smaller `batch_words' for smoother alpha decay\n"
          ]
        }
      ]
    },
    {
      "cell_type": "code",
      "source": [
        "vocab = list(wikimodel.wv.vocab.keys())"
      ],
      "metadata": {
        "id": "pEM_gcjOjZOJ"
      },
      "execution_count": 81,
      "outputs": []
    },
    {
      "cell_type": "code",
      "source": [
        "vocab"
      ],
      "metadata": {
        "colab": {
          "base_uri": "https://localhost:8080/"
        },
        "id": "DMYu-Z77jh_t",
        "outputId": "999d9983-8ef9-45d3-f761-808c9b6cb5d0"
      },
      "execution_count": 82,
      "outputs": [
        {
          "output_type": "execute_result",
          "data": {
            "text/plain": [
              "['Data',\n",
              " 'science',\n",
              " 'interdisciplinary',\n",
              " 'field',\n",
              " 'us',\n",
              " 'method',\n",
              " 'process',\n",
              " 'algorithm',\n",
              " 'system',\n",
              " 'knowledge',\n",
              " 'insight',\n",
              " 'data',\n",
              " 'broad',\n",
              " 'range',\n",
              " 'application',\n",
              " 'domain',\n",
              " 'related',\n",
              " 'mining',\n",
              " 'machine',\n",
              " 'learning',\n",
              " 'big',\n",
              " 'computational',\n",
              " 'statistic',\n",
              " 'concept',\n",
              " 'analysis',\n",
              " 'technique',\n",
              " 'theory',\n",
              " 'many',\n",
              " 'mathematics',\n",
              " 'computer',\n",
              " 'information',\n",
              " 'However',\n",
              " 'data-driven',\n",
              " 'scientist',\n",
              " 'focused',\n",
              " 'large',\n",
              " 'problem',\n",
              " 'The',\n",
              " 'finding',\n",
              " 'visualization',\n",
              " 'design',\n",
              " 'also',\n",
              " 'American',\n",
              " 'Statistical',\n",
              " 'Association',\n",
              " 'three',\n",
              " 'professional',\n",
              " '===',\n",
              " 'argued',\n",
              " 'new',\n",
              " 'name',\n",
              " 'digital',\n",
              " 'writes',\n",
              " 'emphasizes',\n",
              " 'quantitative',\n",
              " 'Columbia',\n",
              " 'University',\n",
              " 'described',\n",
              " 'datasets',\n",
              " 'program',\n",
              " 'usage',\n",
              " 'modern',\n",
              " '1985',\n",
              " 'lecture',\n",
              " 'Chinese',\n",
              " 'Academy',\n",
              " 'Sciences',\n",
              " 'Beijing',\n",
              " 'Jeff',\n",
              " 'used',\n",
              " 'term',\n",
              " 'first',\n",
              " 'alternative',\n",
              " 'discipline',\n",
              " 'became',\n",
              " 'definition',\n",
              " 'still',\n",
              " 'would',\n",
              " 'help',\n",
              " 'Patil',\n",
              " '21st',\n",
              " 'Century',\n",
              " 'attributed',\n",
              " 'Science',\n",
              " 'launched',\n",
              " 'Journal',\n",
              " 'Section',\n",
              " 'Learning']"
            ]
          },
          "metadata": {},
          "execution_count": 82
        }
      ]
    },
    {
      "cell_type": "code",
      "source": [
        "wikimodel.wv.most_similar(positive = [\"learning\", \"launched\"], topn = 3)"
      ],
      "metadata": {
        "colab": {
          "base_uri": "https://localhost:8080/"
        },
        "id": "Q07XtSNmji9t",
        "outputId": "7466f5d6-2a80-4389-e019-1c0d02a7c121"
      },
      "execution_count": 86,
      "outputs": [
        {
          "output_type": "execute_result",
          "data": {
            "text/plain": [
              "[('discipline', 0.3585999011993408),\n",
              " ('Journal', 0.3546791672706604),\n",
              " ('technique', 0.32323315739631653)]"
            ]
          },
          "metadata": {},
          "execution_count": 86
        }
      ]
    },
    {
      "cell_type": "code",
      "source": [
        "print(wikimodel.wv.similarity(\"learning\", \"help\"))"
      ],
      "metadata": {
        "colab": {
          "base_uri": "https://localhost:8080/"
        },
        "id": "rDOIiE9Zj3aM",
        "outputId": "2665cdfa-04b8-4690-baf6-62b59664a340"
      },
      "execution_count": 89,
      "outputs": [
        {
          "output_type": "stream",
          "name": "stdout",
          "text": [
            "0.19113918\n"
          ]
        }
      ]
    },
    {
      "cell_type": "code",
      "source": [
        "print(wikimodel.wv.similarity(\"first\", \"three\"))"
      ],
      "metadata": {
        "colab": {
          "base_uri": "https://localhost:8080/"
        },
        "id": "jvfDoOUEkRSX",
        "outputId": "aca5b418-d94d-4aff-ce00-85e9cca1fe61"
      },
      "execution_count": 91,
      "outputs": [
        {
          "output_type": "stream",
          "name": "stdout",
          "text": [
            "-0.019562982\n"
          ]
        }
      ]
    },
    {
      "cell_type": "code",
      "source": [],
      "metadata": {
        "id": "D3_J3iIckZin"
      },
      "execution_count": null,
      "outputs": []
    }
  ]
}